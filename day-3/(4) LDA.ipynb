{
 "cells": [
  {
   "cell_type": "code",
   "execution_count": 1,
   "id": "6b24d7a2",
   "metadata": {
    "scrolled": true
   },
   "outputs": [],
   "source": [
    "# !pip install pyLDAvis\n",
    "# !pip install gensim"
   ]
  },
  {
   "cell_type": "code",
   "execution_count": 2,
   "id": "0cee98fc",
   "metadata": {},
   "outputs": [],
   "source": [
    "import re\n",
    "import numpy as np\n",
    "import pandas as  pd\n",
    "from pprint import pprint# Gensim\n",
    "import gensim\n",
    "import gensim.corpora as corpora\n",
    "from gensim.utils import simple_preprocess\n",
    "from gensim.models import CoherenceModel\n",
    "import spacy\n",
    "import pyLDAvis\n",
    "import pyLDAvis.gensim_models as gensimvis\n",
    "import matplotlib.pyplot as plt"
   ]
  },
  {
   "cell_type": "code",
   "execution_count": 3,
   "id": "fab4fcfa",
   "metadata": {},
   "outputs": [],
   "source": [
    "# NLTK Stop words\n",
    "from nltk.corpus import stopwords\n",
    "stop_words = stopwords.words('english')\n",
    "stop_words.extend(['from', 'subject', 're', 'edu', 'use'])"
   ]
  },
  {
   "cell_type": "code",
   "execution_count": 4,
   "id": "644ceaa7",
   "metadata": {},
   "outputs": [
    {
     "name": "stdout",
     "output_type": "stream",
     "text": [
      "['rec.autos' 'comp.sys.mac.hardware' 'comp.graphics' 'sci.space'\n",
      " 'talk.politics.guns' 'sci.med' 'comp.sys.ibm.pc.hardware'\n",
      " 'comp.os.ms-windows.misc' 'rec.motorcycles' 'talk.religion.misc'\n",
      " 'misc.forsale' 'alt.atheism' 'sci.electronics' 'comp.windows.x'\n",
      " 'rec.sport.hockey' 'rec.sport.baseball' 'soc.religion.christian'\n",
      " 'talk.politics.mideast' 'talk.politics.misc' 'sci.crypt']\n"
     ]
    },
    {
     "data": {
      "text/html": [
       "<div>\n",
       "<style scoped>\n",
       "    .dataframe tbody tr th:only-of-type {\n",
       "        vertical-align: middle;\n",
       "    }\n",
       "\n",
       "    .dataframe tbody tr th {\n",
       "        vertical-align: top;\n",
       "    }\n",
       "\n",
       "    .dataframe thead th {\n",
       "        text-align: right;\n",
       "    }\n",
       "</style>\n",
       "<table border=\"1\" class=\"dataframe\">\n",
       "  <thead>\n",
       "    <tr style=\"text-align: right;\">\n",
       "      <th></th>\n",
       "      <th>content</th>\n",
       "      <th>target</th>\n",
       "      <th>target_names</th>\n",
       "    </tr>\n",
       "  </thead>\n",
       "  <tbody>\n",
       "    <tr>\n",
       "      <th>0</th>\n",
       "      <td>From: lerxst@wam.umd.edu (where's my thing)\\nS...</td>\n",
       "      <td>7</td>\n",
       "      <td>rec.autos</td>\n",
       "    </tr>\n",
       "    <tr>\n",
       "      <th>1</th>\n",
       "      <td>From: guykuo@carson.u.washington.edu (Guy Kuo)...</td>\n",
       "      <td>4</td>\n",
       "      <td>comp.sys.mac.hardware</td>\n",
       "    </tr>\n",
       "    <tr>\n",
       "      <th>2</th>\n",
       "      <td>From: twillis@ec.ecn.purdue.edu (Thomas E Will...</td>\n",
       "      <td>4</td>\n",
       "      <td>comp.sys.mac.hardware</td>\n",
       "    </tr>\n",
       "    <tr>\n",
       "      <th>3</th>\n",
       "      <td>From: jgreen@amber (Joe Green)\\nSubject: Re: W...</td>\n",
       "      <td>1</td>\n",
       "      <td>comp.graphics</td>\n",
       "    </tr>\n",
       "    <tr>\n",
       "      <th>4</th>\n",
       "      <td>From: jcm@head-cfa.harvard.edu (Jonathan McDow...</td>\n",
       "      <td>14</td>\n",
       "      <td>sci.space</td>\n",
       "    </tr>\n",
       "  </tbody>\n",
       "</table>\n",
       "</div>"
      ],
      "text/plain": [
       "                                             content  target  \\\n",
       "0  From: lerxst@wam.umd.edu (where's my thing)\\nS...       7   \n",
       "1  From: guykuo@carson.u.washington.edu (Guy Kuo)...       4   \n",
       "2  From: twillis@ec.ecn.purdue.edu (Thomas E Will...       4   \n",
       "3  From: jgreen@amber (Joe Green)\\nSubject: Re: W...       1   \n",
       "4  From: jcm@head-cfa.harvard.edu (Jonathan McDow...      14   \n",
       "\n",
       "            target_names  \n",
       "0              rec.autos  \n",
       "1  comp.sys.mac.hardware  \n",
       "2  comp.sys.mac.hardware  \n",
       "3          comp.graphics  \n",
       "4              sci.space  "
      ]
     },
     "execution_count": 4,
     "metadata": {},
     "output_type": "execute_result"
    }
   ],
   "source": [
    "# LoadDataset\n",
    "df=pd.read_json('newsgroups.json')\n",
    "print(df.target_names.unique())\n",
    "df.head()"
   ]
  },
  {
   "cell_type": "code",
   "execution_count": 5,
   "id": "14cc9dd2",
   "metadata": {},
   "outputs": [
    {
     "data": {
      "text/plain": [
       "(11314, 3)"
      ]
     },
     "execution_count": 5,
     "metadata": {},
     "output_type": "execute_result"
    }
   ],
   "source": [
    "df.shape"
   ]
  },
  {
   "cell_type": "markdown",
   "id": "ef3935f1",
   "metadata": {},
   "source": [
    "### Initial Data Cleaning"
   ]
  },
  {
   "cell_type": "code",
   "execution_count": 6,
   "id": "c4eb680d",
   "metadata": {},
   "outputs": [
    {
     "name": "stderr",
     "output_type": "stream",
     "text": [
      "<>:4: DeprecationWarning: invalid escape sequence \\S\n",
      "<>:4: DeprecationWarning: invalid escape sequence \\S\n",
      "C:\\Users\\Raymart L. Perillo\\AppData\\Local\\Temp\\ipykernel_2432\\4046014017.py:4: DeprecationWarning: invalid escape sequence \\S\n",
      "  data = [re.sub('\\S*@\\S*\\s?', '', sent) for sent in data]\n"
     ]
    }
   ],
   "source": [
    "# Convert to list \n",
    "data = df.content.values.tolist()  \n",
    "# Remove Emails \n",
    "data = [re.sub('\\S*@\\S*\\s?', '', sent) for sent in data]  "
   ]
  },
  {
   "cell_type": "code",
   "execution_count": 7,
   "id": "5792afd4",
   "metadata": {},
   "outputs": [
    {
     "name": "stderr",
     "output_type": "stream",
     "text": [
      "<>:2: DeprecationWarning: invalid escape sequence \\s\n",
      "<>:2: DeprecationWarning: invalid escape sequence \\s\n",
      "C:\\Users\\Raymart L. Perillo\\AppData\\Local\\Temp\\ipykernel_2432\\1119172684.py:2: DeprecationWarning: invalid escape sequence \\s\n",
      "  data = [re.sub('\\s+', ' ', sent) for sent in data]\n"
     ]
    }
   ],
   "source": [
    "# Remove new line characters \n",
    "data = [re.sub('\\s+', ' ', sent) for sent in data]  "
   ]
  },
  {
   "cell_type": "code",
   "execution_count": 8,
   "id": "00c3910d",
   "metadata": {},
   "outputs": [
    {
     "name": "stdout",
     "output_type": "stream",
     "text": [
      "['From: (wheres my thing) Subject: WHAT car is this!? Nntp-Posting-Host: '\n",
      " 'rac3.wam.umd.edu Organization: University of Maryland, College Park Lines: '\n",
      " '15 I was wondering if anyone out there could enlighten me on this car I saw '\n",
      " 'the other day. It was a 2-door sports car, looked to be from the late 60s/ '\n",
      " 'early 70s. It was called a Bricklin. The doors were really small. In '\n",
      " 'addition, the front bumper was separate from the rest of the body. This is '\n",
      " 'all I know. If anyone can tellme a model name, engine specs, years of '\n",
      " 'production, where this car is made, history, or whatever info you have on '\n",
      " 'this funky looking car, please e-mail. Thanks, - IL ---- brought to you by '\n",
      " 'your neighborhood Lerxst ---- ']\n"
     ]
    }
   ],
   "source": [
    "# Remove distracting single quotes \n",
    "data = [re.sub(\"\\'\", \"\", sent) for sent in data]  \n",
    "pprint(data[:1])"
   ]
  },
  {
   "cell_type": "markdown",
   "id": "157d4434",
   "metadata": {},
   "source": [
    "### Tokenization"
   ]
  },
  {
   "cell_type": "code",
   "execution_count": 9,
   "id": "ada6bdec",
   "metadata": {},
   "outputs": [
    {
     "name": "stdout",
     "output_type": "stream",
     "text": [
      "[['from', 'wheres', 'my', 'thing', 'subject', 'what', 'car', 'is', 'this', 'nntp', 'posting', 'host', 'rac', 'wam', 'umd', 'edu', 'organization', 'university', 'of', 'maryland', 'college', 'park', 'lines', 'was', 'wondering', 'if', 'anyone', 'out', 'there', 'could', 'enlighten', 'me', 'on', 'this', 'car', 'saw', 'the', 'other', 'day', 'it', 'was', 'door', 'sports', 'car', 'looked', 'to', 'be', 'from', 'the', 'late', 'early', 'it', 'was', 'called', 'bricklin', 'the', 'doors', 'were', 'really', 'small', 'in', 'addition', 'the', 'front', 'bumper', 'was', 'separate', 'from', 'the', 'rest', 'of', 'the', 'body', 'this', 'is', 'all', 'know', 'if', 'anyone', 'can', 'tellme', 'model', 'name', 'engine', 'specs', 'years', 'of', 'production', 'where', 'this', 'car', 'is', 'made', 'history', 'or', 'whatever', 'info', 'you', 'have', 'on', 'this', 'funky', 'looking', 'car', 'please', 'mail', 'thanks', 'il', 'brought', 'to', 'you', 'by', 'your', 'neighborhood', 'lerxst']]\n"
     ]
    }
   ],
   "source": [
    "def sent_to_words(sentences):\n",
    "    for sentence in sentences:\n",
    "        yield(gensim.utils.simple_preprocess(str(sentence), deacc=True))            #deacc=True removes punctuations\n",
    "data_words = list(sent_to_words(data))\n",
    "print(data_words[:1])"
   ]
  },
  {
   "cell_type": "markdown",
   "id": "beb0d83c",
   "metadata": {},
   "source": [
    "### Build the bigram and trigram models"
   ]
  },
  {
   "cell_type": "code",
   "execution_count": 10,
   "id": "3751fd71",
   "metadata": {},
   "outputs": [],
   "source": [
    "bigram = gensim.models.Phrases(data_words, min_count=5, threshold=100) # higher threshold fewer phrases.\n",
    "trigram = gensim.models.Phrases(bigram[data_words], threshold=100)"
   ]
  },
  {
   "cell_type": "code",
   "execution_count": 11,
   "id": "fb776e78",
   "metadata": {},
   "outputs": [
    {
     "name": "stdout",
     "output_type": "stream",
     "text": [
      "['from', 'wheres', 'my', 'thing', 'subject', 'what', 'car', 'is', 'this', 'nntp_posting_host', 'rac_wam_umd_edu', 'organization', 'university', 'of', 'maryland_college_park', 'lines', 'was', 'wondering', 'if', 'anyone', 'out', 'there', 'could', 'enlighten', 'me', 'on', 'this', 'car', 'saw', 'the', 'other', 'day', 'it', 'was', 'door', 'sports', 'car', 'looked', 'to', 'be', 'from', 'the', 'late', 'early', 'it', 'was', 'called', 'bricklin', 'the', 'doors', 'were', 'really', 'small', 'in', 'addition', 'the', 'front_bumper', 'was', 'separate', 'from', 'the', 'rest', 'of', 'the', 'body', 'this', 'is', 'all', 'know', 'if', 'anyone', 'can', 'tellme', 'model', 'name', 'engine', 'specs', 'years', 'of', 'production', 'where', 'this', 'car', 'is', 'made', 'history', 'or', 'whatever', 'info', 'you', 'have', 'on', 'this', 'funky', 'looking', 'car', 'please', 'mail', 'thanks', 'il', 'brought', 'to', 'you', 'by', 'your', 'neighborhood', 'lerxst']\n"
     ]
    }
   ],
   "source": [
    "# Faster way to get a sentence clubbed as a trigram/bigram\n",
    "bigram_mod = gensim.models.phrases.Phraser(bigram)\n",
    "trigram_mod = gensim.models.phrases.Phraser(trigram)\n",
    "# See trigram example\n",
    "print(trigram_mod[bigram_mod[data_words[0]]])"
   ]
  },
  {
   "cell_type": "markdown",
   "id": "3574af38",
   "metadata": {},
   "source": [
    "### Define function for stopwords, bigrams, trigrams and lemmatization"
   ]
  },
  {
   "cell_type": "code",
   "execution_count": 12,
   "id": "45925a06",
   "metadata": {},
   "outputs": [],
   "source": [
    "def remove_stopwords(texts):\n",
    "    return [[word for word in simple_preprocess(str(doc)) if word not in stop_words] for doc in texts]\n",
    "\n",
    "def make_bigrams(texts):\n",
    "    return [bigram_mod[doc] for doc in texts]\n",
    "\n",
    "def make_trigrams(texts):\n",
    "    return [trigram_mod[bigram_mod[doc]] for doc in texts]\n",
    "\n",
    "def lemmatization(texts, allowed_postags=['NOUN', 'ADJ', 'VERB', 'ADV']):\n",
    "    \"\"\"https://spacy.io/api/annotation\"\"\"\n",
    "    texts_out = []\n",
    "    for sent in texts:\n",
    "        doc = nlp(\" \".join(sent)) \n",
    "        texts_out.append([token.lemma_ for token in doc if token.pos_ in allowed_postags])\n",
    "    return texts_out"
   ]
  },
  {
   "cell_type": "code",
   "execution_count": 13,
   "id": "662ee652",
   "metadata": {},
   "outputs": [],
   "source": [
    "# Remove Stop Words\n",
    "data_words_nostops = remove_stopwords(data_words)"
   ]
  },
  {
   "cell_type": "code",
   "execution_count": 14,
   "id": "41c9cb38",
   "metadata": {},
   "outputs": [],
   "source": [
    "# Form Bigrams\n",
    "data_words_bigrams = make_bigrams(data_words_nostops)"
   ]
  },
  {
   "cell_type": "code",
   "execution_count": 15,
   "id": "6694b4b9",
   "metadata": {},
   "outputs": [],
   "source": [
    "# Initialize spacy 'en' model, keeping only tagger component (for efficiency)\n",
    "# python3 -m spacy download en\n",
    "nlp = spacy.load('en_core_web_sm', disable=['parser', 'ner'])\n",
    "\n"
   ]
  },
  {
   "cell_type": "code",
   "execution_count": 16,
   "id": "6fbdc302",
   "metadata": {},
   "outputs": [
    {
     "name": "stdout",
     "output_type": "stream",
     "text": [
      "[['s', 'thing', 'car', 'nntp_poste', 'host', 'umd', 'organization', 'park', 'line', 'wonder', 'enlighten', 'car', 'see', 'day', 'door', 'sport', 'car', 'look', 'late', 'early', 'call', 'bricklin', 'door', 'really', 'small', 'addition', 'separate', 'rest', 'body', 'know', 'tellme', 'model', 'name', 'engine', 'spec', 'year', 'production', 'car', 'make', 'history', 'info', 'funky', 'look', 'car', 'mail', 'thank', 'bring', 'neighborhood', 'lerxst']]\n"
     ]
    }
   ],
   "source": [
    "# Do lemmatization keeping only noun, adj, vb, adv\n",
    "data_lemmatized = lemmatization(data_words_bigrams, allowed_postags=['NOUN', 'ADJ', 'VERB', 'ADV'])\n",
    "print(data_lemmatized[:1])"
   ]
  },
  {
   "cell_type": "code",
   "execution_count": 17,
   "id": "5b4694a8",
   "metadata": {},
   "outputs": [],
   "source": [
    "# Create Dictionary \n",
    "id2word = corpora.Dictionary(data_lemmatized)  "
   ]
  },
  {
   "cell_type": "code",
   "execution_count": 18,
   "id": "93dba04a",
   "metadata": {},
   "outputs": [],
   "source": [
    "# Create Corpus \n",
    "texts = data_lemmatized "
   ]
  },
  {
   "cell_type": "code",
   "execution_count": 19,
   "id": "813f76d2",
   "metadata": {},
   "outputs": [],
   "source": [
    "# Term Document Frequency \n",
    "corpus = [id2word.doc2bow(text) for text in texts]  "
   ]
  },
  {
   "cell_type": "code",
   "execution_count": 20,
   "id": "0f2578e2",
   "metadata": {},
   "outputs": [
    {
     "name": "stdout",
     "output_type": "stream",
     "text": [
      "[[(0, 1), (1, 1), (2, 1), (3, 1), (4, 1), (5, 5), (6, 1), (7, 2), (8, 1), (9, 1), (10, 1), (11, 1), (12, 1), (13, 1), (14, 1), (15, 1), (16, 1), (17, 1), (18, 1), (19, 2), (20, 1), (21, 1), (22, 1), (23, 1), (24, 1), (25, 1), (26, 1), (27, 1), (28, 1), (29, 1), (30, 1), (31, 1), (32, 1), (33, 1), (34, 1), (35, 1), (36, 1), (37, 1), (38, 1), (39, 1), (40, 1), (41, 1), (42, 1)]]\n"
     ]
    }
   ],
   "source": [
    "# View \n",
    "print(corpus[:1])"
   ]
  },
  {
   "cell_type": "code",
   "execution_count": 21,
   "id": "915256db",
   "metadata": {
    "scrolled": true
   },
   "outputs": [
    {
     "data": {
      "text/plain": [
       "[[('addition', 1),\n",
       "  ('body', 1),\n",
       "  ('bricklin', 1),\n",
       "  ('bring', 1),\n",
       "  ('call', 1),\n",
       "  ('car', 5),\n",
       "  ('day', 1),\n",
       "  ('door', 2),\n",
       "  ('early', 1),\n",
       "  ('engine', 1),\n",
       "  ('enlighten', 1),\n",
       "  ('funky', 1),\n",
       "  ('history', 1),\n",
       "  ('host', 1),\n",
       "  ('info', 1),\n",
       "  ('know', 1),\n",
       "  ('late', 1),\n",
       "  ('lerxst', 1),\n",
       "  ('line', 1),\n",
       "  ('look', 2),\n",
       "  ('mail', 1),\n",
       "  ('make', 1),\n",
       "  ('model', 1),\n",
       "  ('name', 1),\n",
       "  ('neighborhood', 1),\n",
       "  ('nntp_poste', 1),\n",
       "  ('organization', 1),\n",
       "  ('park', 1),\n",
       "  ('production', 1),\n",
       "  ('really', 1),\n",
       "  ('rest', 1),\n",
       "  ('s', 1),\n",
       "  ('see', 1),\n",
       "  ('separate', 1),\n",
       "  ('small', 1),\n",
       "  ('spec', 1),\n",
       "  ('sport', 1),\n",
       "  ('tellme', 1),\n",
       "  ('thank', 1),\n",
       "  ('thing', 1),\n",
       "  ('umd', 1),\n",
       "  ('wonder', 1),\n",
       "  ('year', 1)]]"
      ]
     },
     "execution_count": 21,
     "metadata": {},
     "output_type": "execute_result"
    }
   ],
   "source": [
    "[[(id2word[id], freq) for id, freq in cp] for cp in corpus[:1]]"
   ]
  },
  {
   "cell_type": "code",
   "execution_count": 22,
   "id": "f7de87e1",
   "metadata": {},
   "outputs": [],
   "source": [
    "lda_model = gensim.models.ldamodel.LdaModel(corpus=corpus,\n",
    "                                           id2word=id2word,\n",
    "                                           num_topics=8, \n",
    "                                           random_state=100,\n",
    "                                           update_every=1,\n",
    "                                           chunksize=100,\n",
    "                                           passes=10,\n",
    "                                           alpha='auto',\n",
    "                                           per_word_topics=True)"
   ]
  },
  {
   "cell_type": "code",
   "execution_count": 23,
   "id": "6b4f9cce",
   "metadata": {},
   "outputs": [
    {
     "name": "stdout",
     "output_type": "stream",
     "text": [
      "[(0,\n",
      "  '0.032*\"sale\" + 0.030*\"physical\" + 0.019*\"server\" + 0.016*\"item\" + '\n",
      "  '0.014*\"sell\" + 0.014*\"wing\" + 0.012*\"box\" + 0.012*\"direct\" + 0.012*\"nhl\" + '\n",
      "  '0.011*\"recommend\"'),\n",
      " (1,\n",
      "  '0.022*\"line\" + 0.011*\"organization\" + 0.011*\"use\" + 0.010*\"nntp_poste\" + '\n",
      "  '0.010*\"host\" + 0.010*\"get\" + 0.009*\"system\" + 0.008*\"drive\" + 0.008*\"need\" '\n",
      "  '+ 0.007*\"thank\"'),\n",
      " (2,\n",
      "  '0.015*\"write\" + 0.014*\"say\" + 0.011*\"people\" + 0.011*\"think\" + '\n",
      "  '0.011*\"article\" + 0.010*\"know\" + 0.010*\"make\" + 0.009*\"line\" + 0.008*\"go\" + '\n",
      "  '0.007*\"see\"'),\n",
      " (3,\n",
      "  '0.014*\"line\" + 0.014*\"go\" + 0.014*\"get\" + 0.014*\"year\" + 0.013*\"team\" + '\n",
      "  '0.013*\"game\" + 0.012*\"car\" + 0.009*\"good\" + 0.009*\"organization\" + '\n",
      "  '0.009*\"write\"'),\n",
      " (4,\n",
      "  '0.575*\"ax\" + 0.057*\"_\" + 0.018*\"c\" + 0.010*\"cx\" + 0.008*\"rlk\" + 0.005*\"sj\" '\n",
      "  '+ 0.005*\"m\" + 0.003*\"mf\" + 0.003*\"nei\" + 0.003*\"mu\"'),\n",
      " (5,\n",
      "  '0.015*\"government\" + 0.014*\"gun\" + 0.014*\"child\" + 0.013*\"kill\" + '\n",
      "  '0.013*\"law\" + 0.011*\"state\" + 0.011*\"people\" + 0.009*\"death\" + '\n",
      "  '0.008*\"right\" + 0.008*\"public\"'),\n",
      " (6,\n",
      "  '0.018*\"space\" + 0.009*\"israeli\" + 0.008*\"greek\" + 0.008*\"lebanese\" + '\n",
      "  '0.008*\"armenian\" + 0.008*\"village\" + 0.008*\"government\" + 0.007*\"first\" + '\n",
      "  '0.007*\"launch\" + 0.006*\"soldier\"'),\n",
      " (7,\n",
      "  '0.008*\"test\" + 0.007*\"high\" + 0.006*\"research\" + 0.006*\"year\" + '\n",
      "  '0.005*\"power\" + 0.005*\"report\" + 0.005*\"increase\" + 0.005*\"wire\" + '\n",
      "  '0.005*\"effect\" + 0.005*\"low\"')]\n"
     ]
    }
   ],
   "source": [
    "# Print the keyword of topics\n",
    "pprint(lda_model.print_topics())\n",
    "doc_lda = lda_model[corpus]"
   ]
  },
  {
   "cell_type": "code",
   "execution_count": 24,
   "id": "a056cfe3",
   "metadata": {},
   "outputs": [
    {
     "name": "stdout",
     "output_type": "stream",
     "text": [
      "\n",
      "Perplexity:  -8.341446189001056\n",
      "\n",
      "Coherence Score:  0.46851123719778365\n"
     ]
    }
   ],
   "source": [
    "# Compute Perplexity\n",
    "print('\\nPerplexity: ', lda_model.log_perplexity(corpus))  \n",
    "# a measure of how good the model is. lower the better.\n",
    "\n",
    "# Compute Coherence Score\n",
    "coherence_model_lda = CoherenceModel(model=lda_model, texts=data_lemmatized, dictionary=id2word, coherence='c_v')\n",
    "coherence_lda = coherence_model_lda.get_coherence()\n",
    "print('\\nCoherence Score: ', coherence_lda)"
   ]
  },
  {
   "cell_type": "markdown",
   "id": "2e87c1e4",
   "metadata": {},
   "source": [
    "### Visualize the topics"
   ]
  },
  {
   "cell_type": "code",
   "execution_count": 25,
   "id": "907d7251",
   "metadata": {},
   "outputs": [
    {
     "name": "stderr",
     "output_type": "stream",
     "text": [
      "C:\\Anaconda\\lib\\site-packages\\pyLDAvis\\_prepare.py:246: FutureWarning: In a future version of pandas all arguments of DataFrame.drop except for the argument 'labels' will be keyword-only.\n",
      "  default_term_info = default_term_info.sort_values(\n"
     ]
    }
   ],
   "source": [
    "vis = gensimvis.prepare(lda_model, corpus, id2word)"
   ]
  },
  {
   "cell_type": "code",
   "execution_count": 26,
   "id": "2631cc1f",
   "metadata": {},
   "outputs": [
    {
     "data": {
      "text/html": [
       "\n",
       "<link rel=\"stylesheet\" type=\"text/css\" href=\"https://cdn.jsdelivr.net/gh/bmabey/pyLDAvis@3.3.1/pyLDAvis/js/ldavis.v1.0.0.css\">\n",
       "\n",
       "\n",
       "<div id=\"ldavis_el243223746034450729100870029\"></div>\n",
       "<script type=\"text/javascript\">\n",
       "\n",
       "var ldavis_el243223746034450729100870029_data = {\"mdsDat\": {\"x\": [0.25882677308780844, 0.23734374228651361, 0.1890152912370282, 0.020535589519430384, -0.06310820524604746, -0.263690236327624, -0.13245329022693003, -0.24646966433017878], \"y\": [-0.01947269573664832, -0.10329349879140184, -0.07702978975804965, 0.07586729099069255, 0.25866822796147226, -0.19060152281454157, 0.19638022894950954, -0.14051824080103292], \"topics\": [1, 2, 3, 4, 5, 6, 7, 8], \"cluster\": [1, 1, 1, 1, 1, 1, 1, 1], \"Freq\": [35.00731076821505, 26.70484975746512, 11.16420589057515, 9.462275538647946, 6.7352761257162355, 4.5596484263034975, 4.279900382054066, 2.086533111022935]}, \"tinfo\": {\"Term\": [\"ax\", \"_\", \"people\", \"line\", \"go\", \"get\", \"say\", \"think\", \"write\", \"team\", \"year\", \"nntp_poste\", \"game\", \"space\", \"car\", \"host\", \"article\", \"organization\", \"government\", \"law\", \"state\", \"sale\", \"child\", \"gun\", \"c\", \"good\", \"right\", \"physical\", \"kill\", \"first\", \"believe\", \"reason\", \"evidence\", \"claim\", \"christian\", \"sense\", \"faith\", \"understand\", \"god\", \"religion\", \"argument\", \"matter\", \"accept\", \"explain\", \"speak\", \"prove\", \"patient\", \"truth\", \"belief\", \"mind\", \"clear\", \"atheist\", \"certainly\", \"church\", \"valid\", \"statement\", \"conclusion\", \"slave\", \"religious\", \"existence\", \"perhaps\", \"agree\", \"say\", \"opinion\", \"love\", \"mean\", \"talk\", \"life\", \"fact\", \"think\", \"thing\", \"people\", \"true\", \"word\", \"tell\", \"many\", \"make\", \"even\", \"know\", \"write\", \"wrong\", \"come\", \"article\", \"man\", \"see\", \"point\", \"way\", \"take\", \"go\", \"s\", \"time\", \"seem\", \"well\", \"give\", \"line\", \"question\", \"good\", \"want\", \"organization\", \"get\", \"m\", \"key\", \"mail\", \"file\", \"window\", \"card\", \"computer\", \"chip\", \"driver\", \"software\", \"info\", \"email\", \"machine\", \"image\", \"version\", \"code\", \"phone\", \"entry\", \"memory\", \"color\", \"ripem\", \"user\", \"internet\", \"pin\", \"application\", \"screen\", \"hardware\", \"choose\", \"graphic\", \"disk\", \"encryption\", \"thank\", \"drive\", \"copy\", \"program\", \"bit\", \"use\", \"system\", \"available\", \"host\", \"line\", \"nntp_poste\", \"need\", \"com\", \"organization\", \"problem\", \"run\", \"work\", \"get\", \"help\", \"new\", \"send\", \"do\", \"also\", \"write\", \"information\", \"look\", \"know\", \"m\", \"want\", \"article\", \"team\", \"game\", \"car\", \"play\", \"player\", \"hockey\", \"bike\", \"season\", \"hit\", \"trade\", \"fan\", \"engine\", \"ride\", \"score\", \"playoff\", \"pen\", \"capable\", \"motorcycle\", \"baseball\", \"sport\", \"pack\", \"rider\", \"stat\", \"helmet\", \"coach\", \"saturn\", \"dog\", \"ice\", \"winner\", \"ball\", \"win\", \"division\", \"year\", \"pick\", \"goal\", \"owner\", \"next\", \"go\", \"guy\", \"last\", \"get\", \"good\", \"line\", \"big\", \"nntp_poste\", \"well\", \"article\", \"organization\", \"first\", \"run\", \"write\", \"host\", \"s\", \"look\", \"time\", \"back\", \"think\", \"take\", \"see\", \"test\", \"wire\", \"scientific\", \"announce\", \"motif\", \"material\", \"food\", \"treatment\", \"health\", \"dn\", \"doctor\", \"diagnosis\", \"syndrome\", \"significant\", \"convert\", \"cable\", \"tumor\", \"analysis\", \"translation\", \"medical\", \"eeg\", \"procedure\", \"degree\", \"improve\", \"ensure\", \"tube\", \"slightly\", \"los_angele\", \"negative\", \"cap\", \"period\", \"trust\", \"ground\", \"eat\", \"research\", \"effect\", \"increase\", \"reduce\", \"study\", \"level\", \"low\", \"high\", \"report\", \"science\", \"power\", \"risk\", \"result\", \"rate\", \"cost\", \"year\", \"cause\", \"service\", \"information\", \"provide\", \"week\", \"case\", \"also\", \"lead\", \"less\", \"group\", \"include\", \"gun\", \"kill\", \"reality\", \"crime\", \"murder\", \"weapon\", \"police\", \"tv\", \"trial\", \"criminal\", \"firearm\", \"cop\", \"court\", \"examine\", \"militia\", \"father\", \"smoke\", \"illegal\", \"colorado\", \"son\", \"girl\", \"amendment\", \"dream\", \"husband\", \"honest\", \"constitution\", \"possess\", \"gang\", \"cub\", \"liar\", \"child\", \"fire\", \"citizen\", \"legal\", \"government\", \"death\", \"law\", \"drug\", \"black\", \"protect\", \"arm\", \"public\", \"state\", \"carry\", \"safety\", \"right\", \"people\", \"country\", \"shoot\", \"case\", \"person\", \"ax\", \"_\", \"c\", \"cx\", \"rlk\", \"sj\", \"mf\", \"nei\", \"mu\", \"r\", \"ip\", \"sy\", \"conversion\", \"lk\", \"wm\", \"gy\", \"hst\", \"kp\", \"bo\", \"ei\", \"gb\", \"ai\", \"bhj\", \"n\", \"qx\", \"ij\", \"ci\", \"hh\", \"gw\", \"bxn\", \"hz\", \"m\", \"wa\", \"israeli\", \"lebanese\", \"armenian\", \"village\", \"launch\", \"turk\", \"orbit\", \"mission\", \"moon\", \"turkish\", \"arab\", \"occupy\", \"terrorism\", \"withdraw\", \"satellite\", \"international\", \"workstation\", \"rocket\", \"northern\", \"ethnic\", \"cambridge\", \"lebanese_resistance\", \"patrol\", \"astronomy\", \"expansion\", \"inhabitant\", \"border\", \"invasion\", \"sky\", \"russian\", \"greek\", \"space\", \"soldier\", \"land\", \"civilian\", \"attack\", \"earth\", \"war\", \"military\", \"government\", \"force\", \"first\", \"policy\", \"year\", \"center\", \"area\", \"sale\", \"physical\", \"server\", \"item\", \"wing\", \"direct\", \"nhl\", \"recommend\", \"upgrade\", \"gateway\", \"vertical\", \"shuttle\", \"band\", \"cd\", \"probe\", \"floppy\", \"sector\", \"widget\", \"icon\", \"daughter\", \"ethernet\", \"buyer\", \"inch\", \"shipping\", \"human_being\", \"routine\", \"jet\", \"guide\", \"grade\", \"stack\", \"usenet\", \"box\", \"sell\", \"offer\", \"price\", \"select\", \"super\", \"distribution\", \"radio\", \"condition\", \"include\"], \"Freq\": [33697.0, 3365.0, 6058.0, 13780.0, 5835.0, 8027.0, 6746.0, 5630.0, 10460.0, 1882.0, 3682.0, 5419.0, 1801.0, 1395.0, 1754.0, 4874.0, 7469.0, 8053.0, 1678.0, 1581.0, 2230.0, 871.0, 1274.0, 1228.0, 1070.0, 5028.0, 3065.0, 815.0, 1165.0, 2945.0, 2735.656669713619, 2727.809270271003, 2400.936061728416, 1658.1096122254107, 1420.646781233401, 1410.9309882759626, 1160.6533225626542, 907.9822524051918, 875.8648057171318, 854.8490194915464, 841.5277708155628, 829.8600813078448, 826.5183883142234, 813.5046445429672, 791.0673160525297, 788.8628673479586, 751.1822535623814, 733.525761974027, 710.537439175596, 702.6397493226665, 692.4633276382659, 624.9742780139759, 607.1569618843074, 600.3317674171502, 562.3386720716584, 548.5227438700632, 534.9093917275108, 516.6288799645205, 509.7360029868168, 509.52205919960954, 788.4436758236608, 1031.335094679756, 6381.633467281863, 1157.1017718776634, 860.9041944366273, 2156.5690908022266, 1309.7336910365502, 1197.218746499537, 1672.9493693636314, 4930.396391486912, 3084.46865066857, 5107.109349765815, 1240.6172751660326, 1058.5844296495018, 2167.7123980107417, 2517.626577125056, 4562.613820044955, 2498.9141440776575, 4626.206043885948, 6742.98934337255, 1071.8430772418144, 2754.4684263213862, 4870.818599649167, 1414.2734146714013, 3297.449376518315, 2255.2872803565765, 2434.3666119840905, 2474.5283241168054, 3425.088742870259, 2275.5962243880417, 2931.5770024947533, 1813.3772727431478, 2729.738745680018, 2143.808737358767, 4048.685639885939, 1908.3104802913033, 2496.7022041973833, 2136.0719768188396, 2891.9781238707933, 2785.2017342372646, 2247.4017440194725, 2285.0770488233775, 2017.4918562208209, 1966.5146315749766, 1551.5805921093806, 1520.027692620676, 1498.1246152604738, 1263.3937989272588, 1201.9093311935244, 1088.2988961359736, 1031.1048100689898, 1018.4198072587466, 996.8572046642969, 926.9205707562384, 904.0507368780686, 881.8785565750757, 879.1250268497931, 824.4848212205684, 799.0455217921226, 779.6964847169875, 771.9790566932651, 752.4859172700895, 749.389115451167, 737.3840231649276, 733.9744800881671, 719.3669137825775, 699.093559649713, 696.1291114017025, 690.6396351550026, 687.0067054655007, 678.7758478889159, 2435.7913209062067, 2632.5486509357033, 936.7247254604845, 1875.2595618352323, 1574.004451998607, 3768.818763169466, 3209.9148890817887, 1138.8975224331396, 3427.153774362644, 7668.822293736047, 3544.7834900528064, 2584.588384378503, 1049.7072003690876, 3845.1589601542505, 2053.082019164272, 1718.7209333957258, 2150.767586252118, 3270.4164557194613, 1536.276970701693, 1844.9795264590566, 1259.3240864690158, 1309.3165717747577, 1806.2100005621708, 2415.913508936654, 1253.9883034088282, 1444.902974564897, 1683.605357109326, 1396.5168747795444, 1325.9180733986552, 1312.8337720133654, 1881.8760040925233, 1799.9400369660111, 1753.3569634979071, 1291.6616657491466, 881.2202184767887, 733.0427498627669, 654.851891197176, 614.7341300514975, 545.2765785704061, 478.407784947881, 477.2273102951647, 467.93437192022253, 449.0591068044402, 434.9032343386128, 344.30506249182366, 342.03840414223504, 326.97423779134004, 316.0958948934221, 295.9226756774582, 270.39470248239337, 270.51824635526117, 244.5583624441382, 234.5953969474604, 225.999332888804, 225.26717464290405, 216.35509220707837, 210.04732129386775, 209.6498591871203, 207.85946706169867, 207.3657426431914, 1075.047674367243, 442.69426680810363, 1963.2014523157118, 453.60796046126, 420.9446645284403, 290.4514947544742, 750.7947764730195, 1997.3224824163408, 435.9440434366063, 829.4997246661136, 1967.6112752612394, 1337.2877962777147, 2057.7683979878516, 577.8164475752004, 1163.0561527967259, 1059.3808745366878, 1285.115427595731, 1310.2057764838626, 844.0602262868914, 790.4964812819977, 1300.9796971460019, 988.2557564275817, 790.7456740348977, 680.8302189805972, 732.5321352677255, 601.8903787181968, 698.984068069581, 623.936820420864, 607.0334124132065, 927.1081085319341, 570.0842659165442, 381.41546993716264, 382.1721019769057, 374.4295229592432, 370.9605641409063, 370.04370214080444, 344.7810049443983, 314.0058930301202, 410.3251120425481, 308.51123444253193, 305.4223191144769, 297.91957529198555, 290.4316140851371, 285.8209672406665, 276.14345144826467, 274.8274021874316, 272.1707226114014, 259.8006185137833, 252.9334988447478, 254.0247787179231, 248.7236534546706, 244.53283855829457, 222.43274321466126, 215.40464312680996, 199.10897579836916, 186.69516103553124, 185.25003292010015, 184.44532906033078, 183.5495506949916, 366.6787880157087, 315.72602877104515, 449.7136179764387, 367.2348069343521, 782.1160230671023, 561.5300589978773, 576.5203109202242, 360.7411323850146, 523.406542830559, 493.54696191459124, 561.3897091068312, 817.626244652959, 588.5606097653965, 525.1941631942368, 661.0676403423898, 387.70731364035714, 487.18987080442133, 450.08324000588425, 450.7293705777376, 678.760675477293, 475.7650611707086, 420.5827463817774, 510.66273874055946, 487.16574285705025, 422.6147330105551, 470.9176942416429, 443.31515253398106, 393.70407141443565, 398.9290180645094, 406.40474538255006, 390.8737102641954, 1227.6981597160639, 1164.271447834269, 503.8280062052641, 489.031985163912, 486.93232065654655, 433.4213742921011, 432.2086478074703, 361.28327809710163, 342.4377802514961, 332.5777910411676, 300.7460087165529, 299.9458293585877, 275.53783923035536, 275.30600572582193, 232.9809604426462, 220.19760335170218, 217.9760050238931, 214.44145621488417, 209.41279983353184, 205.28757045906403, 202.17649424054616, 198.96821767780955, 197.32427805267102, 195.4331447690599, 194.56412692592104, 187.741154609212, 186.63217971555878, 180.76663683670938, 181.436395989968, 171.6280507617814, 1216.8104310718916, 574.7389026997163, 377.0729116161045, 340.18592524250244, 1257.2556918466107, 798.3446863498701, 1129.3890623381412, 456.3185259716521, 462.85481573019456, 437.6197357380799, 265.60332706843474, 715.0110537014448, 985.5903651272909, 438.5908522422449, 349.8264577652512, 734.4947437697724, 950.5454280808145, 360.89403325121515, 314.67452374094125, 374.78090250389965, 326.9293262433825, 33696.63803855924, 3364.262512484092, 1069.7875927221307, 572.2534670720603, 448.32363590329754, 300.82358102660163, 197.19486727968138, 179.6991940636798, 178.4405228457437, 163.72555300056263, 159.04765198519516, 145.0993887449745, 128.68668997311468, 111.0708196943107, 110.01912268749223, 111.38648709403205, 106.1925561250608, 85.00646599417321, 85.27417329203045, 82.91752346662933, 84.52788845188428, 86.61267566543822, 78.7776503232623, 77.48587305692034, 76.7909394369519, 76.21820207026052, 74.1534408773313, 76.40396985136059, 69.11558322889495, 61.485990060132714, 95.42772737707584, 269.1150281711058, 86.13522394713671, 518.066892980301, 441.7845620954631, 433.22310871001025, 425.5203778554238, 364.1474888216849, 339.1389627669608, 321.4403634926652, 307.2121099499117, 300.19961063318726, 297.87755010453975, 291.74823871298304, 267.3054909128588, 267.4492603294227, 263.7064392745424, 258.2409726605019, 223.87723847997992, 197.78055317045028, 193.31724546705902, 175.73888527983445, 170.134619182732, 166.64198560507253, 160.90916731047943, 158.16746762858435, 154.66087212433413, 154.57519200785194, 151.6903121283133, 151.01190339617906, 143.92265191052638, 143.7676360980481, 137.97004214953802, 442.0436647111309, 986.7485302430462, 354.08447506327036, 264.3122587975117, 190.25201336146728, 352.80259087474127, 353.19549742175496, 289.49796041976174, 240.56804283656209, 420.6736935806001, 266.07420269683746, 376.9369978520282, 207.3330343526007, 347.40222014229175, 241.6314292784993, 245.44124196280129, 870.7639444488002, 814.2097373699766, 512.4147964630752, 422.89190464893284, 385.9383621050227, 329.27592216163055, 322.7369136258915, 299.7414639709867, 265.5576636275896, 257.13131173134434, 194.08875299408268, 153.29606610003057, 149.11606191376976, 145.29468993453486, 145.06143849457607, 143.8809683938037, 142.58409738167902, 134.1235995528547, 135.2918425621878, 132.78460190188972, 131.12748755424505, 129.2266057186417, 127.94415992675435, 121.09218031402195, 120.19258361404381, 118.33746282341848, 117.26101667014112, 111.43944739960831, 104.85406583985085, 101.12141833210168, 190.48281012642678, 332.8338683874059, 386.9866946905475, 244.62570738187256, 276.34515555527025, 162.1663276091723, 128.11588873910353, 180.72359285898847, 139.8125692015176, 143.50326492158086, 146.54245275101178], \"Total\": [33697.0, 3365.0, 6058.0, 13780.0, 5835.0, 8027.0, 6746.0, 5630.0, 10460.0, 1882.0, 3682.0, 5419.0, 1801.0, 1395.0, 1754.0, 4874.0, 7469.0, 8053.0, 1678.0, 1581.0, 2230.0, 871.0, 1274.0, 1228.0, 1070.0, 5028.0, 3065.0, 815.0, 1165.0, 2945.0, 2736.731539966448, 2728.884699833745, 2402.011073997475, 1659.1847096155786, 1421.7212267196512, 1412.006171768387, 1161.7279180950827, 909.057383556399, 876.9393302537046, 855.9236156041142, 842.6026191809971, 830.9353853124729, 827.5936813447639, 814.5796077074792, 792.1424203537376, 789.9383318076297, 752.2607776353339, 734.6007889899281, 711.6120371934146, 703.7149572580906, 693.5405756622592, 626.048730388896, 608.2318512062154, 601.4061646550365, 563.4151105704261, 549.5975642581161, 535.9840947225479, 517.7112220621254, 510.8107636703707, 510.5968230788758, 792.2734245142423, 1044.134915114789, 6746.023264010621, 1184.3487029364844, 874.1207603977651, 2262.3346915872, 1357.8770829300065, 1236.0462749960284, 1758.765376532533, 5630.315719472554, 3470.243161740427, 6058.589426664831, 1302.9640897928446, 1097.6541004284159, 2507.090793994507, 3052.044413665611, 6248.419106023173, 3088.125003389337, 6465.520954038208, 10460.674723934568, 1134.2546730728313, 3611.9498524301366, 7469.560037964526, 1603.5222826102793, 4644.3410498626745, 2896.0704150224146, 3232.134622632192, 3548.608022553369, 5835.335114594607, 3240.6371241800857, 4785.554576713749, 2339.1134209504066, 4565.829592928251, 3162.75241780424, 13780.524369530438, 2721.9565719069983, 5028.539654106321, 3571.8147135999557, 8053.159757670983, 8027.2558321179595, 4437.4056540014435, 2286.1405369212152, 2018.5558778749341, 1967.5782899195058, 1552.6438842148823, 1521.0917851335146, 1499.1885517052547, 1264.4574659518203, 1202.9727224096703, 1089.3622793529778, 1032.1687027502026, 1019.4834019495295, 997.9210346230628, 927.9848709948844, 905.1143169187055, 882.9423289937623, 880.1888205067487, 825.5498024122154, 800.1093752465944, 780.7601862996629, 773.0445903675484, 753.5498384238783, 750.4531111386323, 738.447755473957, 735.038613376391, 720.4305944816765, 700.1572501202679, 697.1979891817938, 691.7028577453266, 688.0700725318649, 679.8391943322429, 2510.7583572472167, 2779.9959944419, 954.1496678254408, 2066.131111591723, 1720.647033420715, 4765.40402934846, 3978.2930309884146, 1243.0559849826186, 4874.304091655591, 13780.524369530438, 5419.038760607919, 3645.7364168404697, 1163.2706604691327, 8053.159757670983, 3164.2554795654655, 2510.141307757181, 3625.4923841290106, 8027.2558321179595, 2242.511264826658, 3117.337172834944, 1641.463707710785, 1859.7381181241765, 4530.951925694615, 10460.674723934568, 1795.4696584013097, 3162.300371856702, 6465.520954038208, 4437.4056540014435, 3571.8147135999557, 7469.560037964526, 1882.9425780404915, 1801.0064596786992, 1754.4237651174328, 1292.7295485725103, 882.2864050165041, 734.1089792099734, 655.918166564, 615.8011839564579, 546.3435792797796, 479.4752344965496, 478.29375174336855, 469.00165543184215, 450.12569913229964, 435.9694410961108, 345.37119582324135, 343.10591220045325, 328.04989175081903, 317.1623592368612, 296.9888225461313, 271.4612477813169, 271.58651848882704, 245.62492343264816, 235.66253173748996, 227.06563081010682, 226.33345742172503, 217.4236660631228, 211.1142447812992, 210.716355634995, 208.92790878718841, 208.43314772028808, 1264.9851920030662, 528.7351201476305, 3682.532061605484, 565.1374154610917, 517.8005385522154, 320.21077925529056, 1333.0596455089794, 5835.335114594607, 603.399049956732, 1710.5265197678352, 8027.2558321179595, 5028.539654106321, 13780.524369530438, 1153.9663710460984, 5419.038760607919, 4565.829592928251, 7469.560037964526, 8053.159757670983, 2945.3560892034766, 2510.141307757181, 10460.674723934568, 4874.304091655591, 3240.6371241800857, 3162.300371856702, 4785.554576713749, 1959.5363941131366, 5630.315719472554, 3548.608022553369, 4644.3410498626745, 928.1741454991393, 571.1503860949047, 382.48098442906166, 383.2424856062974, 375.4954006979263, 372.02665788037353, 371.1091218877846, 345.84722375666536, 315.071698458022, 411.7235105421319, 309.57681225374586, 306.4892939909368, 298.985163297684, 291.49797108314584, 286.8869428420533, 277.20949494141644, 275.90033587789685, 273.2367316960455, 260.8664542754527, 253.9990029658784, 255.0964627328415, 249.78937683919722, 245.59870295039144, 223.49920548634242, 216.4715071322952, 200.17516012313894, 187.76199587817482, 186.31604161835386, 185.51192239449318, 184.61671173588988, 369.93293015683287, 318.552237636025, 462.7620458922275, 394.14550813860274, 909.766379303959, 650.895922944591, 702.7817931982046, 405.38768393737655, 709.0492481385285, 707.8188396566089, 894.8842623816886, 1715.0016228551008, 1104.134557789329, 904.3964278706907, 1457.496182791619, 536.2869978506499, 885.8731649920992, 782.0686162032575, 1008.6358957304872, 3682.532061605484, 1208.4031096476322, 852.2603180324816, 1795.4696584013097, 1520.2778384340536, 949.4816332771227, 2360.210513069431, 4530.951925694615, 952.1751821778688, 1219.3018283997542, 2129.675085150304, 1831.598849336482, 1228.763957216653, 1165.3379593206491, 504.89795015973095, 490.0978033459327, 487.9987616086136, 434.4872846221665, 433.27494974170713, 362.3509341588335, 343.5040975904417, 333.6435908622538, 301.8117406548464, 301.0120344332468, 276.6038378018181, 276.3781867308445, 234.04704615291973, 221.2645306835267, 219.04384699638993, 215.50825474848097, 210.48294686268724, 206.3545047894286, 203.24364010463148, 200.034156677785, 198.39175101609075, 196.4999742162458, 195.63264373294444, 188.80692111633422, 187.70634309949682, 181.83397286697675, 182.51466131220636, 172.6970513388622, 1274.3339696316368, 605.5389489344209, 413.24400822818984, 370.2912598608206, 1678.871064460178, 1007.2471263775325, 1581.117655485958, 587.8703966194049, 613.2742263877913, 591.2113734485894, 296.5364661553359, 1348.9698436619142, 2230.3391464688225, 658.9726103490862, 488.3886307685902, 3065.164365627575, 6058.589426664831, 711.7077113967588, 460.136995879586, 2360.210513069431, 1301.4928637350513, 33697.57981171271, 3365.2158229533866, 1070.733593752206, 573.1971968929535, 449.2657350773185, 301.77352909052604, 198.1370844257286, 180.64216132617503, 179.40629757447027, 164.66738542692585, 160.0417253981021, 146.04515734011008, 129.64561115516776, 112.0256184676266, 110.96628931990307, 112.34994958891797, 107.15887752457733, 85.95020941687126, 86.22255077205625, 83.85930859415392, 85.49698141799557, 87.61532621903692, 79.71946125132096, 78.43343426705404, 77.73374207181142, 77.16057373935976, 75.10182727796676, 77.42660632689342, 70.0688399009349, 62.42823785724905, 142.74428785657543, 4437.4056540014435, 168.5945949209283, 519.1484344003758, 442.86664828061123, 434.3045862462862, 426.60206294162845, 365.22925142095227, 340.22037155969645, 322.5220170375272, 308.29435752375616, 301.28147825185425, 298.9589302320638, 292.82976040519173, 268.38745926314243, 268.532175132826, 264.78888918054537, 259.3226430649572, 224.960171869975, 198.8672867291856, 194.4004061343976, 176.82222971133803, 171.2167663672151, 167.7247019258023, 161.99211237538054, 159.25069762254486, 155.7432081843163, 155.65909196709072, 152.77191130657806, 152.09497270912686, 145.00455949497015, 144.85157272136513, 139.05162717206397, 508.94439040667294, 1395.8904179220456, 499.45499862882804, 382.1205968097254, 228.84668930690125, 690.6518151675971, 743.220277103369, 566.172299446917, 414.8541767033617, 1678.871064460178, 778.8104960827014, 2945.3560892034766, 336.1591302314374, 3682.532061605484, 739.7829496881474, 892.1286117508635, 871.8484837190445, 815.2976568005669, 513.4992712983566, 423.9777470871802, 387.02426247333466, 330.3627860494694, 323.8225971716436, 300.82903125839584, 266.64240382075576, 258.2163901769858, 195.17661312761018, 154.38323665014855, 150.20127961119638, 146.3792565011989, 146.14704224863294, 144.96587376163427, 143.67066826646675, 135.2078496715286, 136.38652073227874, 133.87117327305938, 132.21619233295868, 130.31171482321764, 129.0295668438829, 122.17665327930553, 121.28029656635604, 119.42197095050675, 118.34639178422168, 112.5243904360261, 105.94011951152555, 102.20678622303795, 208.68123247285155, 479.6026022985187, 980.2086834141869, 665.5647306759788, 1105.5655478637013, 279.7829316281094, 146.93524183740868, 495.2956062842159, 309.3665271607367, 472.7491317087108, 1831.598849336482], \"Category\": [\"Default\", \"Default\", \"Default\", \"Default\", \"Default\", \"Default\", \"Default\", \"Default\", \"Default\", \"Default\", \"Default\", \"Default\", \"Default\", \"Default\", \"Default\", \"Default\", \"Default\", \"Default\", \"Default\", \"Default\", \"Default\", \"Default\", \"Default\", \"Default\", \"Default\", \"Default\", \"Default\", \"Default\", \"Default\", \"Default\", \"Topic1\", \"Topic1\", \"Topic1\", \"Topic1\", \"Topic1\", \"Topic1\", \"Topic1\", \"Topic1\", \"Topic1\", \"Topic1\", \"Topic1\", \"Topic1\", \"Topic1\", \"Topic1\", \"Topic1\", \"Topic1\", \"Topic1\", \"Topic1\", \"Topic1\", \"Topic1\", \"Topic1\", \"Topic1\", \"Topic1\", \"Topic1\", \"Topic1\", \"Topic1\", \"Topic1\", \"Topic1\", \"Topic1\", \"Topic1\", \"Topic1\", \"Topic1\", \"Topic1\", \"Topic1\", \"Topic1\", \"Topic1\", \"Topic1\", \"Topic1\", \"Topic1\", \"Topic1\", \"Topic1\", \"Topic1\", \"Topic1\", \"Topic1\", \"Topic1\", \"Topic1\", \"Topic1\", \"Topic1\", \"Topic1\", \"Topic1\", \"Topic1\", \"Topic1\", \"Topic1\", \"Topic1\", \"Topic1\", \"Topic1\", \"Topic1\", \"Topic1\", \"Topic1\", \"Topic1\", \"Topic1\", \"Topic1\", \"Topic1\", \"Topic1\", \"Topic1\", \"Topic1\", \"Topic1\", \"Topic1\", \"Topic1\", \"Topic1\", \"Topic1\", \"Topic2\", \"Topic2\", \"Topic2\", \"Topic2\", \"Topic2\", \"Topic2\", \"Topic2\", \"Topic2\", \"Topic2\", \"Topic2\", \"Topic2\", \"Topic2\", \"Topic2\", \"Topic2\", \"Topic2\", \"Topic2\", \"Topic2\", \"Topic2\", \"Topic2\", \"Topic2\", \"Topic2\", \"Topic2\", \"Topic2\", \"Topic2\", \"Topic2\", \"Topic2\", \"Topic2\", \"Topic2\", \"Topic2\", \"Topic2\", \"Topic2\", \"Topic2\", \"Topic2\", \"Topic2\", \"Topic2\", \"Topic2\", \"Topic2\", \"Topic2\", \"Topic2\", \"Topic2\", \"Topic2\", \"Topic2\", \"Topic2\", \"Topic2\", \"Topic2\", \"Topic2\", \"Topic2\", \"Topic2\", \"Topic2\", \"Topic2\", \"Topic2\", \"Topic2\", \"Topic2\", \"Topic2\", \"Topic2\", \"Topic2\", \"Topic2\", \"Topic2\", \"Topic2\", \"Topic2\", \"Topic3\", \"Topic3\", \"Topic3\", \"Topic3\", \"Topic3\", \"Topic3\", \"Topic3\", \"Topic3\", \"Topic3\", \"Topic3\", \"Topic3\", \"Topic3\", \"Topic3\", \"Topic3\", \"Topic3\", \"Topic3\", \"Topic3\", \"Topic3\", \"Topic3\", \"Topic3\", \"Topic3\", \"Topic3\", \"Topic3\", \"Topic3\", \"Topic3\", \"Topic3\", \"Topic3\", \"Topic3\", \"Topic3\", \"Topic3\", \"Topic3\", \"Topic3\", \"Topic3\", \"Topic3\", \"Topic3\", \"Topic3\", \"Topic3\", \"Topic3\", \"Topic3\", \"Topic3\", \"Topic3\", \"Topic3\", \"Topic3\", \"Topic3\", \"Topic3\", \"Topic3\", \"Topic3\", \"Topic3\", \"Topic3\", \"Topic3\", \"Topic3\", \"Topic3\", \"Topic3\", \"Topic3\", \"Topic3\", \"Topic3\", \"Topic3\", \"Topic3\", \"Topic3\", \"Topic4\", \"Topic4\", \"Topic4\", \"Topic4\", \"Topic4\", \"Topic4\", \"Topic4\", \"Topic4\", \"Topic4\", \"Topic4\", \"Topic4\", \"Topic4\", \"Topic4\", \"Topic4\", \"Topic4\", \"Topic4\", \"Topic4\", \"Topic4\", \"Topic4\", \"Topic4\", \"Topic4\", \"Topic4\", \"Topic4\", \"Topic4\", \"Topic4\", \"Topic4\", \"Topic4\", \"Topic4\", \"Topic4\", \"Topic4\", \"Topic4\", \"Topic4\", \"Topic4\", \"Topic4\", \"Topic4\", \"Topic4\", \"Topic4\", \"Topic4\", \"Topic4\", \"Topic4\", \"Topic4\", \"Topic4\", \"Topic4\", \"Topic4\", \"Topic4\", \"Topic4\", \"Topic4\", \"Topic4\", \"Topic4\", \"Topic4\", \"Topic4\", \"Topic4\", \"Topic4\", \"Topic4\", \"Topic4\", \"Topic4\", \"Topic4\", \"Topic4\", \"Topic4\", \"Topic4\", \"Topic4\", \"Topic5\", \"Topic5\", \"Topic5\", \"Topic5\", \"Topic5\", \"Topic5\", \"Topic5\", \"Topic5\", \"Topic5\", \"Topic5\", \"Topic5\", \"Topic5\", \"Topic5\", \"Topic5\", \"Topic5\", \"Topic5\", \"Topic5\", \"Topic5\", \"Topic5\", \"Topic5\", \"Topic5\", \"Topic5\", \"Topic5\", \"Topic5\", \"Topic5\", \"Topic5\", \"Topic5\", \"Topic5\", \"Topic5\", \"Topic5\", \"Topic5\", \"Topic5\", \"Topic5\", \"Topic5\", \"Topic5\", \"Topic5\", \"Topic5\", \"Topic5\", \"Topic5\", \"Topic5\", \"Topic5\", \"Topic5\", \"Topic5\", \"Topic5\", \"Topic5\", \"Topic5\", \"Topic5\", \"Topic5\", \"Topic5\", \"Topic5\", \"Topic5\", \"Topic6\", \"Topic6\", \"Topic6\", \"Topic6\", \"Topic6\", \"Topic6\", \"Topic6\", \"Topic6\", \"Topic6\", \"Topic6\", \"Topic6\", \"Topic6\", \"Topic6\", \"Topic6\", \"Topic6\", \"Topic6\", \"Topic6\", \"Topic6\", \"Topic6\", \"Topic6\", \"Topic6\", \"Topic6\", \"Topic6\", \"Topic6\", \"Topic6\", \"Topic6\", \"Topic6\", \"Topic6\", \"Topic6\", \"Topic6\", \"Topic6\", \"Topic6\", \"Topic6\", \"Topic7\", \"Topic7\", \"Topic7\", \"Topic7\", \"Topic7\", \"Topic7\", \"Topic7\", \"Topic7\", \"Topic7\", \"Topic7\", \"Topic7\", \"Topic7\", \"Topic7\", \"Topic7\", \"Topic7\", \"Topic7\", \"Topic7\", \"Topic7\", \"Topic7\", \"Topic7\", \"Topic7\", \"Topic7\", \"Topic7\", \"Topic7\", \"Topic7\", \"Topic7\", \"Topic7\", \"Topic7\", \"Topic7\", \"Topic7\", \"Topic7\", \"Topic7\", \"Topic7\", \"Topic7\", \"Topic7\", \"Topic7\", \"Topic7\", \"Topic7\", \"Topic7\", \"Topic7\", \"Topic7\", \"Topic7\", \"Topic7\", \"Topic7\", \"Topic7\", \"Topic7\", \"Topic8\", \"Topic8\", \"Topic8\", \"Topic8\", \"Topic8\", \"Topic8\", \"Topic8\", \"Topic8\", \"Topic8\", \"Topic8\", \"Topic8\", \"Topic8\", \"Topic8\", \"Topic8\", \"Topic8\", \"Topic8\", \"Topic8\", \"Topic8\", \"Topic8\", \"Topic8\", \"Topic8\", \"Topic8\", \"Topic8\", \"Topic8\", \"Topic8\", \"Topic8\", \"Topic8\", \"Topic8\", \"Topic8\", \"Topic8\", \"Topic8\", \"Topic8\", \"Topic8\", \"Topic8\", \"Topic8\", \"Topic8\", \"Topic8\", \"Topic8\", \"Topic8\", \"Topic8\", \"Topic8\"], \"logprob\": [30.0, 29.0, 28.0, 27.0, 26.0, 25.0, 24.0, 23.0, 22.0, 21.0, 20.0, 19.0, 18.0, 17.0, 16.0, 15.0, 14.0, 13.0, 12.0, 11.0, 10.0, 9.0, 8.0, 7.0, 6.0, 5.0, 4.0, 3.0, 2.0, 1.0, -5.1029, -5.1057, -5.2334, -5.6035, -5.7581, -5.765, -5.9602, -6.2058, -6.2418, -6.2661, -6.2818, -6.2957, -6.2998, -6.3156, -6.3436, -6.3464, -6.3953, -6.4191, -6.451, -6.4621, -6.4767, -6.5793, -6.6082, -6.6195, -6.6849, -6.7098, -6.7349, -6.7697, -6.7831, -6.7835, -6.3469, -6.0784, -4.2558, -5.9633, -6.259, -5.3407, -5.8394, -5.9292, -5.5946, -4.5138, -4.9828, -4.4786, -5.8936, -6.0523, -5.3356, -5.1859, -4.5913, -5.1934, -4.5775, -4.2007, -6.0398, -5.096, -4.526, -5.7626, -4.9161, -5.296, -5.2195, -5.2032, -4.8781, -5.287, -5.0337, -5.514, -5.105, -5.3466, -4.7108, -5.463, -5.1943, -5.3503, -5.0473, -5.0849, -5.2995, -5.0121, -5.1367, -5.1623, -5.3992, -5.4198, -5.4343, -5.6047, -5.6546, -5.7539, -5.8079, -5.8203, -5.8417, -5.9144, -5.9394, -5.9642, -5.9673, -6.0315, -6.0629, -6.0874, -6.0973, -6.1229, -6.127, -6.1432, -6.1478, -6.1679, -6.1965, -6.2007, -6.2087, -6.2139, -6.226, -4.9482, -4.8706, -5.9039, -5.2098, -5.3849, -4.5118, -4.6723, -5.7085, -4.6068, -3.8014, -4.573, -4.8889, -5.79, -4.4917, -5.1192, -5.2969, -5.0727, -4.6536, -5.4092, -5.226, -5.6079, -5.569, -5.2473, -4.9564, -5.6122, -5.4705, -5.3176, -5.5045, -5.5564, -5.5663, -4.3341, -4.3786, -4.4049, -4.7105, -5.0928, -5.2769, -5.3897, -5.4529, -5.5728, -5.7037, -5.7061, -5.7258, -5.767, -5.799, -6.0326, -6.0392, -6.0843, -6.1181, -6.184, -6.2743, -6.2738, -6.3747, -6.4163, -6.4536, -6.4569, -6.4972, -6.5268, -6.5287, -6.5373, -6.5397, -4.894, -5.7813, -4.2918, -5.7569, -5.8316, -6.2027, -5.253, -4.2746, -5.7966, -5.1533, -4.2896, -4.6757, -4.2448, -5.5149, -4.8153, -4.9087, -4.7155, -4.6962, -5.1359, -5.2015, -4.7033, -4.9782, -5.2012, -5.3508, -5.2776, -5.4741, -5.3245, -5.4381, -5.4656, -4.8767, -5.363, -5.7648, -5.7629, -5.7833, -5.7926, -5.7951, -5.8658, -5.9593, -5.6918, -5.977, -5.987, -6.0119, -6.0374, -6.0534, -6.0878, -6.0926, -6.1023, -6.1488, -6.1756, -6.1713, -6.1924, -6.2094, -6.3041, -6.3362, -6.4149, -6.4793, -6.487, -6.4914, -6.4963, -5.8043, -5.9539, -5.6001, -5.8027, -5.0467, -5.3781, -5.3517, -5.8206, -5.4484, -5.5071, -5.3783, -5.0023, -5.3311, -5.445, -5.2149, -5.7485, -5.5201, -5.5993, -5.5979, -5.1885, -5.5438, -5.6671, -5.473, -5.5201, -5.6623, -5.5541, -5.6145, -5.7331, -5.72, -5.7014, -5.7404, -4.2559, -4.3089, -5.1465, -5.1764, -5.1807, -5.2971, -5.2999, -5.4791, -5.5327, -5.5619, -5.6625, -5.6652, -5.7501, -5.7509, -5.9178, -5.9743, -5.9844, -6.0007, -6.0245, -6.0444, -6.0596, -6.0756, -6.0839, -6.0936, -6.098, -6.1337, -6.1396, -6.1716, -6.1679, -6.2235, -4.2648, -5.0149, -5.4363, -5.5393, -4.2321, -4.6862, -4.3394, -5.2456, -5.2314, -5.2874, -5.7868, -4.7965, -4.4755, -5.2852, -5.5113, -4.7696, -4.5117, -5.4802, -5.6172, -5.4424, -5.579, -0.5535, -2.8577, -4.0035, -4.6291, -4.8732, -5.2721, -5.6945, -5.7874, -5.7944, -5.8805, -5.9095, -6.0013, -6.1213, -6.2685, -6.278, -6.2657, -6.3134, -6.5359, -6.5328, -6.5608, -6.5416, -6.5172, -6.612, -6.6286, -6.6376, -6.6451, -6.6725, -6.6426, -6.7429, -6.8599, -6.4203, -5.3835, -6.5228, -4.6653, -4.8245, -4.8441, -4.862, -5.0178, -5.0889, -5.1425, -5.1878, -5.2109, -5.2187, -5.2395, -5.327, -5.3264, -5.3405, -5.3615, -5.5043, -5.6282, -5.651, -5.7464, -5.7788, -5.7995, -5.8345, -5.8517, -5.8741, -5.8747, -5.8935, -5.898, -5.9461, -5.9472, -5.9883, -4.8239, -4.0209, -5.0458, -5.3382, -5.667, -5.0494, -5.0483, -5.2472, -5.4324, -4.8735, -5.3316, -4.9833, -5.581, -5.0649, -5.4279, -5.4123, -3.4276, -3.4947, -3.9578, -4.1498, -4.2413, -4.4, -4.4201, -4.494, -4.6151, -4.6473, -4.9286, -5.1646, -5.1922, -5.2182, -5.2198, -5.2279, -5.237, -5.2982, -5.2895, -5.3082, -5.3208, -5.3354, -5.3453, -5.4004, -5.4078, -5.4234, -5.4325, -5.4834, -5.5444, -5.5806, -4.9474, -4.3893, -4.2385, -4.6972, -4.5753, -5.1083, -5.344, -5.0, -5.2566, -5.2306, -5.2096], \"loglift\": [30.0, 29.0, 28.0, 27.0, 26.0, 25.0, 24.0, 23.0, 22.0, 21.0, 20.0, 19.0, 18.0, 17.0, 16.0, 15.0, 14.0, 13.0, 12.0, 11.0, 10.0, 9.0, 8.0, 7.0, 6.0, 5.0, 4.0, 3.0, 2.0, 1.0, 1.0492, 1.0492, 1.0492, 1.049, 1.0489, 1.0489, 1.0487, 1.0484, 1.0484, 1.0484, 1.0483, 1.0483, 1.0483, 1.0483, 1.0483, 1.0483, 1.0482, 1.0481, 1.0481, 1.0481, 1.0481, 1.0479, 1.0478, 1.0478, 1.0477, 1.0477, 1.0476, 1.0475, 1.0475, 1.0475, 1.0448, 1.0373, 0.9941, 1.0263, 1.0344, 1.0017, 1.0135, 1.0177, 0.9996, 0.9169, 0.9318, 0.8788, 1.0006, 1.0134, 0.9042, 0.8571, 0.7352, 0.8379, 0.7149, 0.6105, 0.993, 0.7786, 0.622, 0.924, 0.7071, 0.7995, 0.7662, 0.6891, 0.5168, 0.6961, 0.5596, 0.795, 0.5352, 0.6608, -0.1753, 0.6945, 0.3495, 0.5355, 0.0255, -0.0089, 0.3693, 1.3199, 1.3198, 1.3198, 1.3196, 1.3196, 1.3196, 1.3195, 1.3194, 1.3193, 1.3193, 1.3193, 1.3193, 1.3192, 1.3191, 1.3191, 1.3191, 1.319, 1.319, 1.319, 1.3189, 1.3189, 1.3189, 1.3189, 1.3189, 1.3188, 1.3188, 1.3188, 1.3188, 1.3188, 1.3188, 1.29, 1.2658, 1.3019, 1.2234, 1.2312, 1.0857, 1.1057, 1.2328, 0.9681, 0.7342, 0.8959, 0.9763, 1.2176, 0.5811, 0.8877, 0.9416, 0.7982, 0.4224, 0.9421, 0.7958, 1.0553, 0.9694, 0.4006, -0.1452, 0.9614, 0.5371, -0.0252, 0.1642, 0.3294, -0.4183, 2.1919, 2.1919, 2.1918, 2.1916, 2.1912, 2.191, 2.1908, 2.1907, 2.1905, 2.1902, 2.1902, 2.1902, 2.1901, 2.19, 2.1894, 2.1893, 2.1892, 2.1891, 2.1889, 2.1885, 2.1885, 2.1881, 2.1879, 2.1878, 2.1877, 2.1875, 2.1874, 2.1874, 2.1873, 2.1873, 2.0298, 2.0148, 1.5634, 1.9726, 1.9854, 2.0949, 1.6184, 1.1203, 1.8674, 1.4687, 0.7864, 0.868, 0.2908, 1.5008, 0.6536, 0.7315, 0.4325, 0.3766, 0.9427, 1.037, 0.108, 0.5967, 0.7819, 0.6567, 0.3156, 1.0121, 0.1062, 0.4542, 0.1576, 2.3567, 2.356, 2.3551, 2.3551, 2.355, 2.355, 2.355, 2.3548, 2.3545, 2.3545, 2.3544, 2.3544, 2.3543, 2.3542, 2.3541, 2.354, 2.354, 2.3539, 2.3538, 2.3537, 2.3536, 2.3536, 2.3535, 2.3531, 2.3529, 2.3525, 2.3522, 2.3521, 2.3521, 2.3521, 2.349, 2.3489, 2.3293, 2.2871, 2.2067, 2.2102, 2.1598, 2.2412, 2.0543, 1.9973, 1.8916, 1.6171, 1.7287, 1.8144, 1.5672, 2.0334, 1.7599, 1.8053, 1.5524, 0.6668, 1.4257, 1.6516, 1.1005, 1.2198, 1.5484, 0.746, 0.0335, 1.4747, 1.2406, 0.7015, 0.8133, 2.6969, 2.6969, 2.6957, 2.6956, 2.6956, 2.6954, 2.6953, 2.6949, 2.6947, 2.6946, 2.6943, 2.6943, 2.694, 2.6939, 2.6932, 2.693, 2.6929, 2.6928, 2.6927, 2.6926, 2.6925, 2.6925, 2.6924, 2.6924, 2.6923, 2.6922, 2.6921, 2.6919, 2.6919, 2.6916, 2.6516, 2.6456, 2.6062, 2.613, 2.4086, 2.4654, 2.3614, 2.4445, 2.4164, 2.397, 2.5876, 2.063, 1.8811, 2.2907, 2.3641, 1.2691, 0.8456, 2.0187, 2.3178, 0.8576, 1.3163, 3.0879, 3.0876, 3.087, 3.0863, 3.0858, 3.0848, 3.0832, 3.0827, 3.0825, 3.0822, 3.0817, 3.0814, 3.0805, 3.0794, 3.0794, 3.0793, 3.0789, 3.0769, 3.0769, 3.0766, 3.0765, 3.0764, 3.076, 3.0758, 3.0757, 3.0756, 3.0752, 3.0746, 3.0742, 3.0727, 2.6852, 0.2852, 2.4163, 3.1492, 3.1488, 3.1487, 3.1487, 3.1483, 3.1481, 3.1479, 3.1477, 3.1476, 3.1476, 3.1475, 3.1472, 3.1472, 3.1471, 3.1471, 3.1464, 3.1458, 3.1457, 3.1451, 3.1449, 3.1448, 3.1445, 3.1444, 3.1443, 3.1443, 3.1441, 3.1441, 3.1438, 3.1437, 3.1434, 3.0103, 2.8044, 2.8073, 2.7826, 2.9665, 2.4795, 2.4073, 2.4805, 2.6063, 1.7672, 2.0772, 1.0953, 2.668, 0.7904, 2.0323, 1.8607, 3.8684, 3.8683, 3.8676, 3.8671, 3.8669, 3.8664, 3.8663, 3.866, 3.8656, 3.8655, 3.8641, 3.8626, 3.8624, 3.8622, 3.8622, 3.8622, 3.8621, 3.8616, 3.8616, 3.8615, 3.8614, 3.8613, 3.8612, 3.8608, 3.8607, 3.8605, 3.8605, 3.86, 3.8594, 3.859, 3.7784, 3.5044, 2.9403, 2.8688, 2.4832, 3.3243, 3.7326, 2.8615, 3.0754, 2.6775, 1.344]}, \"token.table\": {\"Topic\": [6, 1, 1, 3, 6, 1, 2, 3, 4, 7, 5, 4, 4, 2, 7, 1, 2, 4, 5, 7, 1, 3, 4, 5, 7, 1, 2, 3, 7, 1, 1, 5, 7, 2, 4, 6, 1, 2, 3, 3, 8, 3, 1, 1, 6, 1, 2, 3, 3, 1, 2, 1, 2, 3, 5, 6, 7, 4, 8, 8, 6, 6, 4, 7, 4, 3, 3, 2, 3, 4, 5, 7, 1, 2, 4, 5, 1, 4, 5, 8, 2, 3, 4, 5, 7, 1, 1, 5, 2, 2, 1, 1, 6, 5, 7, 5, 7, 1, 1, 3, 2, 2, 5, 1, 2, 1, 2, 3, 5, 2, 1, 1, 4, 5, 8, 5, 6, 4, 5, 1, 2, 2, 3, 4, 1, 5, 7, 5, 5, 5, 5, 6, 8, 1, 5, 4, 4, 8, 2, 4, 8, 1, 2, 3, 4, 1, 2, 4, 3, 5, 2, 3, 2, 1, 4, 5, 1, 7, 3, 4, 4, 1, 4, 6, 2, 2, 3, 4, 2, 8, 7, 1, 2, 3, 5, 1, 5, 1, 7, 1, 1, 5, 1, 3, 5, 2, 3, 5, 5, 1, 2, 3, 4, 7, 8, 4, 1, 3, 5, 7, 3, 5, 8, 6, 1, 2, 3, 5, 5, 1, 2, 3, 7, 1, 2, 3, 5, 1, 3, 1, 1, 2, 3, 5, 7, 8, 2, 1, 7, 4, 5, 1, 2, 4, 8, 5, 1, 3, 6, 6, 2, 4, 3, 1, 2, 6, 2, 3, 4, 5, 3, 3, 5, 1, 2, 3, 6, 8, 5, 2, 6, 3, 8, 6, 5, 2, 4, 8, 1, 2, 4, 5, 7, 8, 2, 3, 4, 2, 2, 4, 7, 7, 7, 2, 7, 6, 7, 8, 8, 2, 5, 1, 2, 3, 6, 5, 7, 1, 2, 3, 4, 5, 7, 7, 1, 5, 1, 3, 4, 7, 7, 2, 5, 1, 2, 3, 4, 5, 1, 2, 3, 4, 5, 1, 5, 1, 2, 3, 6, 6, 1, 2, 3, 4, 1, 3, 2, 3, 4, 1, 2, 3, 6, 2, 2, 1, 2, 3, 4, 5, 1, 5, 7, 1, 2, 3, 4, 4, 1, 1, 2, 4, 2, 6, 5, 7, 5, 1, 7, 7, 4, 3, 6, 5, 6, 1, 2, 3, 4, 6, 1, 2, 3, 4, 1, 2, 3, 4, 8, 1, 2, 3, 7, 7, 1, 2, 8, 1, 2, 7, 1, 2, 3, 6, 2, 3, 3, 1, 7, 3, 1, 5, 1, 2, 4, 7, 1, 4, 5, 2, 8, 1, 2, 3, 2, 3, 3, 3, 1, 2, 3, 5, 4, 5, 7, 5, 1, 2, 3, 4, 5, 7, 2, 3, 7, 8, 8, 1, 2, 4, 4, 2, 4, 2, 5, 1, 1, 2, 4, 7, 2, 4, 5, 1, 2, 6, 6, 3, 7, 8, 2, 3, 4, 5, 5, 1, 8, 1, 4, 8, 1, 1, 2, 3, 4, 5, 7, 2, 4, 1, 2, 3, 4, 3, 3, 1, 2, 3, 5, 2, 4, 5, 6, 7, 8, 2, 3, 7, 1, 2, 3, 3, 4, 5, 8, 7, 3, 1, 3, 5, 1, 4, 4, 3, 2, 3, 8, 1, 2, 3, 1, 2, 3, 4, 8, 1, 2, 3, 8, 1, 2, 3, 7, 1, 8, 1, 2, 4, 5, 7, 8, 3, 5, 8, 4, 6, 7, 1, 4, 5, 2, 5, 7, 5, 2, 7, 1, 3, 8, 3, 1, 2, 5, 7, 1, 1, 4, 7, 8, 6, 4, 1, 2, 4, 1, 2, 3, 4, 5, 1, 3, 3, 1, 2, 3, 5, 7, 4, 1, 2, 3, 1, 2, 3, 1, 3, 1, 2, 3, 4, 5, 3, 4, 4, 5, 1, 2, 4, 7, 1, 4, 4, 7, 7, 5, 1, 8, 1, 2, 4, 5, 7, 8, 2, 1, 2, 8, 7, 6, 7, 1, 2, 3, 1, 5, 7, 1, 2, 3, 7, 5, 1, 2, 3, 4, 1, 2, 3, 4, 8, 2, 3, 2, 8, 3, 4, 7, 6, 1, 2, 1, 2, 4, 7, 7, 1, 2, 3, 1, 2, 1, 3, 4, 5, 7], \"Freq\": [0.9996387087731212, 0.9992826415206563, 0.9874202893470476, 0.011492767674262437, 0.9929769568226156, 0.44273257207258304, 0.39859173736943415, 0.044140834703148855, 0.09777194886747471, 0.01655281301368082, 0.9948300995441952, 0.9954737721814749, 0.9967579648578582, 0.9985869948088575, 0.9971664068431993, 0.03811109693396412, 0.24884304468647162, 0.32842798240151433, 0.10984963233907305, 0.27462408084768264, 0.9992848121198783, 0.06744533061752789, 0.033722665308763944, 0.8970228972131209, 0.996996149044702, 0.6521133741803835, 0.17578009860374533, 0.17203155118492974, 0.9952279897596771, 0.998324842239925, 0.1636135568145562, 0.32433129846425296, 0.5111113765976844, 0.9162901862508842, 0.0828603065705365, 0.999982793668983, 0.5077731666475761, 0.18473757419740958, 0.30721552394154855, 0.9931241852077611, 0.9920022012175531, 0.9966705058538771, 0.9991399285545696, 0.9997326957519345, 0.9909750863838277, 0.3362316352843702, 0.16204978298499287, 0.5008811474081598, 0.9986001812256401, 0.08485180119117526, 0.9147721580473278, 0.013044735382278018, 0.12881676189999544, 0.1027272911354394, 0.7549640602493403, 0.9858209857965317, 0.9928007304276852, 0.3044186985230854, 0.6943248397821058, 0.989934022240463, 0.9771219258100009, 0.9993148680899838, 0.9956368920852727, 0.9956792176854016, 0.9966595021106641, 0.9967995973258345, 0.9991884713683541, 0.9992822358623028, 0.14112877916235986, 0.14568132042566181, 0.6661885381965159, 0.04552541263301931, 0.4270805482893582, 0.21438765618493577, 0.19955847048044417, 0.15888413254812433, 0.5743116634335449, 0.3939082878881374, 0.03144645995745635, 0.9905775139581501, 0.19870693162361647, 0.10678807889976667, 0.2392593666488443, 0.12841604424655487, 0.3271229758701713, 0.9979747012528652, 0.04472924787249971, 0.9550086782602131, 0.9988473586569215, 0.998281708782322, 0.9994927087630848, 0.9976618718967687, 0.9853288885516902, 0.9122939292366552, 0.08469572287342954, 0.16605003163947474, 0.8302501581973737, 0.999285968820281, 0.9977786798403422, 0.9941084387747393, 0.9989327400410893, 0.9990263510960187, 0.9929545510228215, 0.09713990375587096, 0.9026274242802169, 0.7624690575776117, 0.08333449031621683, 0.13815252713552223, 0.01578094999343641, 0.9992072033208212, 0.9981639479002501, 0.2453732692870911, 0.3659446171264376, 0.0824961853637634, 0.3046012998046648, 0.9957262100797829, 0.9950201850304439, 0.996908388951875, 0.9966378937800534, 0.016768857695527866, 0.9820262287943506, 0.46597588087980013, 0.08625510986498428, 0.4471385580357231, 0.2767990241575134, 0.5072306990906718, 0.21497589185837335, 0.9978169579763723, 0.997760032102903, 0.9980710228522882, 0.9917011526563589, 0.9979113699448585, 0.993492450601875, 0.20650344344793717, 0.7922584032281436, 0.9975622715299421, 0.9951407960403966, 0.9958748802618909, 0.9984448204120732, 0.6339648404226245, 0.3654383315811944, 0.009456530896990402, 0.1531958005312445, 0.8378486374733496, 0.9958139127399781, 0.29520285391243606, 0.7038625423886681, 0.9981367717771024, 0.9947220767482863, 0.9929848342536285, 0.9471236668197393, 0.05287777403057413, 0.9991914011086455, 0.018711607291771057, 0.20242556979279597, 0.7756811750043274, 0.5233979911259834, 0.47496013076470983, 0.06596548600233446, 0.931128206263721, 0.995701772101835, 0.13519826580245947, 0.8634252884202526, 0.9897529730621483, 0.9985449474246537, 0.9987655987780064, 0.9978642816709893, 0.99320230569007, 0.9981227027034748, 0.9908014872346652, 0.9928934157966431, 0.8092289001440196, 0.06249747007914997, 0.1023274639637896, 0.025905687079440402, 0.9995790718833814, 0.9950134026597885, 0.9988311265329131, 0.9957657984589164, 0.9992884578720176, 0.9512354645611557, 0.04832935713550402, 0.9993734177480418, 0.9972950686922987, 0.9942849824162042, 0.9997060905162104, 0.049542643050115284, 0.9495673251272095, 0.9973104404318892, 0.41964365685042043, 0.1578756476014931, 0.2865527883347531, 0.007808902999643746, 0.1279981056898127, 0.9933372335393746, 0.9970113321867631, 0.3929068772687753, 0.03081622566813924, 0.2336897113167226, 0.3415465011552099, 0.9994411682016516, 0.9954135475685456, 0.9952892603906667, 0.9941871466132141, 0.3469429725731301, 0.4073621257860451, 0.2451647289134363, 0.0003737267209046285, 0.9938810380290806, 0.6778905575822736, 0.1874949163462165, 0.12236177508597941, 0.012014851300432087, 0.5869414408495273, 0.054666954636788084, 0.34222541821211855, 0.01593738802890687, 0.18539957542033203, 0.8130543880412479, 0.9989288537743736, 0.49656563769183804, 0.23744468218023815, 0.2658823618718412, 0.748717412914716, 0.2507637476826535, 0.991125934954007, 0.9989838732955107, 0.12968017968969572, 0.8684642336794774, 0.972422012553727, 0.025931253668099386, 0.6249779646110023, 0.18359608126438912, 0.19063940919013295, 0.986452799876372, 0.9993782717891698, 0.2767654341052991, 0.7225732291611402, 0.984745859893698, 0.9879844219436025, 0.9983471568421678, 0.9965985568895367, 0.9953069480118811, 0.3143796916687931, 0.6849463920613705, 0.9815747274151431, 0.356267884448307, 0.15918352283860526, 0.4769674786885681, 0.007580167754219298, 0.9975407795923019, 0.9984893534320111, 0.9967661647827647, 0.09396213108329832, 0.7030747231931515, 0.2026956015508706, 0.9891854268041251, 0.9894434908010341, 0.9923665424271502, 0.32926011054974047, 0.6655257553664967, 0.996600379534677, 0.9898338873604642, 0.984958979915312, 0.9930014061399122, 0.9989386992981593, 0.993292121629336, 0.99202069053577, 0.07206818242314278, 0.5792753147799583, 0.21347469187461232, 0.02675258286919694, 0.028936467185049754, 0.08025774860759083, 0.07826042241320333, 0.09960417398044061, 0.8210229769530605, 0.9988677211902584, 0.6984245008721364, 0.2846051993187095, 0.016708720116558287, 0.9949472956122869, 0.9957318139384692, 0.9980636883010219, 0.9930722213255301, 0.9934909137257123, 0.9977878496316719, 0.9976938716857252, 0.9886232967146432, 0.9995011081327698, 0.9988518701292206, 0.7154875891494423, 0.2604585171049851, 0.023973319567264065, 0.9889446526853402, 0.30618606004705745, 0.690881366260027, 0.3414153439019844, 0.09295383506920465, 0.4846460960526457, 0.009353845038410531, 0.011692306298013164, 0.05904614680496648, 0.9966343018359844, 0.28524126489586554, 0.7140518582426434, 0.40538758752052223, 0.1795888017254127, 0.4137894028059217, 0.9980430942723371, 0.993875551341157, 0.07831672832596717, 0.9181961252009944, 0.3510205512950958, 0.1755102756475479, 0.1222010797732927, 0.3272364485204281, 0.024604244249656248, 0.15540699658879575, 0.10172094322175723, 0.04520930809855877, 0.697918693771501, 0.9959637334079638, 0.9684103453196735, 0.03074318556570392, 0.2938204593253781, 0.5565100278010188, 0.1493411966637758, 0.00036283089568458647, 0.990844786383188, 0.32760961267943267, 0.4569458400789384, 0.21534956200260003, 0.9929365093476512, 0.9849897622934907, 0.013728080310710671, 0.2112004959132773, 0.16091466355297318, 0.6268967100917914, 0.5063769632992109, 0.31482359489497, 0.11808701769861439, 0.06062100717734212, 0.9990770465887506, 0.9992292123829775, 0.730264715374404, 0.17412404346424534, 0.09250339809038033, 0.0014403643301270294, 0.0014403643301270294, 0.8818087627059555, 0.05051379758075135, 0.06735173010766846, 0.8250207594377026, 0.11631547641000174, 0.024246042969972195, 0.034403169079014605, 0.9972403647463789, 0.9988742983762556, 0.9534398283424194, 0.04641223086506909, 0.9960669020184595, 0.9986134705067636, 0.9942611226513993, 0.4170140008586736, 0.5809270185372274, 0.9955263432282943, 0.9989840243542978, 0.9958015529893166, 0.9957465747337345, 0.9960175259266909, 0.9963351286714539, 0.992161381214132, 0.9979533521656462, 0.981724193509449, 0.25262385830903616, 0.7090474199010407, 0.03840102080701961, 0.9918499987764772, 0.9964451193372542, 0.25374220244538226, 0.5918512813043367, 0.10072699313255377, 0.05325057598727365, 0.15828248999273958, 0.2768068189920422, 0.5633656397371916, 0.0015003079620164888, 0.9974597289416229, 0.13101954633746718, 0.6541750588258044, 0.21461370759221737, 0.9953499641267938, 0.994830387131531, 0.11719370995031472, 0.513849343628303, 0.36810844792086034, 0.9769082341470247, 0.021952994025775833, 0.9952808894986227, 0.35911370033920476, 0.4774523436390879, 0.16266906896416258, 0.0006208743090235214, 0.09056534594945513, 0.9056534594945513, 0.9978403991034217, 0.9983240151915178, 0.992146360165346, 0.9967767614572403, 0.8429354822301157, 0.1569672299982064, 0.9946061241207701, 0.0037865715385308504, 0.9920717245810221, 0.005406385420060066, 0.7460663266438542, 0.0023050452934413623, 0.25124993698510845, 0.9986493574116696, 0.9984083643688377, 0.07431820801624414, 0.12209419888382966, 0.8033444390327343, 0.9980394612032806, 0.9994356525900441, 0.998541964367591, 0.996029791019564, 0.7786412886589109, 0.1066963007519306, 0.1142928011290907, 0.9970574118294464, 0.2379825291222105, 0.1427895174733263, 0.6157797941037196, 0.9962369779953445, 0.13996606125531533, 0.20514633487911413, 0.09056627492990992, 0.45351748279295795, 0.09193849121672673, 0.018524919872027028, 0.5716531247027568, 0.15286293999171818, 0.024421889821162075, 0.24964598483854564, 0.9921514508197742, 0.31982246899323497, 0.6488098111097939, 0.030970950554680857, 0.996839830223423, 0.9074932319060441, 0.09195931416647914, 0.2587906912337244, 0.7408517827475246, 0.9988121454930761, 0.3190206340832865, 0.3512515847432474, 0.32033618308981554, 0.008551068542438608, 0.25204418141552803, 0.21720277986691094, 0.530034087388537, 0.700966363568122, 0.29868220837572496, 0.990560829155329, 0.9959470697540042, 0.4719321167029269, 0.07434547043950218, 0.4525376461534915, 0.22248687186135324, 0.02813052402844696, 0.5753970824000515, 0.17389778490312666, 0.9982215214788516, 0.9996758016805185, 0.9972441780139106, 0.05426903892669446, 0.8905055932971228, 0.051802264430026536, 0.9989209135169588, 0.9984127905517396, 0.11592789945482591, 0.06520944344333958, 0.5334494748350974, 0.19653401704450957, 0.08785161130561027, 0.13959627755992118, 0.8595613311169951, 0.22125063467945555, 0.18061276300363718, 0.047410850288454764, 0.5497400973923207, 0.9974991449400253, 0.9974557816694057, 0.5644069268845856, 0.06557560248774665, 0.1301724646398553, 0.23946513545276638, 0.9986487320646643, 0.72349320709814, 0.27597163569722866, 0.9971826583278143, 0.99279627979054, 0.9880928866004391, 0.6848220037205522, 0.3147233175911787, 0.9924371458755914, 0.7023310271358603, 0.05369314530827754, 0.2440878042462502, 0.05733139192027393, 0.22523046825821902, 0.7166423990034242, 0.9990267991114407, 0.9948996236914571, 0.9934521108538871, 0.9460388365464659, 0.025051796204379934, 0.028905918697361463, 0.41795830716620863, 0.5804976488419564, 0.9961279527888887, 0.9977763553939161, 0.9980142507930194, 0.9986989567780459, 0.9953319054295561, 0.7098961864778399, 0.1591183748277597, 0.13069668947286892, 0.775079987041996, 0.17699013493402443, 0.04745387675767322, 0.41818133550590464, 0.5790203107004834, 0.05917107344731828, 0.30503708553014075, 0.24076505747529506, 0.3948138866226237, 0.1127042889409991, 0.7669983771714479, 0.04264486608578344, 0.07736997132706425, 0.9992874168764242, 0.9970802854411736, 0.024640358767941184, 0.4400064065703783, 0.4939805257763447, 0.03754721336067228, 0.0035200512525630267, 0.990369246106164, 0.31512354211558613, 0.6845787294235147, 0.991040240636468, 0.9948611268971111, 0.9974367231849086, 0.994121066790188, 0.9986262185716344, 0.9959416927019181, 0.9952345294757029, 0.9987494707878201, 0.28831426333769494, 0.7087725640385001, 0.9934360299485064, 0.29228655398849873, 0.7070755607515888, 0.9985578093984319, 0.9946171035709154, 0.9881926996471205, 0.997188642027202, 0.4201154795150784, 0.05380347656543159, 0.44208523244596293, 0.08384375098113091, 0.9989127239693597, 0.26091276520732753, 0.7376074389374719, 0.12250294602514702, 0.8711320606232676, 0.9928436015329415, 0.9967049759699845, 0.13422842305493185, 0.8068787228582982, 0.05856783253145903, 0.6974565757249052, 0.07693157380723196, 0.17584359727367307, 0.0019726044565956916, 0.04790610823160965, 0.9647412247162327, 0.03461285310050606, 0.999499412222399, 0.8647473020096575, 0.1152730490225051, 0.014758141224334562, 0.004786424180865263, 0.9942942586598118, 0.9987349943921269, 0.00995715096510119, 0.9702247900394598, 0.01951601589159833, 0.8886985309851558, 0.0925007225830853, 0.018442511667655634, 0.8756169717000952, 0.12414934345200132, 0.6126771626985416, 0.18493154467537834, 0.1531692906746354, 0.0470164944089945, 0.0022985841711063975, 0.9969232310859629, 0.996678552334913, 0.9975502947588747, 0.9956213110673428, 0.9524437470853889, 0.046816332451417184, 0.9919880090783065, 0.0062784051207487755, 0.9991821558063473, 0.9941293409111499, 0.9967367351147579, 0.9964129968052712, 0.9967924348962601, 0.9962717519634119, 0.998836835192667, 0.9975907664664334, 0.12800593532955923, 0.7909088037001782, 0.05267129470117929, 0.028329182409000814, 0.08146396203698682, 0.9104795757074998, 0.9979432834500768, 0.997488334011856, 0.9987688661002524, 0.9939715465456874, 0.9985887012887914, 0.5100993898430399, 0.48637383682708457, 0.5980153426959741, 0.3712398616174446, 0.03051670054019718, 0.15366346973348688, 0.33382064114516113, 0.5104453189997438, 0.7530626920538954, 0.17047557244112424, 0.06033164541927264, 0.01546965267160837, 0.9965769202579545, 0.1579809390122451, 0.09373535714726544, 0.30227019664342897, 0.4455062480145312, 0.5979198181702485, 0.16645386879464796, 0.23194032507043708, 0.0035042919746241675, 0.9910667193179765, 0.14940886359367112, 0.8498123193819919, 0.9995852981991373, 0.9973534928616905, 0.995558713086371, 0.9979858437936633, 0.9970206862418329, 0.9912920462076787, 0.9647848075151096, 0.03461928487778486, 0.3229906109101706, 0.593298722517316, 0.06040558820608656, 0.023169266709183886, 0.9956388667867397, 0.6446046911841801, 0.23096024527672832, 0.12437056254347001, 0.9451140254911394, 0.05377980928634282, 0.14310805477963504, 0.5330571376326824, 0.18438400226825843, 0.04507767949415449, 0.09422864327994945], \"Term\": [\"_\", \"accept\", \"agree\", \"agree\", \"ai\", \"also\", \"also\", \"also\", \"also\", \"also\", \"amendment\", \"analysis\", \"announce\", \"application\", \"arab\", \"area\", \"area\", \"area\", \"area\", \"area\", \"argument\", \"arm\", \"arm\", \"arm\", \"armenian\", \"article\", \"article\", \"article\", \"astronomy\", \"atheist\", \"attack\", \"attack\", \"attack\", \"available\", \"available\", \"ax\", \"back\", \"back\", \"back\", \"ball\", \"band\", \"baseball\", \"belief\", \"believe\", \"bhj\", \"big\", \"big\", \"big\", \"bike\", \"bit\", \"bit\", \"black\", \"black\", \"black\", \"black\", \"bo\", \"border\", \"box\", \"box\", \"buyer\", \"bxn\", \"c\", \"cable\", \"cambridge\", \"cap\", \"capable\", \"car\", \"card\", \"carry\", \"carry\", \"carry\", \"carry\", \"case\", \"case\", \"case\", \"case\", \"cause\", \"cause\", \"cause\", \"cd\", \"center\", \"center\", \"center\", \"center\", \"center\", \"certainly\", \"child\", \"child\", \"chip\", \"choose\", \"christian\", \"church\", \"ci\", \"citizen\", \"citizen\", \"civilian\", \"civilian\", \"claim\", \"clear\", \"coach\", \"code\", \"color\", \"colorado\", \"com\", \"com\", \"come\", \"come\", \"come\", \"come\", \"computer\", \"conclusion\", \"condition\", \"condition\", \"condition\", \"condition\", \"constitution\", \"conversion\", \"convert\", \"cop\", \"copy\", \"copy\", \"cost\", \"cost\", \"cost\", \"country\", \"country\", \"country\", \"court\", \"crime\", \"criminal\", \"cub\", \"cx\", \"daughter\", \"death\", \"death\", \"degree\", \"diagnosis\", \"direct\", \"disk\", \"distribution\", \"distribution\", \"division\", \"division\", \"division\", \"dn\", \"do\", \"do\", \"doctor\", \"dog\", \"dream\", \"drive\", \"drive\", \"driver\", \"drug\", \"drug\", \"drug\", \"earth\", \"earth\", \"eat\", \"eat\", \"eeg\", \"effect\", \"effect\", \"ei\", \"email\", \"encryption\", \"engine\", \"ensure\", \"entry\", \"ethernet\", \"ethnic\", \"even\", \"even\", \"even\", \"even\", \"evidence\", \"examine\", \"existence\", \"expansion\", \"explain\", \"fact\", \"fact\", \"faith\", \"fan\", \"father\", \"file\", \"fire\", \"fire\", \"firearm\", \"first\", \"first\", \"first\", \"first\", \"first\", \"floppy\", \"food\", \"force\", \"force\", \"force\", \"force\", \"game\", \"gang\", \"gateway\", \"gb\", \"get\", \"get\", \"get\", \"get\", \"girl\", \"give\", \"give\", \"give\", \"give\", \"go\", \"go\", \"go\", \"go\", \"goal\", \"goal\", \"god\", \"good\", \"good\", \"good\", \"government\", \"government\", \"grade\", \"graphic\", \"greek\", \"greek\", \"ground\", \"ground\", \"group\", \"group\", \"group\", \"guide\", \"gun\", \"guy\", \"guy\", \"gw\", \"gy\", \"hardware\", \"health\", \"helmet\", \"help\", \"help\", \"hh\", \"high\", \"high\", \"high\", \"high\", \"hit\", \"hockey\", \"honest\", \"host\", \"host\", \"host\", \"hst\", \"human_being\", \"husband\", \"hz\", \"hz\", \"ice\", \"icon\", \"ij\", \"illegal\", \"image\", \"improve\", \"inch\", \"include\", \"include\", \"include\", \"include\", \"include\", \"include\", \"increase\", \"increase\", \"increase\", \"info\", \"information\", \"information\", \"information\", \"inhabitant\", \"international\", \"internet\", \"invasion\", \"ip\", \"israeli\", \"item\", \"jet\", \"key\", \"kill\", \"know\", \"know\", \"know\", \"kp\", \"land\", \"land\", \"last\", \"last\", \"last\", \"last\", \"last\", \"last\", \"launch\", \"law\", \"law\", \"lead\", \"lead\", \"lead\", \"lebanese\", \"lebanese_resistance\", \"legal\", \"legal\", \"less\", \"less\", \"less\", \"less\", \"less\", \"level\", \"level\", \"level\", \"level\", \"liar\", \"life\", \"life\", \"line\", \"line\", \"line\", \"line\", \"lk\", \"look\", \"look\", \"look\", \"los_angele\", \"love\", \"love\", \"low\", \"low\", \"low\", \"m\", \"m\", \"m\", \"m\", \"machine\", \"mail\", \"make\", \"make\", \"make\", \"make\", \"make\", \"man\", \"man\", \"man\", \"many\", \"many\", \"many\", \"many\", \"material\", \"matter\", \"mean\", \"mean\", \"medical\", \"memory\", \"mf\", \"military\", \"military\", \"militia\", \"mind\", \"mission\", \"moon\", \"motif\", \"motorcycle\", \"mu\", \"murder\", \"n\", \"need\", \"need\", \"need\", \"negative\", \"nei\", \"new\", \"new\", \"new\", \"new\", \"next\", \"next\", \"next\", \"next\", \"nhl\", \"nntp_poste\", \"nntp_poste\", \"nntp_poste\", \"northern\", \"occupy\", \"offer\", \"offer\", \"offer\", \"opinion\", \"opinion\", \"orbit\", \"organization\", \"organization\", \"organization\", \"organization\", \"owner\", \"owner\", \"pack\", \"patient\", \"patrol\", \"pen\", \"people\", \"people\", \"perhaps\", \"perhaps\", \"period\", \"period\", \"person\", \"person\", \"person\", \"phone\", \"physical\", \"pick\", \"pick\", \"pick\", \"pin\", \"play\", \"player\", \"playoff\", \"point\", \"point\", \"point\", \"police\", \"policy\", \"policy\", \"policy\", \"possess\", \"power\", \"power\", \"power\", \"power\", \"power\", \"power\", \"price\", \"price\", \"price\", \"price\", \"probe\", \"problem\", \"problem\", \"problem\", \"procedure\", \"program\", \"program\", \"protect\", \"protect\", \"prove\", \"provide\", \"provide\", \"provide\", \"provide\", \"public\", \"public\", \"public\", \"question\", \"question\", \"qx\", \"r\", \"radio\", \"radio\", \"radio\", \"rate\", \"rate\", \"rate\", \"rate\", \"reality\", \"reason\", \"recommend\", \"reduce\", \"reduce\", \"reduce\", \"religion\", \"religious\", \"report\", \"report\", \"report\", \"report\", \"report\", \"research\", \"research\", \"result\", \"result\", \"result\", \"result\", \"ride\", \"rider\", \"right\", \"right\", \"right\", \"right\", \"ripem\", \"risk\", \"risk\", \"rlk\", \"rocket\", \"routine\", \"run\", \"run\", \"russian\", \"s\", \"s\", \"s\", \"safety\", \"safety\", \"safety\", \"sale\", \"satellite\", \"saturn\", \"say\", \"say\", \"say\", \"science\", \"science\", \"scientific\", \"score\", \"screen\", \"season\", \"sector\", \"see\", \"see\", \"see\", \"seem\", \"seem\", \"seem\", \"select\", \"select\", \"sell\", \"sell\", \"sell\", \"sell\", \"send\", \"send\", \"send\", \"send\", \"sense\", \"server\", \"service\", \"service\", \"service\", \"service\", \"service\", \"shipping\", \"shoot\", \"shoot\", \"shuttle\", \"significant\", \"sj\", \"sky\", \"slave\", \"slightly\", \"smoke\", \"software\", \"soldier\", \"soldier\", \"son\", \"space\", \"space\", \"speak\", \"sport\", \"stack\", \"stat\", \"state\", \"state\", \"state\", \"state\", \"statement\", \"study\", \"study\", \"super\", \"super\", \"sy\", \"syndrome\", \"system\", \"system\", \"system\", \"take\", \"take\", \"take\", \"take\", \"take\", \"talk\", \"talk\", \"team\", \"tell\", \"tell\", \"tell\", \"tell\", \"terrorism\", \"test\", \"thank\", \"thank\", \"thank\", \"thing\", \"thing\", \"thing\", \"think\", \"think\", \"time\", \"time\", \"time\", \"time\", \"time\", \"trade\", \"translation\", \"treatment\", \"trial\", \"true\", \"true\", \"trust\", \"trust\", \"truth\", \"tube\", \"tumor\", \"turk\", \"turkish\", \"tv\", \"understand\", \"upgrade\", \"use\", \"use\", \"use\", \"use\", \"usenet\", \"usenet\", \"user\", \"valid\", \"version\", \"vertical\", \"village\", \"wa\", \"wa\", \"want\", \"want\", \"want\", \"war\", \"war\", \"war\", \"way\", \"way\", \"way\", \"way\", \"weapon\", \"week\", \"week\", \"week\", \"week\", \"well\", \"well\", \"well\", \"well\", \"widget\", \"win\", \"win\", \"window\", \"wing\", \"winner\", \"wire\", \"withdraw\", \"wm\", \"word\", \"word\", \"work\", \"work\", \"work\", \"work\", \"workstation\", \"write\", \"write\", \"write\", \"wrong\", \"wrong\", \"year\", \"year\", \"year\", \"year\", \"year\"]}, \"R\": 30, \"lambda.step\": 0.01, \"plot.opts\": {\"xlab\": \"PC1\", \"ylab\": \"PC2\"}, \"topic.order\": [3, 2, 4, 8, 6, 5, 7, 1]};\n",
       "\n",
       "function LDAvis_load_lib(url, callback){\n",
       "  var s = document.createElement('script');\n",
       "  s.src = url;\n",
       "  s.async = true;\n",
       "  s.onreadystatechange = s.onload = callback;\n",
       "  s.onerror = function(){console.warn(\"failed to load library \" + url);};\n",
       "  document.getElementsByTagName(\"head\")[0].appendChild(s);\n",
       "}\n",
       "\n",
       "if(typeof(LDAvis) !== \"undefined\"){\n",
       "   // already loaded: just create the visualization\n",
       "   !function(LDAvis){\n",
       "       new LDAvis(\"#\" + \"ldavis_el243223746034450729100870029\", ldavis_el243223746034450729100870029_data);\n",
       "   }(LDAvis);\n",
       "}else if(typeof define === \"function\" && define.amd){\n",
       "   // require.js is available: use it to load d3/LDAvis\n",
       "   require.config({paths: {d3: \"https://d3js.org/d3.v5\"}});\n",
       "   require([\"d3\"], function(d3){\n",
       "      window.d3 = d3;\n",
       "      LDAvis_load_lib(\"https://cdn.jsdelivr.net/gh/bmabey/pyLDAvis@3.3.1/pyLDAvis/js/ldavis.v3.0.0.js\", function(){\n",
       "        new LDAvis(\"#\" + \"ldavis_el243223746034450729100870029\", ldavis_el243223746034450729100870029_data);\n",
       "      });\n",
       "    });\n",
       "}else{\n",
       "    // require.js not available: dynamically load d3 & LDAvis\n",
       "    LDAvis_load_lib(\"https://d3js.org/d3.v5.js\", function(){\n",
       "         LDAvis_load_lib(\"https://cdn.jsdelivr.net/gh/bmabey/pyLDAvis@3.3.1/pyLDAvis/js/ldavis.v3.0.0.js\", function(){\n",
       "                 new LDAvis(\"#\" + \"ldavis_el243223746034450729100870029\", ldavis_el243223746034450729100870029_data);\n",
       "            })\n",
       "         });\n",
       "}\n",
       "</script>"
      ],
      "text/plain": [
       "<IPython.core.display.HTML object>"
      ]
     },
     "execution_count": 26,
     "metadata": {},
     "output_type": "execute_result"
    }
   ],
   "source": [
    "pyLDAvis.display(vis)"
   ]
  },
  {
   "cell_type": "code",
   "execution_count": 27,
   "id": "acb48bde",
   "metadata": {},
   "outputs": [
    {
     "data": {
      "text/plain": [
       "'\\n<link rel=\"stylesheet\" type=\"text/css\" href=\"https://cdn.jsdelivr.net/gh/bmabey/pyLDAvis@3.3.1/pyLDAvis/js/ldavis.v1.0.0.css\">\\n\\n\\n<div id=\"ldavis_el243223746034450723168361166\"></div>\\n<script type=\"text/javascript\">\\n\\nvar ldavis_el243223746034450723168361166_data = {\"mdsDat\": {\"x\": [0.25882677308780844, 0.23734374228651361, 0.1890152912370282, 0.020535589519430384, -0.06310820524604746, -0.263690236327624, -0.13245329022693003, -0.24646966433017878], \"y\": [-0.01947269573664832, -0.10329349879140184, -0.07702978975804965, 0.07586729099069255, 0.25866822796147226, -0.19060152281454157, 0.19638022894950954, -0.14051824080103292], \"topics\": [1, 2, 3, 4, 5, 6, 7, 8], \"cluster\": [1, 1, 1, 1, 1, 1, 1, 1], \"Freq\": [35.00731076821505, 26.70484975746512, 11.16420589057515, 9.462275538647946, 6.7352761257162355, 4.5596484263034975, 4.279900382054066, 2.086533111022935]}, \"tinfo\": {\"Term\": [\"ax\", \"_\", \"people\", \"line\", \"go\", \"get\", \"say\", \"think\", \"write\", \"team\", \"year\", \"nntp_poste\", \"game\", \"space\", \"car\", \"host\", \"article\", \"organization\", \"government\", \"law\", \"state\", \"sale\", \"child\", \"gun\", \"c\", \"good\", \"right\", \"physical\", \"kill\", \"first\", \"believe\", \"reason\", \"evidence\", \"claim\", \"christian\", \"sense\", \"faith\", \"understand\", \"god\", \"religion\", \"argument\", \"matter\", \"accept\", \"explain\", \"speak\", \"prove\", \"patient\", \"truth\", \"belief\", \"mind\", \"clear\", \"atheist\", \"certainly\", \"church\", \"valid\", \"statement\", \"conclusion\", \"slave\", \"religious\", \"existence\", \"perhaps\", \"agree\", \"say\", \"opinion\", \"love\", \"mean\", \"talk\", \"life\", \"fact\", \"think\", \"thing\", \"people\", \"true\", \"word\", \"tell\", \"many\", \"make\", \"even\", \"know\", \"write\", \"wrong\", \"come\", \"article\", \"man\", \"see\", \"point\", \"way\", \"take\", \"go\", \"s\", \"time\", \"seem\", \"well\", \"give\", \"line\", \"question\", \"good\", \"want\", \"organization\", \"get\", \"m\", \"key\", \"mail\", \"file\", \"window\", \"card\", \"computer\", \"chip\", \"driver\", \"software\", \"info\", \"email\", \"machine\", \"image\", \"version\", \"code\", \"phone\", \"entry\", \"memory\", \"color\", \"ripem\", \"user\", \"internet\", \"pin\", \"application\", \"screen\", \"hardware\", \"choose\", \"graphic\", \"disk\", \"encryption\", \"thank\", \"drive\", \"copy\", \"program\", \"bit\", \"use\", \"system\", \"available\", \"host\", \"line\", \"nntp_poste\", \"need\", \"com\", \"organization\", \"problem\", \"run\", \"work\", \"get\", \"help\", \"new\", \"send\", \"do\", \"also\", \"write\", \"information\", \"look\", \"know\", \"m\", \"want\", \"article\", \"team\", \"game\", \"car\", \"play\", \"player\", \"hockey\", \"bike\", \"season\", \"hit\", \"trade\", \"fan\", \"engine\", \"ride\", \"score\", \"playoff\", \"pen\", \"capable\", \"motorcycle\", \"baseball\", \"sport\", \"pack\", \"rider\", \"stat\", \"helmet\", \"coach\", \"saturn\", \"dog\", \"ice\", \"winner\", \"ball\", \"win\", \"division\", \"year\", \"pick\", \"goal\", \"owner\", \"next\", \"go\", \"guy\", \"last\", \"get\", \"good\", \"line\", \"big\", \"nntp_poste\", \"well\", \"article\", \"organization\", \"first\", \"run\", \"write\", \"host\", \"s\", \"look\", \"time\", \"back\", \"think\", \"take\", \"see\", \"test\", \"wire\", \"scientific\", \"announce\", \"motif\", \"material\", \"food\", \"treatment\", \"health\", \"dn\", \"doctor\", \"diagnosis\", \"syndrome\", \"significant\", \"convert\", \"cable\", \"tumor\", \"analysis\", \"translation\", \"medical\", \"eeg\", \"procedure\", \"degree\", \"improve\", \"ensure\", \"tube\", \"slightly\", \"los_angele\", \"negative\", \"cap\", \"period\", \"trust\", \"ground\", \"eat\", \"research\", \"effect\", \"increase\", \"reduce\", \"study\", \"level\", \"low\", \"high\", \"report\", \"science\", \"power\", \"risk\", \"result\", \"rate\", \"cost\", \"year\", \"cause\", \"service\", \"information\", \"provide\", \"week\", \"case\", \"also\", \"lead\", \"less\", \"group\", \"include\", \"gun\", \"kill\", \"reality\", \"crime\", \"murder\", \"weapon\", \"police\", \"tv\", \"trial\", \"criminal\", \"firearm\", \"cop\", \"court\", \"examine\", \"militia\", \"father\", \"smoke\", \"illegal\", \"colorado\", \"son\", \"girl\", \"amendment\", \"dream\", \"husband\", \"honest\", \"constitution\", \"possess\", \"gang\", \"cub\", \"liar\", \"child\", \"fire\", \"citizen\", \"legal\", \"government\", \"death\", \"law\", \"drug\", \"black\", \"protect\", \"arm\", \"public\", \"state\", \"carry\", \"safety\", \"right\", \"people\", \"country\", \"shoot\", \"case\", \"person\", \"ax\", \"_\", \"c\", \"cx\", \"rlk\", \"sj\", \"mf\", \"nei\", \"mu\", \"r\", \"ip\", \"sy\", \"conversion\", \"lk\", \"wm\", \"gy\", \"hst\", \"kp\", \"bo\", \"ei\", \"gb\", \"ai\", \"bhj\", \"n\", \"qx\", \"ij\", \"ci\", \"hh\", \"gw\", \"bxn\", \"hz\", \"m\", \"wa\", \"israeli\", \"lebanese\", \"armenian\", \"village\", \"launch\", \"turk\", \"orbit\", \"mission\", \"moon\", \"turkish\", \"arab\", \"occupy\", \"terrorism\", \"withdraw\", \"satellite\", \"international\", \"workstation\", \"rocket\", \"northern\", \"ethnic\", \"cambridge\", \"lebanese_resistance\", \"patrol\", \"astronomy\", \"expansion\", \"inhabitant\", \"border\", \"invasion\", \"sky\", \"russian\", \"greek\", \"space\", \"soldier\", \"land\", \"civilian\", \"attack\", \"earth\", \"war\", \"military\", \"government\", \"force\", \"first\", \"policy\", \"year\", \"center\", \"area\", \"sale\", \"physical\", \"server\", \"item\", \"wing\", \"direct\", \"nhl\", \"recommend\", \"upgrade\", \"gateway\", \"vertical\", \"shuttle\", \"band\", \"cd\", \"probe\", \"floppy\", \"sector\", \"widget\", \"icon\", \"daughter\", \"ethernet\", \"buyer\", \"inch\", \"shipping\", \"human_being\", \"routine\", \"jet\", \"guide\", \"grade\", \"stack\", \"usenet\", \"box\", \"sell\", \"offer\", \"price\", \"select\", \"super\", \"distribution\", \"radio\", \"condition\", \"include\"], \"Freq\": [33697.0, 3365.0, 6058.0, 13780.0, 5835.0, 8027.0, 6746.0, 5630.0, 10460.0, 1882.0, 3682.0, 5419.0, 1801.0, 1395.0, 1754.0, 4874.0, 7469.0, 8053.0, 1678.0, 1581.0, 2230.0, 871.0, 1274.0, 1228.0, 1070.0, 5028.0, 3065.0, 815.0, 1165.0, 2945.0, 2735.656669713619, 2727.809270271003, 2400.936061728416, 1658.1096122254107, 1420.646781233401, 1410.9309882759626, 1160.6533225626542, 907.9822524051918, 875.8648057171318, 854.8490194915464, 841.5277708155628, 829.8600813078448, 826.5183883142234, 813.5046445429672, 791.0673160525297, 788.8628673479586, 751.1822535623814, 733.525761974027, 710.537439175596, 702.6397493226665, 692.4633276382659, 624.9742780139759, 607.1569618843074, 600.3317674171502, 562.3386720716584, 548.5227438700632, 534.9093917275108, 516.6288799645205, 509.7360029868168, 509.52205919960954, 788.4436758236608, 1031.335094679756, 6381.633467281863, 1157.1017718776634, 860.9041944366273, 2156.5690908022266, 1309.7336910365502, 1197.218746499537, 1672.9493693636314, 4930.396391486912, 3084.46865066857, 5107.109349765815, 1240.6172751660326, 1058.5844296495018, 2167.7123980107417, 2517.626577125056, 4562.613820044955, 2498.9141440776575, 4626.206043885948, 6742.98934337255, 1071.8430772418144, 2754.4684263213862, 4870.818599649167, 1414.2734146714013, 3297.449376518315, 2255.2872803565765, 2434.3666119840905, 2474.5283241168054, 3425.088742870259, 2275.5962243880417, 2931.5770024947533, 1813.3772727431478, 2729.738745680018, 2143.808737358767, 4048.685639885939, 1908.3104802913033, 2496.7022041973833, 2136.0719768188396, 2891.9781238707933, 2785.2017342372646, 2247.4017440194725, 2285.0770488233775, 2017.4918562208209, 1966.5146315749766, 1551.5805921093806, 1520.027692620676, 1498.1246152604738, 1263.3937989272588, 1201.9093311935244, 1088.2988961359736, 1031.1048100689898, 1018.4198072587466, 996.8572046642969, 926.9205707562384, 904.0507368780686, 881.8785565750757, 879.1250268497931, 824.4848212205684, 799.0455217921226, 779.6964847169875, 771.9790566932651, 752.4859172700895, 749.389115451167, 737.3840231649276, 733.9744800881671, 719.3669137825775, 699.093559649713, 696.1291114017025, 690.6396351550026, 687.0067054655007, 678.7758478889159, 2435.7913209062067, 2632.5486509357033, 936.7247254604845, 1875.2595618352323, 1574.004451998607, 3768.818763169466, 3209.9148890817887, 1138.8975224331396, 3427.153774362644, 7668.822293736047, 3544.7834900528064, 2584.588384378503, 1049.7072003690876, 3845.1589601542505, 2053.082019164272, 1718.7209333957258, 2150.767586252118, 3270.4164557194613, 1536.276970701693, 1844.9795264590566, 1259.3240864690158, 1309.3165717747577, 1806.2100005621708, 2415.913508936654, 1253.9883034088282, 1444.902974564897, 1683.605357109326, 1396.5168747795444, 1325.9180733986552, 1312.8337720133654, 1881.8760040925233, 1799.9400369660111, 1753.3569634979071, 1291.6616657491466, 881.2202184767887, 733.0427498627669, 654.851891197176, 614.7341300514975, 545.2765785704061, 478.407784947881, 477.2273102951647, 467.93437192022253, 449.0591068044402, 434.9032343386128, 344.30506249182366, 342.03840414223504, 326.97423779134004, 316.0958948934221, 295.9226756774582, 270.39470248239337, 270.51824635526117, 244.5583624441382, 234.5953969474604, 225.999332888804, 225.26717464290405, 216.35509220707837, 210.04732129386775, 209.6498591871203, 207.85946706169867, 207.3657426431914, 1075.047674367243, 442.69426680810363, 1963.2014523157118, 453.60796046126, 420.9446645284403, 290.4514947544742, 750.7947764730195, 1997.3224824163408, 435.9440434366063, 829.4997246661136, 1967.6112752612394, 1337.2877962777147, 2057.7683979878516, 577.8164475752004, 1163.0561527967259, 1059.3808745366878, 1285.115427595731, 1310.2057764838626, 844.0602262868914, 790.4964812819977, 1300.9796971460019, 988.2557564275817, 790.7456740348977, 680.8302189805972, 732.5321352677255, 601.8903787181968, 698.984068069581, 623.936820420864, 607.0334124132065, 927.1081085319341, 570.0842659165442, 381.41546993716264, 382.1721019769057, 374.4295229592432, 370.9605641409063, 370.04370214080444, 344.7810049443983, 314.0058930301202, 410.3251120425481, 308.51123444253193, 305.4223191144769, 297.91957529198555, 290.4316140851371, 285.8209672406665, 276.14345144826467, 274.8274021874316, 272.1707226114014, 259.8006185137833, 252.9334988447478, 254.0247787179231, 248.7236534546706, 244.53283855829457, 222.43274321466126, 215.40464312680996, 199.10897579836916, 186.69516103553124, 185.25003292010015, 184.44532906033078, 183.5495506949916, 366.6787880157087, 315.72602877104515, 449.7136179764387, 367.2348069343521, 782.1160230671023, 561.5300589978773, 576.5203109202242, 360.7411323850146, 523.406542830559, 493.54696191459124, 561.3897091068312, 817.626244652959, 588.5606097653965, 525.1941631942368, 661.0676403423898, 387.70731364035714, 487.18987080442133, 450.08324000588425, 450.7293705777376, 678.760675477293, 475.7650611707086, 420.5827463817774, 510.66273874055946, 487.16574285705025, 422.6147330105551, 470.9176942416429, 443.31515253398106, 393.70407141443565, 398.9290180645094, 406.40474538255006, 390.8737102641954, 1227.6981597160639, 1164.271447834269, 503.8280062052641, 489.031985163912, 486.93232065654655, 433.4213742921011, 432.2086478074703, 361.28327809710163, 342.4377802514961, 332.5777910411676, 300.7460087165529, 299.9458293585877, 275.53783923035536, 275.30600572582193, 232.9809604426462, 220.19760335170218, 217.9760050238931, 214.44145621488417, 209.41279983353184, 205.28757045906403, 202.17649424054616, 198.96821767780955, 197.32427805267102, 195.4331447690599, 194.56412692592104, 187.741154609212, 186.63217971555878, 180.76663683670938, 181.436395989968, 171.6280507617814, 1216.8104310718916, 574.7389026997163, 377.0729116161045, 340.18592524250244, 1257.2556918466107, 798.3446863498701, 1129.3890623381412, 456.3185259716521, 462.85481573019456, 437.6197357380799, 265.60332706843474, 715.0110537014448, 985.5903651272909, 438.5908522422449, 349.8264577652512, 734.4947437697724, 950.5454280808145, 360.89403325121515, 314.67452374094125, 374.78090250389965, 326.9293262433825, 33696.63803855924, 3364.262512484092, 1069.7875927221307, 572.2534670720603, 448.32363590329754, 300.82358102660163, 197.19486727968138, 179.6991940636798, 178.4405228457437, 163.72555300056263, 159.04765198519516, 145.0993887449745, 128.68668997311468, 111.0708196943107, 110.01912268749223, 111.38648709403205, 106.1925561250608, 85.00646599417321, 85.27417329203045, 82.91752346662933, 84.52788845188428, 86.61267566543822, 78.7776503232623, 77.48587305692034, 76.7909394369519, 76.21820207026052, 74.1534408773313, 76.40396985136059, 69.11558322889495, 61.485990060132714, 95.42772737707584, 269.1150281711058, 86.13522394713671, 518.066892980301, 441.7845620954631, 433.22310871001025, 425.5203778554238, 364.1474888216849, 339.1389627669608, 321.4403634926652, 307.2121099499117, 300.19961063318726, 297.87755010453975, 291.74823871298304, 267.3054909128588, 267.4492603294227, 263.7064392745424, 258.2409726605019, 223.87723847997992, 197.78055317045028, 193.31724546705902, 175.73888527983445, 170.134619182732, 166.64198560507253, 160.90916731047943, 158.16746762858435, 154.66087212433413, 154.57519200785194, 151.6903121283133, 151.01190339617906, 143.92265191052638, 143.7676360980481, 137.97004214953802, 442.0436647111309, 986.7485302430462, 354.08447506327036, 264.3122587975117, 190.25201336146728, 352.80259087474127, 353.19549742175496, 289.49796041976174, 240.56804283656209, 420.6736935806001, 266.07420269683746, 376.9369978520282, 207.3330343526007, 347.40222014229175, 241.6314292784993, 245.44124196280129, 870.7639444488002, 814.2097373699766, 512.4147964630752, 422.89190464893284, 385.9383621050227, 329.27592216163055, 322.7369136258915, 299.7414639709867, 265.5576636275896, 257.13131173134434, 194.08875299408268, 153.29606610003057, 149.11606191376976, 145.29468993453486, 145.06143849457607, 143.8809683938037, 142.58409738167902, 134.1235995528547, 135.2918425621878, 132.78460190188972, 131.12748755424505, 129.2266057186417, 127.94415992675435, 121.09218031402195, 120.19258361404381, 118.33746282341848, 117.26101667014112, 111.43944739960831, 104.85406583985085, 101.12141833210168, 190.48281012642678, 332.8338683874059, 386.9866946905475, 244.62570738187256, 276.34515555527025, 162.1663276091723, 128.11588873910353, 180.72359285898847, 139.8125692015176, 143.50326492158086, 146.54245275101178], \"Total\": [33697.0, 3365.0, 6058.0, 13780.0, 5835.0, 8027.0, 6746.0, 5630.0, 10460.0, 1882.0, 3682.0, 5419.0, 1801.0, 1395.0, 1754.0, 4874.0, 7469.0, 8053.0, 1678.0, 1581.0, 2230.0, 871.0, 1274.0, 1228.0, 1070.0, 5028.0, 3065.0, 815.0, 1165.0, 2945.0, 2736.731539966448, 2728.884699833745, 2402.011073997475, 1659.1847096155786, 1421.7212267196512, 1412.006171768387, 1161.7279180950827, 909.057383556399, 876.9393302537046, 855.9236156041142, 842.6026191809971, 830.9353853124729, 827.5936813447639, 814.5796077074792, 792.1424203537376, 789.9383318076297, 752.2607776353339, 734.6007889899281, 711.6120371934146, 703.7149572580906, 693.5405756622592, 626.048730388896, 608.2318512062154, 601.4061646550365, 563.4151105704261, 549.5975642581161, 535.9840947225479, 517.7112220621254, 510.8107636703707, 510.5968230788758, 792.2734245142423, 1044.134915114789, 6746.023264010621, 1184.3487029364844, 874.1207603977651, 2262.3346915872, 1357.8770829300065, 1236.0462749960284, 1758.765376532533, 5630.315719472554, 3470.243161740427, 6058.589426664831, 1302.9640897928446, 1097.6541004284159, 2507.090793994507, 3052.044413665611, 6248.419106023173, 3088.125003389337, 6465.520954038208, 10460.674723934568, 1134.2546730728313, 3611.9498524301366, 7469.560037964526, 1603.5222826102793, 4644.3410498626745, 2896.0704150224146, 3232.134622632192, 3548.608022553369, 5835.335114594607, 3240.6371241800857, 4785.554576713749, 2339.1134209504066, 4565.829592928251, 3162.75241780424, 13780.524369530438, 2721.9565719069983, 5028.539654106321, 3571.8147135999557, 8053.159757670983, 8027.2558321179595, 4437.4056540014435, 2286.1405369212152, 2018.5558778749341, 1967.5782899195058, 1552.6438842148823, 1521.0917851335146, 1499.1885517052547, 1264.4574659518203, 1202.9727224096703, 1089.3622793529778, 1032.1687027502026, 1019.4834019495295, 997.9210346230628, 927.9848709948844, 905.1143169187055, 882.9423289937623, 880.1888205067487, 825.5498024122154, 800.1093752465944, 780.7601862996629, 773.0445903675484, 753.5498384238783, 750.4531111386323, 738.447755473957, 735.038613376391, 720.4305944816765, 700.1572501202679, 697.1979891817938, 691.7028577453266, 688.0700725318649, 679.8391943322429, 2510.7583572472167, 2779.9959944419, 954.1496678254408, 2066.131111591723, 1720.647033420715, 4765.40402934846, 3978.2930309884146, 1243.0559849826186, 4874.304091655591, 13780.524369530438, 5419.038760607919, 3645.7364168404697, 1163.2706604691327, 8053.159757670983, 3164.2554795654655, 2510.141307757181, 3625.4923841290106, 8027.2558321179595, 2242.511264826658, 3117.337172834944, 1641.463707710785, 1859.7381181241765, 4530.951925694615, 10460.674723934568, 1795.4696584013097, 3162.300371856702, 6465.520954038208, 4437.4056540014435, 3571.8147135999557, 7469.560037964526, 1882.9425780404915, 1801.0064596786992, 1754.4237651174328, 1292.7295485725103, 882.2864050165041, 734.1089792099734, 655.918166564, 615.8011839564579, 546.3435792797796, 479.4752344965496, 478.29375174336855, 469.00165543184215, 450.12569913229964, 435.9694410961108, 345.37119582324135, 343.10591220045325, 328.04989175081903, 317.1623592368612, 296.9888225461313, 271.4612477813169, 271.58651848882704, 245.62492343264816, 235.66253173748996, 227.06563081010682, 226.33345742172503, 217.4236660631228, 211.1142447812992, 210.716355634995, 208.92790878718841, 208.43314772028808, 1264.9851920030662, 528.7351201476305, 3682.532061605484, 565.1374154610917, 517.8005385522154, 320.21077925529056, 1333.0596455089794, 5835.335114594607, 603.399049956732, 1710.5265197678352, 8027.2558321179595, 5028.539654106321, 13780.524369530438, 1153.9663710460984, 5419.038760607919, 4565.829592928251, 7469.560037964526, 8053.159757670983, 2945.3560892034766, 2510.141307757181, 10460.674723934568, 4874.304091655591, 3240.6371241800857, 3162.300371856702, 4785.554576713749, 1959.5363941131366, 5630.315719472554, 3548.608022553369, 4644.3410498626745, 928.1741454991393, 571.1503860949047, 382.48098442906166, 383.2424856062974, 375.4954006979263, 372.02665788037353, 371.1091218877846, 345.84722375666536, 315.071698458022, 411.7235105421319, 309.57681225374586, 306.4892939909368, 298.985163297684, 291.49797108314584, 286.8869428420533, 277.20949494141644, 275.90033587789685, 273.2367316960455, 260.8664542754527, 253.9990029658784, 255.0964627328415, 249.78937683919722, 245.59870295039144, 223.49920548634242, 216.4715071322952, 200.17516012313894, 187.76199587817482, 186.31604161835386, 185.51192239449318, 184.61671173588988, 369.93293015683287, 318.552237636025, 462.7620458922275, 394.14550813860274, 909.766379303959, 650.895922944591, 702.7817931982046, 405.38768393737655, 709.0492481385285, 707.8188396566089, 894.8842623816886, 1715.0016228551008, 1104.134557789329, 904.3964278706907, 1457.496182791619, 536.2869978506499, 885.8731649920992, 782.0686162032575, 1008.6358957304872, 3682.532061605484, 1208.4031096476322, 852.2603180324816, 1795.4696584013097, 1520.2778384340536, 949.4816332771227, 2360.210513069431, 4530.951925694615, 952.1751821778688, 1219.3018283997542, 2129.675085150304, 1831.598849336482, 1228.763957216653, 1165.3379593206491, 504.89795015973095, 490.0978033459327, 487.9987616086136, 434.4872846221665, 433.27494974170713, 362.3509341588335, 343.5040975904417, 333.6435908622538, 301.8117406548464, 301.0120344332468, 276.6038378018181, 276.3781867308445, 234.04704615291973, 221.2645306835267, 219.04384699638993, 215.50825474848097, 210.48294686268724, 206.3545047894286, 203.24364010463148, 200.034156677785, 198.39175101609075, 196.4999742162458, 195.63264373294444, 188.80692111633422, 187.70634309949682, 181.83397286697675, 182.51466131220636, 172.6970513388622, 1274.3339696316368, 605.5389489344209, 413.24400822818984, 370.2912598608206, 1678.871064460178, 1007.2471263775325, 1581.117655485958, 587.8703966194049, 613.2742263877913, 591.2113734485894, 296.5364661553359, 1348.9698436619142, 2230.3391464688225, 658.9726103490862, 488.3886307685902, 3065.164365627575, 6058.589426664831, 711.7077113967588, 460.136995879586, 2360.210513069431, 1301.4928637350513, 33697.57981171271, 3365.2158229533866, 1070.733593752206, 573.1971968929535, 449.2657350773185, 301.77352909052604, 198.1370844257286, 180.64216132617503, 179.40629757447027, 164.66738542692585, 160.0417253981021, 146.04515734011008, 129.64561115516776, 112.0256184676266, 110.96628931990307, 112.34994958891797, 107.15887752457733, 85.95020941687126, 86.22255077205625, 83.85930859415392, 85.49698141799557, 87.61532621903692, 79.71946125132096, 78.43343426705404, 77.73374207181142, 77.16057373935976, 75.10182727796676, 77.42660632689342, 70.0688399009349, 62.42823785724905, 142.74428785657543, 4437.4056540014435, 168.5945949209283, 519.1484344003758, 442.86664828061123, 434.3045862462862, 426.60206294162845, 365.22925142095227, 340.22037155969645, 322.5220170375272, 308.29435752375616, 301.28147825185425, 298.9589302320638, 292.82976040519173, 268.38745926314243, 268.532175132826, 264.78888918054537, 259.3226430649572, 224.960171869975, 198.8672867291856, 194.4004061343976, 176.82222971133803, 171.2167663672151, 167.7247019258023, 161.99211237538054, 159.25069762254486, 155.7432081843163, 155.65909196709072, 152.77191130657806, 152.09497270912686, 145.00455949497015, 144.85157272136513, 139.05162717206397, 508.94439040667294, 1395.8904179220456, 499.45499862882804, 382.1205968097254, 228.84668930690125, 690.6518151675971, 743.220277103369, 566.172299446917, 414.8541767033617, 1678.871064460178, 778.8104960827014, 2945.3560892034766, 336.1591302314374, 3682.532061605484, 739.7829496881474, 892.1286117508635, 871.8484837190445, 815.2976568005669, 513.4992712983566, 423.9777470871802, 387.02426247333466, 330.3627860494694, 323.8225971716436, 300.82903125839584, 266.64240382075576, 258.2163901769858, 195.17661312761018, 154.38323665014855, 150.20127961119638, 146.3792565011989, 146.14704224863294, 144.96587376163427, 143.67066826646675, 135.2078496715286, 136.38652073227874, 133.87117327305938, 132.21619233295868, 130.31171482321764, 129.0295668438829, 122.17665327930553, 121.28029656635604, 119.42197095050675, 118.34639178422168, 112.5243904360261, 105.94011951152555, 102.20678622303795, 208.68123247285155, 479.6026022985187, 980.2086834141869, 665.5647306759788, 1105.5655478637013, 279.7829316281094, 146.93524183740868, 495.2956062842159, 309.3665271607367, 472.7491317087108, 1831.598849336482], \"Category\": [\"Default\", \"Default\", \"Default\", \"Default\", \"Default\", \"Default\", \"Default\", \"Default\", \"Default\", \"Default\", \"Default\", \"Default\", \"Default\", \"Default\", \"Default\", \"Default\", \"Default\", \"Default\", \"Default\", \"Default\", \"Default\", \"Default\", \"Default\", \"Default\", \"Default\", \"Default\", \"Default\", \"Default\", \"Default\", \"Default\", \"Topic1\", \"Topic1\", \"Topic1\", \"Topic1\", \"Topic1\", \"Topic1\", \"Topic1\", \"Topic1\", \"Topic1\", \"Topic1\", \"Topic1\", \"Topic1\", \"Topic1\", \"Topic1\", \"Topic1\", \"Topic1\", \"Topic1\", \"Topic1\", \"Topic1\", \"Topic1\", \"Topic1\", \"Topic1\", \"Topic1\", \"Topic1\", \"Topic1\", \"Topic1\", \"Topic1\", \"Topic1\", \"Topic1\", \"Topic1\", \"Topic1\", \"Topic1\", \"Topic1\", \"Topic1\", \"Topic1\", \"Topic1\", \"Topic1\", \"Topic1\", \"Topic1\", \"Topic1\", \"Topic1\", \"Topic1\", \"Topic1\", \"Topic1\", \"Topic1\", \"Topic1\", \"Topic1\", \"Topic1\", \"Topic1\", \"Topic1\", \"Topic1\", \"Topic1\", \"Topic1\", \"Topic1\", \"Topic1\", \"Topic1\", \"Topic1\", \"Topic1\", \"Topic1\", \"Topic1\", \"Topic1\", \"Topic1\", \"Topic1\", \"Topic1\", \"Topic1\", \"Topic1\", \"Topic1\", \"Topic1\", \"Topic1\", \"Topic1\", \"Topic1\", \"Topic2\", \"Topic2\", \"Topic2\", \"Topic2\", \"Topic2\", \"Topic2\", \"Topic2\", \"Topic2\", \"Topic2\", \"Topic2\", \"Topic2\", \"Topic2\", \"Topic2\", \"Topic2\", \"Topic2\", \"Topic2\", \"Topic2\", \"Topic2\", \"Topic2\", \"Topic2\", \"Topic2\", \"Topic2\", \"Topic2\", \"Topic2\", \"Topic2\", \"Topic2\", \"Topic2\", \"Topic2\", \"Topic2\", \"Topic2\", \"Topic2\", \"Topic2\", \"Topic2\", \"Topic2\", \"Topic2\", \"Topic2\", \"Topic2\", \"Topic2\", \"Topic2\", \"Topic2\", \"Topic2\", \"Topic2\", \"Topic2\", \"Topic2\", \"Topic2\", \"Topic2\", \"Topic2\", \"Topic2\", \"Topic2\", \"Topic2\", \"Topic2\", \"Topic2\", \"Topic2\", \"Topic2\", \"Topic2\", \"Topic2\", \"Topic2\", \"Topic2\", \"Topic2\", \"Topic2\", \"Topic3\", \"Topic3\", \"Topic3\", \"Topic3\", \"Topic3\", \"Topic3\", \"Topic3\", \"Topic3\", \"Topic3\", \"Topic3\", \"Topic3\", \"Topic3\", \"Topic3\", \"Topic3\", \"Topic3\", \"Topic3\", \"Topic3\", \"Topic3\", \"Topic3\", \"Topic3\", \"Topic3\", \"Topic3\", \"Topic3\", \"Topic3\", \"Topic3\", \"Topic3\", \"Topic3\", \"Topic3\", \"Topic3\", \"Topic3\", \"Topic3\", \"Topic3\", \"Topic3\", \"Topic3\", \"Topic3\", \"Topic3\", \"Topic3\", \"Topic3\", \"Topic3\", \"Topic3\", \"Topic3\", \"Topic3\", \"Topic3\", \"Topic3\", \"Topic3\", \"Topic3\", \"Topic3\", \"Topic3\", \"Topic3\", \"Topic3\", \"Topic3\", \"Topic3\", \"Topic3\", \"Topic3\", \"Topic3\", \"Topic3\", \"Topic3\", \"Topic3\", \"Topic3\", \"Topic4\", \"Topic4\", \"Topic4\", \"Topic4\", \"Topic4\", \"Topic4\", \"Topic4\", \"Topic4\", \"Topic4\", \"Topic4\", \"Topic4\", \"Topic4\", \"Topic4\", \"Topic4\", \"Topic4\", \"Topic4\", \"Topic4\", \"Topic4\", \"Topic4\", \"Topic4\", \"Topic4\", \"Topic4\", \"Topic4\", \"Topic4\", \"Topic4\", \"Topic4\", \"Topic4\", \"Topic4\", \"Topic4\", \"Topic4\", \"Topic4\", \"Topic4\", \"Topic4\", \"Topic4\", \"Topic4\", \"Topic4\", \"Topic4\", \"Topic4\", \"Topic4\", \"Topic4\", \"Topic4\", \"Topic4\", \"Topic4\", \"Topic4\", \"Topic4\", \"Topic4\", \"Topic4\", \"Topic4\", \"Topic4\", \"Topic4\", \"Topic4\", \"Topic4\", \"Topic4\", \"Topic4\", \"Topic4\", \"Topic4\", \"Topic4\", \"Topic4\", \"Topic4\", \"Topic4\", \"Topic4\", \"Topic5\", \"Topic5\", \"Topic5\", \"Topic5\", \"Topic5\", \"Topic5\", \"Topic5\", \"Topic5\", \"Topic5\", \"Topic5\", \"Topic5\", \"Topic5\", \"Topic5\", \"Topic5\", \"Topic5\", \"Topic5\", \"Topic5\", \"Topic5\", \"Topic5\", \"Topic5\", \"Topic5\", \"Topic5\", \"Topic5\", \"Topic5\", \"Topic5\", \"Topic5\", \"Topic5\", \"Topic5\", \"Topic5\", \"Topic5\", \"Topic5\", \"Topic5\", \"Topic5\", \"Topic5\", \"Topic5\", \"Topic5\", \"Topic5\", \"Topic5\", \"Topic5\", \"Topic5\", \"Topic5\", \"Topic5\", \"Topic5\", \"Topic5\", \"Topic5\", \"Topic5\", \"Topic5\", \"Topic5\", \"Topic5\", \"Topic5\", \"Topic5\", \"Topic6\", \"Topic6\", \"Topic6\", \"Topic6\", \"Topic6\", \"Topic6\", \"Topic6\", \"Topic6\", \"Topic6\", \"Topic6\", \"Topic6\", \"Topic6\", \"Topic6\", \"Topic6\", \"Topic6\", \"Topic6\", \"Topic6\", \"Topic6\", \"Topic6\", \"Topic6\", \"Topic6\", \"Topic6\", \"Topic6\", \"Topic6\", \"Topic6\", \"Topic6\", \"Topic6\", \"Topic6\", \"Topic6\", \"Topic6\", \"Topic6\", \"Topic6\", \"Topic6\", \"Topic7\", \"Topic7\", \"Topic7\", \"Topic7\", \"Topic7\", \"Topic7\", \"Topic7\", \"Topic7\", \"Topic7\", \"Topic7\", \"Topic7\", \"Topic7\", \"Topic7\", \"Topic7\", \"Topic7\", \"Topic7\", \"Topic7\", \"Topic7\", \"Topic7\", \"Topic7\", \"Topic7\", \"Topic7\", \"Topic7\", \"Topic7\", \"Topic7\", \"Topic7\", \"Topic7\", \"Topic7\", \"Topic7\", \"Topic7\", \"Topic7\", \"Topic7\", \"Topic7\", \"Topic7\", \"Topic7\", \"Topic7\", \"Topic7\", \"Topic7\", \"Topic7\", \"Topic7\", \"Topic7\", \"Topic7\", \"Topic7\", \"Topic7\", \"Topic7\", \"Topic7\", \"Topic8\", \"Topic8\", \"Topic8\", \"Topic8\", \"Topic8\", \"Topic8\", \"Topic8\", \"Topic8\", \"Topic8\", \"Topic8\", \"Topic8\", \"Topic8\", \"Topic8\", \"Topic8\", \"Topic8\", \"Topic8\", \"Topic8\", \"Topic8\", \"Topic8\", \"Topic8\", \"Topic8\", \"Topic8\", \"Topic8\", \"Topic8\", \"Topic8\", \"Topic8\", \"Topic8\", \"Topic8\", \"Topic8\", \"Topic8\", \"Topic8\", \"Topic8\", \"Topic8\", \"Topic8\", \"Topic8\", \"Topic8\", \"Topic8\", \"Topic8\", \"Topic8\", \"Topic8\", \"Topic8\"], \"logprob\": [30.0, 29.0, 28.0, 27.0, 26.0, 25.0, 24.0, 23.0, 22.0, 21.0, 20.0, 19.0, 18.0, 17.0, 16.0, 15.0, 14.0, 13.0, 12.0, 11.0, 10.0, 9.0, 8.0, 7.0, 6.0, 5.0, 4.0, 3.0, 2.0, 1.0, -5.1029, -5.1057, -5.2334, -5.6035, -5.7581, -5.765, -5.9602, -6.2058, -6.2418, -6.2661, -6.2818, -6.2957, -6.2998, -6.3156, -6.3436, -6.3464, -6.3953, -6.4191, -6.451, -6.4621, -6.4767, -6.5793, -6.6082, -6.6195, -6.6849, -6.7098, -6.7349, -6.7697, -6.7831, -6.7835, -6.3469, -6.0784, -4.2558, -5.9633, -6.259, -5.3407, -5.8394, -5.9292, -5.5946, -4.5138, -4.9828, -4.4786, -5.8936, -6.0523, -5.3356, -5.1859, -4.5913, -5.1934, -4.5775, -4.2007, -6.0398, -5.096, -4.526, -5.7626, -4.9161, -5.296, -5.2195, -5.2032, -4.8781, -5.287, -5.0337, -5.514, -5.105, -5.3466, -4.7108, -5.463, -5.1943, -5.3503, -5.0473, -5.0849, -5.2995, -5.0121, -5.1367, -5.1623, -5.3992, -5.4198, -5.4343, -5.6047, -5.6546, -5.7539, -5.8079, -5.8203, -5.8417, -5.9144, -5.9394, -5.9642, -5.9673, -6.0315, -6.0629, -6.0874, -6.0973, -6.1229, -6.127, -6.1432, -6.1478, -6.1679, -6.1965, -6.2007, -6.2087, -6.2139, -6.226, -4.9482, -4.8706, -5.9039, -5.2098, -5.3849, -4.5118, -4.6723, -5.7085, -4.6068, -3.8014, -4.573, -4.8889, -5.79, -4.4917, -5.1192, -5.2969, -5.0727, -4.6536, -5.4092, -5.226, -5.6079, -5.569, -5.2473, -4.9564, -5.6122, -5.4705, -5.3176, -5.5045, -5.5564, -5.5663, -4.3341, -4.3786, -4.4049, -4.7105, -5.0928, -5.2769, -5.3897, -5.4529, -5.5728, -5.7037, -5.7061, -5.7258, -5.767, -5.799, -6.0326, -6.0392, -6.0843, -6.1181, -6.184, -6.2743, -6.2738, -6.3747, -6.4163, -6.4536, -6.4569, -6.4972, -6.5268, -6.5287, -6.5373, -6.5397, -4.894, -5.7813, -4.2918, -5.7569, -5.8316, -6.2027, -5.253, -4.2746, -5.7966, -5.1533, -4.2896, -4.6757, -4.2448, -5.5149, -4.8153, -4.9087, -4.7155, -4.6962, -5.1359, -5.2015, -4.7033, -4.9782, -5.2012, -5.3508, -5.2776, -5.4741, -5.3245, -5.4381, -5.4656, -4.8767, -5.363, -5.7648, -5.7629, -5.7833, -5.7926, -5.7951, -5.8658, -5.9593, -5.6918, -5.977, -5.987, -6.0119, -6.0374, -6.0534, -6.0878, -6.0926, -6.1023, -6.1488, -6.1756, -6.1713, -6.1924, -6.2094, -6.3041, -6.3362, -6.4149, -6.4793, -6.487, -6.4914, -6.4963, -5.8043, -5.9539, -5.6001, -5.8027, -5.0467, -5.3781, -5.3517, -5.8206, -5.4484, -5.5071, -5.3783, -5.0023, -5.3311, -5.445, -5.2149, -5.7485, -5.5201, -5.5993, -5.5979, -5.1885, -5.5438, -5.6671, -5.473, -5.5201, -5.6623, -5.5541, -5.6145, -5.7331, -5.72, -5.7014, -5.7404, -4.2559, -4.3089, -5.1465, -5.1764, -5.1807, -5.2971, -5.2999, -5.4791, -5.5327, -5.5619, -5.6625, -5.6652, -5.7501, -5.7509, -5.9178, -5.9743, -5.9844, -6.0007, -6.0245, -6.0444, -6.0596, -6.0756, -6.0839, -6.0936, -6.098, -6.1337, -6.1396, -6.1716, -6.1679, -6.2235, -4.2648, -5.0149, -5.4363, -5.5393, -4.2321, -4.6862, -4.3394, -5.2456, -5.2314, -5.2874, -5.7868, -4.7965, -4.4755, -5.2852, -5.5113, -4.7696, -4.5117, -5.4802, -5.6172, -5.4424, -5.579, -0.5535, -2.8577, -4.0035, -4.6291, -4.8732, -5.2721, -5.6945, -5.7874, -5.7944, -5.8805, -5.9095, -6.0013, -6.1213, -6.2685, -6.278, -6.2657, -6.3134, -6.5359, -6.5328, -6.5608, -6.5416, -6.5172, -6.612, -6.6286, -6.6376, -6.6451, -6.6725, -6.6426, -6.7429, -6.8599, -6.4203, -5.3835, -6.5228, -4.6653, -4.8245, -4.8441, -4.862, -5.0178, -5.0889, -5.1425, -5.1878, -5.2109, -5.2187, -5.2395, -5.327, -5.3264, -5.3405, -5.3615, -5.5043, -5.6282, -5.651, -5.7464, -5.7788, -5.7995, -5.8345, -5.8517, -5.8741, -5.8747, -5.8935, -5.898, -5.9461, -5.9472, -5.9883, -4.8239, -4.0209, -5.0458, -5.3382, -5.667, -5.0494, -5.0483, -5.2472, -5.4324, -4.8735, -5.3316, -4.9833, -5.581, -5.0649, -5.4279, -5.4123, -3.4276, -3.4947, -3.9578, -4.1498, -4.2413, -4.4, -4.4201, -4.494, -4.6151, -4.6473, -4.9286, -5.1646, -5.1922, -5.2182, -5.2198, -5.2279, -5.237, -5.2982, -5.2895, -5.3082, -5.3208, -5.3354, -5.3453, -5.4004, -5.4078, -5.4234, -5.4325, -5.4834, -5.5444, -5.5806, -4.9474, -4.3893, -4.2385, -4.6972, -4.5753, -5.1083, -5.344, -5.0, -5.2566, -5.2306, -5.2096], \"loglift\": [30.0, 29.0, 28.0, 27.0, 26.0, 25.0, 24.0, 23.0, 22.0, 21.0, 20.0, 19.0, 18.0, 17.0, 16.0, 15.0, 14.0, 13.0, 12.0, 11.0, 10.0, 9.0, 8.0, 7.0, 6.0, 5.0, 4.0, 3.0, 2.0, 1.0, 1.0492, 1.0492, 1.0492, 1.049, 1.0489, 1.0489, 1.0487, 1.0484, 1.0484, 1.0484, 1.0483, 1.0483, 1.0483, 1.0483, 1.0483, 1.0483, 1.0482, 1.0481, 1.0481, 1.0481, 1.0481, 1.0479, 1.0478, 1.0478, 1.0477, 1.0477, 1.0476, 1.0475, 1.0475, 1.0475, 1.0448, 1.0373, 0.9941, 1.0263, 1.0344, 1.0017, 1.0135, 1.0177, 0.9996, 0.9169, 0.9318, 0.8788, 1.0006, 1.0134, 0.9042, 0.8571, 0.7352, 0.8379, 0.7149, 0.6105, 0.993, 0.7786, 0.622, 0.924, 0.7071, 0.7995, 0.7662, 0.6891, 0.5168, 0.6961, 0.5596, 0.795, 0.5352, 0.6608, -0.1753, 0.6945, 0.3495, 0.5355, 0.0255, -0.0089, 0.3693, 1.3199, 1.3198, 1.3198, 1.3196, 1.3196, 1.3196, 1.3195, 1.3194, 1.3193, 1.3193, 1.3193, 1.3193, 1.3192, 1.3191, 1.3191, 1.3191, 1.319, 1.319, 1.319, 1.3189, 1.3189, 1.3189, 1.3189, 1.3189, 1.3188, 1.3188, 1.3188, 1.3188, 1.3188, 1.3188, 1.29, 1.2658, 1.3019, 1.2234, 1.2312, 1.0857, 1.1057, 1.2328, 0.9681, 0.7342, 0.8959, 0.9763, 1.2176, 0.5811, 0.8877, 0.9416, 0.7982, 0.4224, 0.9421, 0.7958, 1.0553, 0.9694, 0.4006, -0.1452, 0.9614, 0.5371, -0.0252, 0.1642, 0.3294, -0.4183, 2.1919, 2.1919, 2.1918, 2.1916, 2.1912, 2.191, 2.1908, 2.1907, 2.1905, 2.1902, 2.1902, 2.1902, 2.1901, 2.19, 2.1894, 2.1893, 2.1892, 2.1891, 2.1889, 2.1885, 2.1885, 2.1881, 2.1879, 2.1878, 2.1877, 2.1875, 2.1874, 2.1874, 2.1873, 2.1873, 2.0298, 2.0148, 1.5634, 1.9726, 1.9854, 2.0949, 1.6184, 1.1203, 1.8674, 1.4687, 0.7864, 0.868, 0.2908, 1.5008, 0.6536, 0.7315, 0.4325, 0.3766, 0.9427, 1.037, 0.108, 0.5967, 0.7819, 0.6567, 0.3156, 1.0121, 0.1062, 0.4542, 0.1576, 2.3567, 2.356, 2.3551, 2.3551, 2.355, 2.355, 2.355, 2.3548, 2.3545, 2.3545, 2.3544, 2.3544, 2.3543, 2.3542, 2.3541, 2.354, 2.354, 2.3539, 2.3538, 2.3537, 2.3536, 2.3536, 2.3535, 2.3531, 2.3529, 2.3525, 2.3522, 2.3521, 2.3521, 2.3521, 2.349, 2.3489, 2.3293, 2.2871, 2.2067, 2.2102, 2.1598, 2.2412, 2.0543, 1.9973, 1.8916, 1.6171, 1.7287, 1.8144, 1.5672, 2.0334, 1.7599, 1.8053, 1.5524, 0.6668, 1.4257, 1.6516, 1.1005, 1.2198, 1.5484, 0.746, 0.0335, 1.4747, 1.2406, 0.7015, 0.8133, 2.6969, 2.6969, 2.6957, 2.6956, 2.6956, 2.6954, 2.6953, 2.6949, 2.6947, 2.6946, 2.6943, 2.6943, 2.694, 2.6939, 2.6932, 2.693, 2.6929, 2.6928, 2.6927, 2.6926, 2.6925, 2.6925, 2.6924, 2.6924, 2.6923, 2.6922, 2.6921, 2.6919, 2.6919, 2.6916, 2.6516, 2.6456, 2.6062, 2.613, 2.4086, 2.4654, 2.3614, 2.4445, 2.4164, 2.397, 2.5876, 2.063, 1.8811, 2.2907, 2.3641, 1.2691, 0.8456, 2.0187, 2.3178, 0.8576, 1.3163, 3.0879, 3.0876, 3.087, 3.0863, 3.0858, 3.0848, 3.0832, 3.0827, 3.0825, 3.0822, 3.0817, 3.0814, 3.0805, 3.0794, 3.0794, 3.0793, 3.0789, 3.0769, 3.0769, 3.0766, 3.0765, 3.0764, 3.076, 3.0758, 3.0757, 3.0756, 3.0752, 3.0746, 3.0742, 3.0727, 2.6852, 0.2852, 2.4163, 3.1492, 3.1488, 3.1487, 3.1487, 3.1483, 3.1481, 3.1479, 3.1477, 3.1476, 3.1476, 3.1475, 3.1472, 3.1472, 3.1471, 3.1471, 3.1464, 3.1458, 3.1457, 3.1451, 3.1449, 3.1448, 3.1445, 3.1444, 3.1443, 3.1443, 3.1441, 3.1441, 3.1438, 3.1437, 3.1434, 3.0103, 2.8044, 2.8073, 2.7826, 2.9665, 2.4795, 2.4073, 2.4805, 2.6063, 1.7672, 2.0772, 1.0953, 2.668, 0.7904, 2.0323, 1.8607, 3.8684, 3.8683, 3.8676, 3.8671, 3.8669, 3.8664, 3.8663, 3.866, 3.8656, 3.8655, 3.8641, 3.8626, 3.8624, 3.8622, 3.8622, 3.8622, 3.8621, 3.8616, 3.8616, 3.8615, 3.8614, 3.8613, 3.8612, 3.8608, 3.8607, 3.8605, 3.8605, 3.86, 3.8594, 3.859, 3.7784, 3.5044, 2.9403, 2.8688, 2.4832, 3.3243, 3.7326, 2.8615, 3.0754, 2.6775, 1.344]}, \"token.table\": {\"Topic\": [6, 1, 1, 3, 6, 1, 2, 3, 4, 7, 5, 4, 4, 2, 7, 1, 2, 4, 5, 7, 1, 3, 4, 5, 7, 1, 2, 3, 7, 1, 1, 5, 7, 2, 4, 6, 1, 2, 3, 3, 8, 3, 1, 1, 6, 1, 2, 3, 3, 1, 2, 1, 2, 3, 5, 6, 7, 4, 8, 8, 6, 6, 4, 7, 4, 3, 3, 2, 3, 4, 5, 7, 1, 2, 4, 5, 1, 4, 5, 8, 2, 3, 4, 5, 7, 1, 1, 5, 2, 2, 1, 1, 6, 5, 7, 5, 7, 1, 1, 3, 2, 2, 5, 1, 2, 1, 2, 3, 5, 2, 1, 1, 4, 5, 8, 5, 6, 4, 5, 1, 2, 2, 3, 4, 1, 5, 7, 5, 5, 5, 5, 6, 8, 1, 5, 4, 4, 8, 2, 4, 8, 1, 2, 3, 4, 1, 2, 4, 3, 5, 2, 3, 2, 1, 4, 5, 1, 7, 3, 4, 4, 1, 4, 6, 2, 2, 3, 4, 2, 8, 7, 1, 2, 3, 5, 1, 5, 1, 7, 1, 1, 5, 1, 3, 5, 2, 3, 5, 5, 1, 2, 3, 4, 7, 8, 4, 1, 3, 5, 7, 3, 5, 8, 6, 1, 2, 3, 5, 5, 1, 2, 3, 7, 1, 2, 3, 5, 1, 3, 1, 1, 2, 3, 5, 7, 8, 2, 1, 7, 4, 5, 1, 2, 4, 8, 5, 1, 3, 6, 6, 2, 4, 3, 1, 2, 6, 2, 3, 4, 5, 3, 3, 5, 1, 2, 3, 6, 8, 5, 2, 6, 3, 8, 6, 5, 2, 4, 8, 1, 2, 4, 5, 7, 8, 2, 3, 4, 2, 2, 4, 7, 7, 7, 2, 7, 6, 7, 8, 8, 2, 5, 1, 2, 3, 6, 5, 7, 1, 2, 3, 4, 5, 7, 7, 1, 5, 1, 3, 4, 7, 7, 2, 5, 1, 2, 3, 4, 5, 1, 2, 3, 4, 5, 1, 5, 1, 2, 3, 6, 6, 1, 2, 3, 4, 1, 3, 2, 3, 4, 1, 2, 3, 6, 2, 2, 1, 2, 3, 4, 5, 1, 5, 7, 1, 2, 3, 4, 4, 1, 1, 2, 4, 2, 6, 5, 7, 5, 1, 7, 7, 4, 3, 6, 5, 6, 1, 2, 3, 4, 6, 1, 2, 3, 4, 1, 2, 3, 4, 8, 1, 2, 3, 7, 7, 1, 2, 8, 1, 2, 7, 1, 2, 3, 6, 2, 3, 3, 1, 7, 3, 1, 5, 1, 2, 4, 7, 1, 4, 5, 2, 8, 1, 2, 3, 2, 3, 3, 3, 1, 2, 3, 5, 4, 5, 7, 5, 1, 2, 3, 4, 5, 7, 2, 3, 7, 8, 8, 1, 2, 4, 4, 2, 4, 2, 5, 1, 1, 2, 4, 7, 2, 4, 5, 1, 2, 6, 6, 3, 7, 8, 2, 3, 4, 5, 5, 1, 8, 1, 4, 8, 1, 1, 2, 3, 4, 5, 7, 2, 4, 1, 2, 3, 4, 3, 3, 1, 2, 3, 5, 2, 4, 5, 6, 7, 8, 2, 3, 7, 1, 2, 3, 3, 4, 5, 8, 7, 3, 1, 3, 5, 1, 4, 4, 3, 2, 3, 8, 1, 2, 3, 1, 2, 3, 4, 8, 1, 2, 3, 8, 1, 2, 3, 7, 1, 8, 1, 2, 4, 5, 7, 8, 3, 5, 8, 4, 6, 7, 1, 4, 5, 2, 5, 7, 5, 2, 7, 1, 3, 8, 3, 1, 2, 5, 7, 1, 1, 4, 7, 8, 6, 4, 1, 2, 4, 1, 2, 3, 4, 5, 1, 3, 3, 1, 2, 3, 5, 7, 4, 1, 2, 3, 1, 2, 3, 1, 3, 1, 2, 3, 4, 5, 3, 4, 4, 5, 1, 2, 4, 7, 1, 4, 4, 7, 7, 5, 1, 8, 1, 2, 4, 5, 7, 8, 2, 1, 2, 8, 7, 6, 7, 1, 2, 3, 1, 5, 7, 1, 2, 3, 7, 5, 1, 2, 3, 4, 1, 2, 3, 4, 8, 2, 3, 2, 8, 3, 4, 7, 6, 1, 2, 1, 2, 4, 7, 7, 1, 2, 3, 1, 2, 1, 3, 4, 5, 7], \"Freq\": [0.9996387087731212, 0.9992826415206563, 0.9874202893470476, 0.011492767674262437, 0.9929769568226156, 0.44273257207258304, 0.39859173736943415, 0.044140834703148855, 0.09777194886747471, 0.01655281301368082, 0.9948300995441952, 0.9954737721814749, 0.9967579648578582, 0.9985869948088575, 0.9971664068431993, 0.03811109693396412, 0.24884304468647162, 0.32842798240151433, 0.10984963233907305, 0.27462408084768264, 0.9992848121198783, 0.06744533061752789, 0.033722665308763944, 0.8970228972131209, 0.996996149044702, 0.6521133741803835, 0.17578009860374533, 0.17203155118492974, 0.9952279897596771, 0.998324842239925, 0.1636135568145562, 0.32433129846425296, 0.5111113765976844, 0.9162901862508842, 0.0828603065705365, 0.999982793668983, 0.5077731666475761, 0.18473757419740958, 0.30721552394154855, 0.9931241852077611, 0.9920022012175531, 0.9966705058538771, 0.9991399285545696, 0.9997326957519345, 0.9909750863838277, 0.3362316352843702, 0.16204978298499287, 0.5008811474081598, 0.9986001812256401, 0.08485180119117526, 0.9147721580473278, 0.013044735382278018, 0.12881676189999544, 0.1027272911354394, 0.7549640602493403, 0.9858209857965317, 0.9928007304276852, 0.3044186985230854, 0.6943248397821058, 0.989934022240463, 0.9771219258100009, 0.9993148680899838, 0.9956368920852727, 0.9956792176854016, 0.9966595021106641, 0.9967995973258345, 0.9991884713683541, 0.9992822358623028, 0.14112877916235986, 0.14568132042566181, 0.6661885381965159, 0.04552541263301931, 0.4270805482893582, 0.21438765618493577, 0.19955847048044417, 0.15888413254812433, 0.5743116634335449, 0.3939082878881374, 0.03144645995745635, 0.9905775139581501, 0.19870693162361647, 0.10678807889976667, 0.2392593666488443, 0.12841604424655487, 0.3271229758701713, 0.9979747012528652, 0.04472924787249971, 0.9550086782602131, 0.9988473586569215, 0.998281708782322, 0.9994927087630848, 0.9976618718967687, 0.9853288885516902, 0.9122939292366552, 0.08469572287342954, 0.16605003163947474, 0.8302501581973737, 0.999285968820281, 0.9977786798403422, 0.9941084387747393, 0.9989327400410893, 0.9990263510960187, 0.9929545510228215, 0.09713990375587096, 0.9026274242802169, 0.7624690575776117, 0.08333449031621683, 0.13815252713552223, 0.01578094999343641, 0.9992072033208212, 0.9981639479002501, 0.2453732692870911, 0.3659446171264376, 0.0824961853637634, 0.3046012998046648, 0.9957262100797829, 0.9950201850304439, 0.996908388951875, 0.9966378937800534, 0.016768857695527866, 0.9820262287943506, 0.46597588087980013, 0.08625510986498428, 0.4471385580357231, 0.2767990241575134, 0.5072306990906718, 0.21497589185837335, 0.9978169579763723, 0.997760032102903, 0.9980710228522882, 0.9917011526563589, 0.9979113699448585, 0.993492450601875, 0.20650344344793717, 0.7922584032281436, 0.9975622715299421, 0.9951407960403966, 0.9958748802618909, 0.9984448204120732, 0.6339648404226245, 0.3654383315811944, 0.009456530896990402, 0.1531958005312445, 0.8378486374733496, 0.9958139127399781, 0.29520285391243606, 0.7038625423886681, 0.9981367717771024, 0.9947220767482863, 0.9929848342536285, 0.9471236668197393, 0.05287777403057413, 0.9991914011086455, 0.018711607291771057, 0.20242556979279597, 0.7756811750043274, 0.5233979911259834, 0.47496013076470983, 0.06596548600233446, 0.931128206263721, 0.995701772101835, 0.13519826580245947, 0.8634252884202526, 0.9897529730621483, 0.9985449474246537, 0.9987655987780064, 0.9978642816709893, 0.99320230569007, 0.9981227027034748, 0.9908014872346652, 0.9928934157966431, 0.8092289001440196, 0.06249747007914997, 0.1023274639637896, 0.025905687079440402, 0.9995790718833814, 0.9950134026597885, 0.9988311265329131, 0.9957657984589164, 0.9992884578720176, 0.9512354645611557, 0.04832935713550402, 0.9993734177480418, 0.9972950686922987, 0.9942849824162042, 0.9997060905162104, 0.049542643050115284, 0.9495673251272095, 0.9973104404318892, 0.41964365685042043, 0.1578756476014931, 0.2865527883347531, 0.007808902999643746, 0.1279981056898127, 0.9933372335393746, 0.9970113321867631, 0.3929068772687753, 0.03081622566813924, 0.2336897113167226, 0.3415465011552099, 0.9994411682016516, 0.9954135475685456, 0.9952892603906667, 0.9941871466132141, 0.3469429725731301, 0.4073621257860451, 0.2451647289134363, 0.0003737267209046285, 0.9938810380290806, 0.6778905575822736, 0.1874949163462165, 0.12236177508597941, 0.012014851300432087, 0.5869414408495273, 0.054666954636788084, 0.34222541821211855, 0.01593738802890687, 0.18539957542033203, 0.8130543880412479, 0.9989288537743736, 0.49656563769183804, 0.23744468218023815, 0.2658823618718412, 0.748717412914716, 0.2507637476826535, 0.991125934954007, 0.9989838732955107, 0.12968017968969572, 0.8684642336794774, 0.972422012553727, 0.025931253668099386, 0.6249779646110023, 0.18359608126438912, 0.19063940919013295, 0.986452799876372, 0.9993782717891698, 0.2767654341052991, 0.7225732291611402, 0.984745859893698, 0.9879844219436025, 0.9983471568421678, 0.9965985568895367, 0.9953069480118811, 0.3143796916687931, 0.6849463920613705, 0.9815747274151431, 0.356267884448307, 0.15918352283860526, 0.4769674786885681, 0.007580167754219298, 0.9975407795923019, 0.9984893534320111, 0.9967661647827647, 0.09396213108329832, 0.7030747231931515, 0.2026956015508706, 0.9891854268041251, 0.9894434908010341, 0.9923665424271502, 0.32926011054974047, 0.6655257553664967, 0.996600379534677, 0.9898338873604642, 0.984958979915312, 0.9930014061399122, 0.9989386992981593, 0.993292121629336, 0.99202069053577, 0.07206818242314278, 0.5792753147799583, 0.21347469187461232, 0.02675258286919694, 0.028936467185049754, 0.08025774860759083, 0.07826042241320333, 0.09960417398044061, 0.8210229769530605, 0.9988677211902584, 0.6984245008721364, 0.2846051993187095, 0.016708720116558287, 0.9949472956122869, 0.9957318139384692, 0.9980636883010219, 0.9930722213255301, 0.9934909137257123, 0.9977878496316719, 0.9976938716857252, 0.9886232967146432, 0.9995011081327698, 0.9988518701292206, 0.7154875891494423, 0.2604585171049851, 0.023973319567264065, 0.9889446526853402, 0.30618606004705745, 0.690881366260027, 0.3414153439019844, 0.09295383506920465, 0.4846460960526457, 0.009353845038410531, 0.011692306298013164, 0.05904614680496648, 0.9966343018359844, 0.28524126489586554, 0.7140518582426434, 0.40538758752052223, 0.1795888017254127, 0.4137894028059217, 0.9980430942723371, 0.993875551341157, 0.07831672832596717, 0.9181961252009944, 0.3510205512950958, 0.1755102756475479, 0.1222010797732927, 0.3272364485204281, 0.024604244249656248, 0.15540699658879575, 0.10172094322175723, 0.04520930809855877, 0.697918693771501, 0.9959637334079638, 0.9684103453196735, 0.03074318556570392, 0.2938204593253781, 0.5565100278010188, 0.1493411966637758, 0.00036283089568458647, 0.990844786383188, 0.32760961267943267, 0.4569458400789384, 0.21534956200260003, 0.9929365093476512, 0.9849897622934907, 0.013728080310710671, 0.2112004959132773, 0.16091466355297318, 0.6268967100917914, 0.5063769632992109, 0.31482359489497, 0.11808701769861439, 0.06062100717734212, 0.9990770465887506, 0.9992292123829775, 0.730264715374404, 0.17412404346424534, 0.09250339809038033, 0.0014403643301270294, 0.0014403643301270294, 0.8818087627059555, 0.05051379758075135, 0.06735173010766846, 0.8250207594377026, 0.11631547641000174, 0.024246042969972195, 0.034403169079014605, 0.9972403647463789, 0.9988742983762556, 0.9534398283424194, 0.04641223086506909, 0.9960669020184595, 0.9986134705067636, 0.9942611226513993, 0.4170140008586736, 0.5809270185372274, 0.9955263432282943, 0.9989840243542978, 0.9958015529893166, 0.9957465747337345, 0.9960175259266909, 0.9963351286714539, 0.992161381214132, 0.9979533521656462, 0.981724193509449, 0.25262385830903616, 0.7090474199010407, 0.03840102080701961, 0.9918499987764772, 0.9964451193372542, 0.25374220244538226, 0.5918512813043367, 0.10072699313255377, 0.05325057598727365, 0.15828248999273958, 0.2768068189920422, 0.5633656397371916, 0.0015003079620164888, 0.9974597289416229, 0.13101954633746718, 0.6541750588258044, 0.21461370759221737, 0.9953499641267938, 0.994830387131531, 0.11719370995031472, 0.513849343628303, 0.36810844792086034, 0.9769082341470247, 0.021952994025775833, 0.9952808894986227, 0.35911370033920476, 0.4774523436390879, 0.16266906896416258, 0.0006208743090235214, 0.09056534594945513, 0.9056534594945513, 0.9978403991034217, 0.9983240151915178, 0.992146360165346, 0.9967767614572403, 0.8429354822301157, 0.1569672299982064, 0.9946061241207701, 0.0037865715385308504, 0.9920717245810221, 0.005406385420060066, 0.7460663266438542, 0.0023050452934413623, 0.25124993698510845, 0.9986493574116696, 0.9984083643688377, 0.07431820801624414, 0.12209419888382966, 0.8033444390327343, 0.9980394612032806, 0.9994356525900441, 0.998541964367591, 0.996029791019564, 0.7786412886589109, 0.1066963007519306, 0.1142928011290907, 0.9970574118294464, 0.2379825291222105, 0.1427895174733263, 0.6157797941037196, 0.9962369779953445, 0.13996606125531533, 0.20514633487911413, 0.09056627492990992, 0.45351748279295795, 0.09193849121672673, 0.018524919872027028, 0.5716531247027568, 0.15286293999171818, 0.024421889821162075, 0.24964598483854564, 0.9921514508197742, 0.31982246899323497, 0.6488098111097939, 0.030970950554680857, 0.996839830223423, 0.9074932319060441, 0.09195931416647914, 0.2587906912337244, 0.7408517827475246, 0.9988121454930761, 0.3190206340832865, 0.3512515847432474, 0.32033618308981554, 0.008551068542438608, 0.25204418141552803, 0.21720277986691094, 0.530034087388537, 0.700966363568122, 0.29868220837572496, 0.990560829155329, 0.9959470697540042, 0.4719321167029269, 0.07434547043950218, 0.4525376461534915, 0.22248687186135324, 0.02813052402844696, 0.5753970824000515, 0.17389778490312666, 0.9982215214788516, 0.9996758016805185, 0.9972441780139106, 0.05426903892669446, 0.8905055932971228, 0.051802264430026536, 0.9989209135169588, 0.9984127905517396, 0.11592789945482591, 0.06520944344333958, 0.5334494748350974, 0.19653401704450957, 0.08785161130561027, 0.13959627755992118, 0.8595613311169951, 0.22125063467945555, 0.18061276300363718, 0.047410850288454764, 0.5497400973923207, 0.9974991449400253, 0.9974557816694057, 0.5644069268845856, 0.06557560248774665, 0.1301724646398553, 0.23946513545276638, 0.9986487320646643, 0.72349320709814, 0.27597163569722866, 0.9971826583278143, 0.99279627979054, 0.9880928866004391, 0.6848220037205522, 0.3147233175911787, 0.9924371458755914, 0.7023310271358603, 0.05369314530827754, 0.2440878042462502, 0.05733139192027393, 0.22523046825821902, 0.7166423990034242, 0.9990267991114407, 0.9948996236914571, 0.9934521108538871, 0.9460388365464659, 0.025051796204379934, 0.028905918697361463, 0.41795830716620863, 0.5804976488419564, 0.9961279527888887, 0.9977763553939161, 0.9980142507930194, 0.9986989567780459, 0.9953319054295561, 0.7098961864778399, 0.1591183748277597, 0.13069668947286892, 0.775079987041996, 0.17699013493402443, 0.04745387675767322, 0.41818133550590464, 0.5790203107004834, 0.05917107344731828, 0.30503708553014075, 0.24076505747529506, 0.3948138866226237, 0.1127042889409991, 0.7669983771714479, 0.04264486608578344, 0.07736997132706425, 0.9992874168764242, 0.9970802854411736, 0.024640358767941184, 0.4400064065703783, 0.4939805257763447, 0.03754721336067228, 0.0035200512525630267, 0.990369246106164, 0.31512354211558613, 0.6845787294235147, 0.991040240636468, 0.9948611268971111, 0.9974367231849086, 0.994121066790188, 0.9986262185716344, 0.9959416927019181, 0.9952345294757029, 0.9987494707878201, 0.28831426333769494, 0.7087725640385001, 0.9934360299485064, 0.29228655398849873, 0.7070755607515888, 0.9985578093984319, 0.9946171035709154, 0.9881926996471205, 0.997188642027202, 0.4201154795150784, 0.05380347656543159, 0.44208523244596293, 0.08384375098113091, 0.9989127239693597, 0.26091276520732753, 0.7376074389374719, 0.12250294602514702, 0.8711320606232676, 0.9928436015329415, 0.9967049759699845, 0.13422842305493185, 0.8068787228582982, 0.05856783253145903, 0.6974565757249052, 0.07693157380723196, 0.17584359727367307, 0.0019726044565956916, 0.04790610823160965, 0.9647412247162327, 0.03461285310050606, 0.999499412222399, 0.8647473020096575, 0.1152730490225051, 0.014758141224334562, 0.004786424180865263, 0.9942942586598118, 0.9987349943921269, 0.00995715096510119, 0.9702247900394598, 0.01951601589159833, 0.8886985309851558, 0.0925007225830853, 0.018442511667655634, 0.8756169717000952, 0.12414934345200132, 0.6126771626985416, 0.18493154467537834, 0.1531692906746354, 0.0470164944089945, 0.0022985841711063975, 0.9969232310859629, 0.996678552334913, 0.9975502947588747, 0.9956213110673428, 0.9524437470853889, 0.046816332451417184, 0.9919880090783065, 0.0062784051207487755, 0.9991821558063473, 0.9941293409111499, 0.9967367351147579, 0.9964129968052712, 0.9967924348962601, 0.9962717519634119, 0.998836835192667, 0.9975907664664334, 0.12800593532955923, 0.7909088037001782, 0.05267129470117929, 0.028329182409000814, 0.08146396203698682, 0.9104795757074998, 0.9979432834500768, 0.997488334011856, 0.9987688661002524, 0.9939715465456874, 0.9985887012887914, 0.5100993898430399, 0.48637383682708457, 0.5980153426959741, 0.3712398616174446, 0.03051670054019718, 0.15366346973348688, 0.33382064114516113, 0.5104453189997438, 0.7530626920538954, 0.17047557244112424, 0.06033164541927264, 0.01546965267160837, 0.9965769202579545, 0.1579809390122451, 0.09373535714726544, 0.30227019664342897, 0.4455062480145312, 0.5979198181702485, 0.16645386879464796, 0.23194032507043708, 0.0035042919746241675, 0.9910667193179765, 0.14940886359367112, 0.8498123193819919, 0.9995852981991373, 0.9973534928616905, 0.995558713086371, 0.9979858437936633, 0.9970206862418329, 0.9912920462076787, 0.9647848075151096, 0.03461928487778486, 0.3229906109101706, 0.593298722517316, 0.06040558820608656, 0.023169266709183886, 0.9956388667867397, 0.6446046911841801, 0.23096024527672832, 0.12437056254347001, 0.9451140254911394, 0.05377980928634282, 0.14310805477963504, 0.5330571376326824, 0.18438400226825843, 0.04507767949415449, 0.09422864327994945], \"Term\": [\"_\", \"accept\", \"agree\", \"agree\", \"ai\", \"also\", \"also\", \"also\", \"also\", \"also\", \"amendment\", \"analysis\", \"announce\", \"application\", \"arab\", \"area\", \"area\", \"area\", \"area\", \"area\", \"argument\", \"arm\", \"arm\", \"arm\", \"armenian\", \"article\", \"article\", \"article\", \"astronomy\", \"atheist\", \"attack\", \"attack\", \"attack\", \"available\", \"available\", \"ax\", \"back\", \"back\", \"back\", \"ball\", \"band\", \"baseball\", \"belief\", \"believe\", \"bhj\", \"big\", \"big\", \"big\", \"bike\", \"bit\", \"bit\", \"black\", \"black\", \"black\", \"black\", \"bo\", \"border\", \"box\", \"box\", \"buyer\", \"bxn\", \"c\", \"cable\", \"cambridge\", \"cap\", \"capable\", \"car\", \"card\", \"carry\", \"carry\", \"carry\", \"carry\", \"case\", \"case\", \"case\", \"case\", \"cause\", \"cause\", \"cause\", \"cd\", \"center\", \"center\", \"center\", \"center\", \"center\", \"certainly\", \"child\", \"child\", \"chip\", \"choose\", \"christian\", \"church\", \"ci\", \"citizen\", \"citizen\", \"civilian\", \"civilian\", \"claim\", \"clear\", \"coach\", \"code\", \"color\", \"colorado\", \"com\", \"com\", \"come\", \"come\", \"come\", \"come\", \"computer\", \"conclusion\", \"condition\", \"condition\", \"condition\", \"condition\", \"constitution\", \"conversion\", \"convert\", \"cop\", \"copy\", \"copy\", \"cost\", \"cost\", \"cost\", \"country\", \"country\", \"country\", \"court\", \"crime\", \"criminal\", \"cub\", \"cx\", \"daughter\", \"death\", \"death\", \"degree\", \"diagnosis\", \"direct\", \"disk\", \"distribution\", \"distribution\", \"division\", \"division\", \"division\", \"dn\", \"do\", \"do\", \"doctor\", \"dog\", \"dream\", \"drive\", \"drive\", \"driver\", \"drug\", \"drug\", \"drug\", \"earth\", \"earth\", \"eat\", \"eat\", \"eeg\", \"effect\", \"effect\", \"ei\", \"email\", \"encryption\", \"engine\", \"ensure\", \"entry\", \"ethernet\", \"ethnic\", \"even\", \"even\", \"even\", \"even\", \"evidence\", \"examine\", \"existence\", \"expansion\", \"explain\", \"fact\", \"fact\", \"faith\", \"fan\", \"father\", \"file\", \"fire\", \"fire\", \"firearm\", \"first\", \"first\", \"first\", \"first\", \"first\", \"floppy\", \"food\", \"force\", \"force\", \"force\", \"force\", \"game\", \"gang\", \"gateway\", \"gb\", \"get\", \"get\", \"get\", \"get\", \"girl\", \"give\", \"give\", \"give\", \"give\", \"go\", \"go\", \"go\", \"go\", \"goal\", \"goal\", \"god\", \"good\", \"good\", \"good\", \"government\", \"government\", \"grade\", \"graphic\", \"greek\", \"greek\", \"ground\", \"ground\", \"group\", \"group\", \"group\", \"guide\", \"gun\", \"guy\", \"guy\", \"gw\", \"gy\", \"hardware\", \"health\", \"helmet\", \"help\", \"help\", \"hh\", \"high\", \"high\", \"high\", \"high\", \"hit\", \"hockey\", \"honest\", \"host\", \"host\", \"host\", \"hst\", \"human_being\", \"husband\", \"hz\", \"hz\", \"ice\", \"icon\", \"ij\", \"illegal\", \"image\", \"improve\", \"inch\", \"include\", \"include\", \"include\", \"include\", \"include\", \"include\", \"increase\", \"increase\", \"increase\", \"info\", \"information\", \"information\", \"information\", \"inhabitant\", \"international\", \"internet\", \"invasion\", \"ip\", \"israeli\", \"item\", \"jet\", \"key\", \"kill\", \"know\", \"know\", \"know\", \"kp\", \"land\", \"land\", \"last\", \"last\", \"last\", \"last\", \"last\", \"last\", \"launch\", \"law\", \"law\", \"lead\", \"lead\", \"lead\", \"lebanese\", \"lebanese_resistance\", \"legal\", \"legal\", \"less\", \"less\", \"less\", \"less\", \"less\", \"level\", \"level\", \"level\", \"level\", \"liar\", \"life\", \"life\", \"line\", \"line\", \"line\", \"line\", \"lk\", \"look\", \"look\", \"look\", \"los_angele\", \"love\", \"love\", \"low\", \"low\", \"low\", \"m\", \"m\", \"m\", \"m\", \"machine\", \"mail\", \"make\", \"make\", \"make\", \"make\", \"make\", \"man\", \"man\", \"man\", \"many\", \"many\", \"many\", \"many\", \"material\", \"matter\", \"mean\", \"mean\", \"medical\", \"memory\", \"mf\", \"military\", \"military\", \"militia\", \"mind\", \"mission\", \"moon\", \"motif\", \"motorcycle\", \"mu\", \"murder\", \"n\", \"need\", \"need\", \"need\", \"negative\", \"nei\", \"new\", \"new\", \"new\", \"new\", \"next\", \"next\", \"next\", \"next\", \"nhl\", \"nntp_poste\", \"nntp_poste\", \"nntp_poste\", \"northern\", \"occupy\", \"offer\", \"offer\", \"offer\", \"opinion\", \"opinion\", \"orbit\", \"organization\", \"organization\", \"organization\", \"organization\", \"owner\", \"owner\", \"pack\", \"patient\", \"patrol\", \"pen\", \"people\", \"people\", \"perhaps\", \"perhaps\", \"period\", \"period\", \"person\", \"person\", \"person\", \"phone\", \"physical\", \"pick\", \"pick\", \"pick\", \"pin\", \"play\", \"player\", \"playoff\", \"point\", \"point\", \"point\", \"police\", \"policy\", \"policy\", \"policy\", \"possess\", \"power\", \"power\", \"power\", \"power\", \"power\", \"power\", \"price\", \"price\", \"price\", \"price\", \"probe\", \"problem\", \"problem\", \"problem\", \"procedure\", \"program\", \"program\", \"protect\", \"protect\", \"prove\", \"provide\", \"provide\", \"provide\", \"provide\", \"public\", \"public\", \"public\", \"question\", \"question\", \"qx\", \"r\", \"radio\", \"radio\", \"radio\", \"rate\", \"rate\", \"rate\", \"rate\", \"reality\", \"reason\", \"recommend\", \"reduce\", \"reduce\", \"reduce\", \"religion\", \"religious\", \"report\", \"report\", \"report\", \"report\", \"report\", \"research\", \"research\", \"result\", \"result\", \"result\", \"result\", \"ride\", \"rider\", \"right\", \"right\", \"right\", \"right\", \"ripem\", \"risk\", \"risk\", \"rlk\", \"rocket\", \"routine\", \"run\", \"run\", \"russian\", \"s\", \"s\", \"s\", \"safety\", \"safety\", \"safety\", \"sale\", \"satellite\", \"saturn\", \"say\", \"say\", \"say\", \"science\", \"science\", \"scientific\", \"score\", \"screen\", \"season\", \"sector\", \"see\", \"see\", \"see\", \"seem\", \"seem\", \"seem\", \"select\", \"select\", \"sell\", \"sell\", \"sell\", \"sell\", \"send\", \"send\", \"send\", \"send\", \"sense\", \"server\", \"service\", \"service\", \"service\", \"service\", \"service\", \"shipping\", \"shoot\", \"shoot\", \"shuttle\", \"significant\", \"sj\", \"sky\", \"slave\", \"slightly\", \"smoke\", \"software\", \"soldier\", \"soldier\", \"son\", \"space\", \"space\", \"speak\", \"sport\", \"stack\", \"stat\", \"state\", \"state\", \"state\", \"state\", \"statement\", \"study\", \"study\", \"super\", \"super\", \"sy\", \"syndrome\", \"system\", \"system\", \"system\", \"take\", \"take\", \"take\", \"take\", \"take\", \"talk\", \"talk\", \"team\", \"tell\", \"tell\", \"tell\", \"tell\", \"terrorism\", \"test\", \"thank\", \"thank\", \"thank\", \"thing\", \"thing\", \"thing\", \"think\", \"think\", \"time\", \"time\", \"time\", \"time\", \"time\", \"trade\", \"translation\", \"treatment\", \"trial\", \"true\", \"true\", \"trust\", \"trust\", \"truth\", \"tube\", \"tumor\", \"turk\", \"turkish\", \"tv\", \"understand\", \"upgrade\", \"use\", \"use\", \"use\", \"use\", \"usenet\", \"usenet\", \"user\", \"valid\", \"version\", \"vertical\", \"village\", \"wa\", \"wa\", \"want\", \"want\", \"want\", \"war\", \"war\", \"war\", \"way\", \"way\", \"way\", \"way\", \"weapon\", \"week\", \"week\", \"week\", \"week\", \"well\", \"well\", \"well\", \"well\", \"widget\", \"win\", \"win\", \"window\", \"wing\", \"winner\", \"wire\", \"withdraw\", \"wm\", \"word\", \"word\", \"work\", \"work\", \"work\", \"work\", \"workstation\", \"write\", \"write\", \"write\", \"wrong\", \"wrong\", \"year\", \"year\", \"year\", \"year\", \"year\"]}, \"R\": 30, \"lambda.step\": 0.01, \"plot.opts\": {\"xlab\": \"PC1\", \"ylab\": \"PC2\"}, \"topic.order\": [3, 2, 4, 8, 6, 5, 7, 1]};\\n\\nfunction LDAvis_load_lib(url, callback){\\n  var s = document.createElement(\\'script\\');\\n  s.src = url;\\n  s.async = true;\\n  s.onreadystatechange = s.onload = callback;\\n  s.onerror = function(){console.warn(\"failed to load library \" + url);};\\n  document.getElementsByTagName(\"head\")[0].appendChild(s);\\n}\\n\\nif(typeof(LDAvis) !== \"undefined\"){\\n   // already loaded: just create the visualization\\n   !function(LDAvis){\\n       new LDAvis(\"#\" + \"ldavis_el243223746034450723168361166\", ldavis_el243223746034450723168361166_data);\\n   }(LDAvis);\\n}else if(typeof define === \"function\" && define.amd){\\n   // require.js is available: use it to load d3/LDAvis\\n   require.config({paths: {d3: \"https://d3js.org/d3.v5\"}});\\n   require([\"d3\"], function(d3){\\n      window.d3 = d3;\\n      LDAvis_load_lib(\"https://cdn.jsdelivr.net/gh/bmabey/pyLDAvis@3.3.1/pyLDAvis/js/ldavis.v3.0.0.js\", function(){\\n        new LDAvis(\"#\" + \"ldavis_el243223746034450723168361166\", ldavis_el243223746034450723168361166_data);\\n      });\\n    });\\n}else{\\n    // require.js not available: dynamically load d3 & LDAvis\\n    LDAvis_load_lib(\"https://d3js.org/d3.v5.js\", function(){\\n         LDAvis_load_lib(\"https://cdn.jsdelivr.net/gh/bmabey/pyLDAvis@3.3.1/pyLDAvis/js/ldavis.v3.0.0.js\", function(){\\n                 new LDAvis(\"#\" + \"ldavis_el243223746034450723168361166\", ldavis_el243223746034450723168361166_data);\\n            })\\n         });\\n}\\n</script>'"
      ]
     },
     "execution_count": 27,
     "metadata": {},
     "output_type": "execute_result"
    }
   ],
   "source": [
    "pyLDAvis.prepared_data_to_html(vis)"
   ]
  },
  {
   "cell_type": "code",
   "execution_count": 39,
   "id": "22e586d3",
   "metadata": {
    "scrolled": false
   },
   "outputs": [
    {
     "name": "stderr",
     "output_type": "stream",
     "text": [
      "C:\\Users\\Raymart L. Perillo\\AppData\\Local\\Temp\\ipykernel_2432\\525086678.py:15: FutureWarning: The frame.append method is deprecated and will be removed from pandas in a future version. Use pandas.concat instead.\n",
      "  sent_topics_df = sent_topics_df.append(pd.Series([int(topic_num), round(prop_topic,4), topic_keywords]), ignore_index=True)\n",
      "C:\\Users\\Raymart L. Perillo\\AppData\\Local\\Temp\\ipykernel_2432\\525086678.py:15: FutureWarning: The frame.append method is deprecated and will be removed from pandas in a future version. Use pandas.concat instead.\n",
      "  sent_topics_df = sent_topics_df.append(pd.Series([int(topic_num), round(prop_topic,4), topic_keywords]), ignore_index=True)\n"
     ]
    },
    {
     "data": {
      "text/html": [
       "<div>\n",
       "<style scoped>\n",
       "    .dataframe tbody tr th:only-of-type {\n",
       "        vertical-align: middle;\n",
       "    }\n",
       "\n",
       "    .dataframe tbody tr th {\n",
       "        vertical-align: top;\n",
       "    }\n",
       "\n",
       "    .dataframe thead th {\n",
       "        text-align: right;\n",
       "    }\n",
       "</style>\n",
       "<table border=\"1\" class=\"dataframe\">\n",
       "  <thead>\n",
       "    <tr style=\"text-align: right;\">\n",
       "      <th></th>\n",
       "      <th>Document_No</th>\n",
       "      <th>Dominant_Topic</th>\n",
       "      <th>Topic_Perc_Contrib</th>\n",
       "      <th>Keywords</th>\n",
       "      <th>Text</th>\n",
       "    </tr>\n",
       "  </thead>\n",
       "  <tbody>\n",
       "    <tr>\n",
       "      <th>0</th>\n",
       "      <td>0</td>\n",
       "      <td>1</td>\n",
       "      <td>0.4328</td>\n",
       "      <td>line, organization, use, nntp_poste, host, get...</td>\n",
       "      <td>[s, thing, car, nntp_poste, host, umd, organiz...</td>\n",
       "    </tr>\n",
       "    <tr>\n",
       "      <th>1</th>\n",
       "      <td>1</td>\n",
       "      <td>1</td>\n",
       "      <td>0.3592</td>\n",
       "      <td>line, organization, use, nntp_poste, host, get...</td>\n",
       "      <td>[poll, final, call, summary, final, call, cloc...</td>\n",
       "    </tr>\n",
       "    <tr>\n",
       "      <th>2</th>\n",
       "      <td>2</td>\n",
       "      <td>1</td>\n",
       "      <td>0.4046</td>\n",
       "      <td>line, organization, use, nntp_poste, host, get...</td>\n",
       "      <td>[question, organization, purdue_university, en...</td>\n",
       "    </tr>\n",
       "    <tr>\n",
       "      <th>3</th>\n",
       "      <td>3</td>\n",
       "      <td>1</td>\n",
       "      <td>0.5036</td>\n",
       "      <td>line, organization, use, nntp_poste, host, get...</td>\n",
       "      <td>[system, division, line, nntp_poste, host, amb...</td>\n",
       "    </tr>\n",
       "    <tr>\n",
       "      <th>4</th>\n",
       "      <td>4</td>\n",
       "      <td>1</td>\n",
       "      <td>0.3633</td>\n",
       "      <td>line, organization, use, nntp_poste, host, get...</td>\n",
       "      <td>[question, organization, smithsonian_astrophys...</td>\n",
       "    </tr>\n",
       "    <tr>\n",
       "      <th>5</th>\n",
       "      <td>5</td>\n",
       "      <td>2</td>\n",
       "      <td>0.6060</td>\n",
       "      <td>write, say, people, think, article, know, make...</td>\n",
       "      <td>[foxvog_dougla, reword, second_amendment, idea...</td>\n",
       "    </tr>\n",
       "    <tr>\n",
       "      <th>6</th>\n",
       "      <td>6</td>\n",
       "      <td>1</td>\n",
       "      <td>0.3513</td>\n",
       "      <td>line, organization, use, nntp_poste, host, get...</td>\n",
       "      <td>[man, brain, tumor, treatment, line, people, r...</td>\n",
       "    </tr>\n",
       "    <tr>\n",
       "      <th>7</th>\n",
       "      <td>7</td>\n",
       "      <td>1</td>\n",
       "      <td>0.7824</td>\n",
       "      <td>line, organization, use, nntp_poste, host, get...</td>\n",
       "      <td>[las_cruce, nm, line, nntp_poste, host, dante_...</td>\n",
       "    </tr>\n",
       "    <tr>\n",
       "      <th>8</th>\n",
       "      <td>8</td>\n",
       "      <td>1</td>\n",
       "      <td>0.4591</td>\n",
       "      <td>line, organization, use, nntp_poste, host, get...</td>\n",
       "      <td>[win, icon, help, please, organization, line, ...</td>\n",
       "    </tr>\n",
       "    <tr>\n",
       "      <th>9</th>\n",
       "      <td>9</td>\n",
       "      <td>1</td>\n",
       "      <td>0.6700</td>\n",
       "      <td>line, organization, use, nntp_poste, host, get...</td>\n",
       "      <td>[sigma_design, double, article, pellettiere, w...</td>\n",
       "    </tr>\n",
       "  </tbody>\n",
       "</table>\n",
       "</div>"
      ],
      "text/plain": [
       "   Document_No  Dominant_Topic  Topic_Perc_Contrib  \\\n",
       "0            0               1              0.4328   \n",
       "1            1               1              0.3592   \n",
       "2            2               1              0.4046   \n",
       "3            3               1              0.5036   \n",
       "4            4               1              0.3633   \n",
       "5            5               2              0.6060   \n",
       "6            6               1              0.3513   \n",
       "7            7               1              0.7824   \n",
       "8            8               1              0.4591   \n",
       "9            9               1              0.6700   \n",
       "\n",
       "                                            Keywords  \\\n",
       "0  line, organization, use, nntp_poste, host, get...   \n",
       "1  line, organization, use, nntp_poste, host, get...   \n",
       "2  line, organization, use, nntp_poste, host, get...   \n",
       "3  line, organization, use, nntp_poste, host, get...   \n",
       "4  line, organization, use, nntp_poste, host, get...   \n",
       "5  write, say, people, think, article, know, make...   \n",
       "6  line, organization, use, nntp_poste, host, get...   \n",
       "7  line, organization, use, nntp_poste, host, get...   \n",
       "8  line, organization, use, nntp_poste, host, get...   \n",
       "9  line, organization, use, nntp_poste, host, get...   \n",
       "\n",
       "                                                Text  \n",
       "0  [s, thing, car, nntp_poste, host, umd, organiz...  \n",
       "1  [poll, final, call, summary, final, call, cloc...  \n",
       "2  [question, organization, purdue_university, en...  \n",
       "3  [system, division, line, nntp_poste, host, amb...  \n",
       "4  [question, organization, smithsonian_astrophys...  \n",
       "5  [foxvog_dougla, reword, second_amendment, idea...  \n",
       "6  [man, brain, tumor, treatment, line, people, r...  \n",
       "7  [las_cruce, nm, line, nntp_poste, host, dante_...  \n",
       "8  [win, icon, help, please, organization, line, ...  \n",
       "9  [sigma_design, double, article, pellettiere, w...  "
      ]
     },
     "execution_count": 39,
     "metadata": {},
     "output_type": "execute_result"
    }
   ],
   "source": [
    "def format_topics_sentences(ldamodel=None, corpus=corpus, texts=data):\n",
    "    # Init output\n",
    "    sent_topics_df = pd.DataFrame()\n",
    "\n",
    "    # Get main topic in each document\n",
    "    for i, row_list in enumerate(ldamodel[corpus]):\n",
    "        row = row_list[0] if ldamodel.per_word_topics else row_list            \n",
    "        # print(row)\n",
    "        row = sorted(row, key=lambda x: (x[1]), reverse=True)\n",
    "        # Get the Dominant topic, Perc Contribution and Keywords for each document\n",
    "        for j, (topic_num, prop_topic) in enumerate(row):\n",
    "            if j == 0:  # => dominant topic\n",
    "                wp = ldamodel.show_topic(topic_num)\n",
    "                topic_keywords = \", \".join([word for word, prop in wp])\n",
    "                sent_topics_df = sent_topics_df.append(pd.Series([int(topic_num), round(prop_topic,4), topic_keywords]), ignore_index=True)\n",
    "            else:\n",
    "                break\n",
    "    sent_topics_df.columns = ['Dominant_Topic', 'Perc_Contribution', 'Topic_Keywords']\n",
    "\n",
    "    # Add original text to the end of the output\n",
    "    contents = pd.Series(texts)\n",
    "    sent_topics_df = pd.concat([sent_topics_df, contents], axis=1)\n",
    "    return(sent_topics_df)\n",
    "\n",
    "\n",
    "df_topic_sents_keywords = format_topics_sentences(ldamodel=lda_model, corpus=corpus, texts=data_lemmatized)\n",
    "\n",
    "# Format\n",
    "df_dominant_topic = df_topic_sents_keywords.reset_index()\n",
    "df_dominant_topic.columns = ['Document_No', 'Dominant_Topic', 'Topic_Perc_Contrib', 'Keywords', 'Text']\n",
    "df_dominant_topic.head(10)"
   ]
  },
  {
   "cell_type": "code",
   "execution_count": 54,
   "id": "a30b6226",
   "metadata": {
    "scrolled": true
   },
   "outputs": [
    {
     "data": {
      "text/html": [
       "<div>\n",
       "<style scoped>\n",
       "    .dataframe tbody tr th:only-of-type {\n",
       "        vertical-align: middle;\n",
       "    }\n",
       "\n",
       "    .dataframe tbody tr th {\n",
       "        vertical-align: top;\n",
       "    }\n",
       "\n",
       "    .dataframe thead th {\n",
       "        text-align: right;\n",
       "    }\n",
       "</style>\n",
       "<table border=\"1\" class=\"dataframe\">\n",
       "  <thead>\n",
       "    <tr style=\"text-align: right;\">\n",
       "      <th></th>\n",
       "      <th>Document_No</th>\n",
       "      <th>Dominant_Topic</th>\n",
       "      <th>Topic_Perc_Contrib</th>\n",
       "      <th>Keywords</th>\n",
       "      <th>Text</th>\n",
       "    </tr>\n",
       "  </thead>\n",
       "  <tbody>\n",
       "    <tr>\n",
       "      <th>0</th>\n",
       "      <td>0</td>\n",
       "      <td>1</td>\n",
       "      <td>0.4328</td>\n",
       "      <td>line, organization, use, nntp_poste, host, get...</td>\n",
       "      <td>[s, thing, car, nntp_poste, host, umd, organiz...</td>\n",
       "    </tr>\n",
       "    <tr>\n",
       "      <th>1</th>\n",
       "      <td>1</td>\n",
       "      <td>1</td>\n",
       "      <td>0.3592</td>\n",
       "      <td>line, organization, use, nntp_poste, host, get...</td>\n",
       "      <td>[poll, final, call, summary, final, call, cloc...</td>\n",
       "    </tr>\n",
       "    <tr>\n",
       "      <th>2</th>\n",
       "      <td>2</td>\n",
       "      <td>1</td>\n",
       "      <td>0.4046</td>\n",
       "      <td>line, organization, use, nntp_poste, host, get...</td>\n",
       "      <td>[question, organization, purdue_university, en...</td>\n",
       "    </tr>\n",
       "    <tr>\n",
       "      <th>3</th>\n",
       "      <td>3</td>\n",
       "      <td>1</td>\n",
       "      <td>0.5036</td>\n",
       "      <td>line, organization, use, nntp_poste, host, get...</td>\n",
       "      <td>[system, division, line, nntp_poste, host, amb...</td>\n",
       "    </tr>\n",
       "    <tr>\n",
       "      <th>4</th>\n",
       "      <td>4</td>\n",
       "      <td>1</td>\n",
       "      <td>0.3633</td>\n",
       "      <td>line, organization, use, nntp_poste, host, get...</td>\n",
       "      <td>[question, organization, smithsonian_astrophys...</td>\n",
       "    </tr>\n",
       "    <tr>\n",
       "      <th>...</th>\n",
       "      <td>...</td>\n",
       "      <td>...</td>\n",
       "      <td>...</td>\n",
       "      <td>...</td>\n",
       "      <td>...</td>\n",
       "    </tr>\n",
       "    <tr>\n",
       "      <th>11309</th>\n",
       "      <td>11309</td>\n",
       "      <td>2</td>\n",
       "      <td>0.5004</td>\n",
       "      <td>write, say, people, think, article, know, make...</td>\n",
       "      <td>[scan, organization, reply, line, dn, neurolog...</td>\n",
       "    </tr>\n",
       "    <tr>\n",
       "      <th>11310</th>\n",
       "      <td>11310</td>\n",
       "      <td>1</td>\n",
       "      <td>0.6471</td>\n",
       "      <td>line, organization, use, nntp_poste, host, get...</td>\n",
       "      <td>[screen, death, line, organization, problem, s...</td>\n",
       "    </tr>\n",
       "    <tr>\n",
       "      <th>11311</th>\n",
       "      <td>11311</td>\n",
       "      <td>1</td>\n",
       "      <td>0.6391</td>\n",
       "      <td>line, organization, use, nntp_poste, host, get...</td>\n",
       "      <td>[este, mount, cpu, cool, vertical, case, organ...</td>\n",
       "    </tr>\n",
       "    <tr>\n",
       "      <th>11312</th>\n",
       "      <td>11312</td>\n",
       "      <td>1</td>\n",
       "      <td>0.4841</td>\n",
       "      <td>line, organization, use, nntp_poste, host, get...</td>\n",
       "      <td>[point, organization, central, research, line,...</td>\n",
       "    </tr>\n",
       "    <tr>\n",
       "      <th>11313</th>\n",
       "      <td>11313</td>\n",
       "      <td>3</td>\n",
       "      <td>0.4692</td>\n",
       "      <td>line, go, get, year, team, game, car, good, or...</td>\n",
       "      <td>[gunning, steal, organization, line, distribut...</td>\n",
       "    </tr>\n",
       "  </tbody>\n",
       "</table>\n",
       "<p>11211 rows × 5 columns</p>\n",
       "</div>"
      ],
      "text/plain": [
       "       Document_No  Dominant_Topic  Topic_Perc_Contrib  \\\n",
       "0                0               1              0.4328   \n",
       "1                1               1              0.3592   \n",
       "2                2               1              0.4046   \n",
       "3                3               1              0.5036   \n",
       "4                4               1              0.3633   \n",
       "...            ...             ...                 ...   \n",
       "11309        11309               2              0.5004   \n",
       "11310        11310               1              0.6471   \n",
       "11311        11311               1              0.6391   \n",
       "11312        11312               1              0.4841   \n",
       "11313        11313               3              0.4692   \n",
       "\n",
       "                                                Keywords  \\\n",
       "0      line, organization, use, nntp_poste, host, get...   \n",
       "1      line, organization, use, nntp_poste, host, get...   \n",
       "2      line, organization, use, nntp_poste, host, get...   \n",
       "3      line, organization, use, nntp_poste, host, get...   \n",
       "4      line, organization, use, nntp_poste, host, get...   \n",
       "...                                                  ...   \n",
       "11309  write, say, people, think, article, know, make...   \n",
       "11310  line, organization, use, nntp_poste, host, get...   \n",
       "11311  line, organization, use, nntp_poste, host, get...   \n",
       "11312  line, organization, use, nntp_poste, host, get...   \n",
       "11313  line, go, get, year, team, game, car, good, or...   \n",
       "\n",
       "                                                    Text  \n",
       "0      [s, thing, car, nntp_poste, host, umd, organiz...  \n",
       "1      [poll, final, call, summary, final, call, cloc...  \n",
       "2      [question, organization, purdue_university, en...  \n",
       "3      [system, division, line, nntp_poste, host, amb...  \n",
       "4      [question, organization, smithsonian_astrophys...  \n",
       "...                                                  ...  \n",
       "11309  [scan, organization, reply, line, dn, neurolog...  \n",
       "11310  [screen, death, line, organization, problem, s...  \n",
       "11311  [este, mount, cpu, cool, vertical, case, organ...  \n",
       "11312  [point, organization, central, research, line,...  \n",
       "11313  [gunning, steal, organization, line, distribut...  \n",
       "\n",
       "[11211 rows x 5 columns]"
      ]
     },
     "execution_count": 54,
     "metadata": {},
     "output_type": "execute_result"
    }
   ],
   "source": [
    "df_dominant_topic2 = df_dominant_topic[df_dominant_topic.Dominant_Topic != 6]\n",
    "df_dominant_topic2"
   ]
  },
  {
   "cell_type": "code",
   "execution_count": 55,
   "id": "98da33f3",
   "metadata": {},
   "outputs": [],
   "source": [
    "df_dominant_topic2.to_csv('LDA_topics_lda', index = False)"
   ]
  },
  {
   "cell_type": "markdown",
   "id": "7d79d774",
   "metadata": {},
   "source": [
    "#### LSI MODEL"
   ]
  },
  {
   "cell_type": "code",
   "execution_count": 59,
   "id": "16900be5",
   "metadata": {
    "scrolled": false
   },
   "outputs": [
    {
     "data": {
      "text/plain": [
       "[(0,\n",
       "  '1.000*\"ax\" + 0.001*\"mf\" + 0.001*\"pl_pl\" + 0.001*\"m\" + 0.001*\"wm\" + 0.001*\"giz_giz\" + 0.000*\"mi\" + 0.000*\"fq\" + 0.000*\"wt\" + 0.000*\"pmfq\"'),\n",
       " (1,\n",
       "  '0.238*\"say\" + 0.200*\"file\" + 0.194*\"go\" + 0.178*\"get\" + 0.166*\"people\" + 0.166*\"know\" + 0.143*\"make\" + 0.133*\"see\" + 0.132*\"use\" + 0.129*\"also\"'),\n",
       " (2,\n",
       "  '-0.395*\"file\" + 0.333*\"say\" + 0.251*\"go\" + -0.171*\"image\" + 0.163*\"know\" + 0.161*\"people\" + -0.158*\"program\" + 0.138*\"think\" + -0.137*\"available\" + 0.137*\"s\"'),\n",
       " (3,\n",
       "  '0.555*\"file\" + 0.335*\"entry\" + -0.173*\"system\" + 0.131*\"say\" + -0.126*\"available\" + 0.122*\"output\" + -0.122*\"use\" + 0.114*\"program\" + -0.106*\"also\" + 0.102*\"printf\"'),\n",
       " (4,\n",
       "  '-0.845*\"_\" + -0.403*\"c\" + -0.198*\"cx\" + -0.115*\"sc\" + -0.098*\"d\" + -0.070*\"i\" + -0.069*\"sj\" + -0.061*\"gc\" + -0.058*\"m\" + -0.056*\"sy\"'),\n",
       " (5,\n",
       "  '-0.397*\"image\" + 0.163*\"wire\" + -0.160*\"color\" + -0.159*\"jpeg\" + -0.154*\"say\" + 0.144*\"entry\" + -0.140*\"go\" + -0.139*\"available\" + -0.139*\"version\" + 0.138*\"privacy\"'),\n",
       " (6,\n",
       "  '-0.346*\"wire\" + 0.204*\"internet\" + 0.196*\"privacy\" + -0.177*\"circuit\" + -0.170*\"wiring\" + -0.169*\"ground\" + 0.149*\"anonymous\" + -0.147*\"outlet\" + -0.136*\"neutral\" + 0.135*\"information\"'),\n",
       " (7,\n",
       "  '-0.291*\"file\" + -0.269*\"image\" + -0.228*\"wire\" + 0.212*\"entry\" + 0.171*\"widget\" + 0.158*\"program\" + -0.155*\"jpeg\" + -0.142*\"internet\" + -0.129*\"privacy\" + 0.123*\"line\"')]"
      ]
     },
     "execution_count": 59,
     "metadata": {},
     "output_type": "execute_result"
    }
   ],
   "source": [
    "lsi_model = gensim.models.LsiModel(corpus=corpus, num_topics = 8, id2word = id2word)\n",
    "lsi_model.show_topics(num_topics=8)"
   ]
  },
  {
   "cell_type": "code",
   "execution_count": 60,
   "id": "c8675bfa",
   "metadata": {},
   "outputs": [
    {
     "name": "stdout",
     "output_type": "stream",
     "text": [
      "\n",
      "Coherence Score:  0.5152303719209037\n"
     ]
    }
   ],
   "source": [
    "# Compute Coherence Score\n",
    "coherence_model_lsi = CoherenceModel(model=lsi_model, texts=data_lemmatized, dictionary=id2word, coherence='c_v')\n",
    "coherence_lsi = coherence_model_lsi.get_coherence()\n",
    "print('\\nCoherence Score: ', coherence_lsi)"
   ]
  },
  {
   "cell_type": "code",
   "execution_count": 69,
   "id": "5194fa96",
   "metadata": {
    "scrolled": true
   },
   "outputs": [
    {
     "ename": "AttributeError",
     "evalue": "'LsiModel' object has no attribute 'per_word_topics'",
     "output_type": "error",
     "traceback": [
      "\u001b[1;31m---------------------------------------------------------------------------\u001b[0m",
      "\u001b[1;31mAttributeError\u001b[0m                            Traceback (most recent call last)",
      "Input \u001b[1;32mIn [69]\u001b[0m, in \u001b[0;36m<cell line: 26>\u001b[1;34m()\u001b[0m\n\u001b[0;32m     22\u001b[0m     sent_topics_df \u001b[38;5;241m=\u001b[39m pd\u001b[38;5;241m.\u001b[39mconcat([sent_topics_df, contents], axis\u001b[38;5;241m=\u001b[39m\u001b[38;5;241m1\u001b[39m)\n\u001b[0;32m     23\u001b[0m     \u001b[38;5;28;01mreturn\u001b[39;00m(sent_topics_df)\n\u001b[1;32m---> 26\u001b[0m df_topic_sents_keywords \u001b[38;5;241m=\u001b[39m \u001b[43mformat_topics_sentences2\u001b[49m\u001b[43m(\u001b[49m\u001b[43mlsimodel\u001b[49m\u001b[38;5;241;43m=\u001b[39;49m\u001b[43mlsi_model\u001b[49m\u001b[43m,\u001b[49m\u001b[43m \u001b[49m\u001b[43mcorpus\u001b[49m\u001b[38;5;241;43m=\u001b[39;49m\u001b[43mcorpus\u001b[49m\u001b[43m,\u001b[49m\u001b[43m \u001b[49m\u001b[43mtexts\u001b[49m\u001b[38;5;241;43m=\u001b[39;49m\u001b[43mdata_lemmatized\u001b[49m\u001b[43m)\u001b[49m\n\u001b[0;32m     28\u001b[0m \u001b[38;5;66;03m# Format\u001b[39;00m\n\u001b[0;32m     29\u001b[0m df_dominant_topic3 \u001b[38;5;241m=\u001b[39m df_topic_sents_keywords\u001b[38;5;241m.\u001b[39mreset_index()\n",
      "Input \u001b[1;32mIn [69]\u001b[0m, in \u001b[0;36mformat_topics_sentences2\u001b[1;34m(lsimodel, corpus, texts)\u001b[0m\n\u001b[0;32m      5\u001b[0m \u001b[38;5;66;03m# Get main topic in each document\u001b[39;00m\n\u001b[0;32m      6\u001b[0m \u001b[38;5;28;01mfor\u001b[39;00m i, row_list \u001b[38;5;129;01min\u001b[39;00m \u001b[38;5;28menumerate\u001b[39m(lsimodel[corpus]):\n\u001b[1;32m----> 7\u001b[0m     row \u001b[38;5;241m=\u001b[39m row_list[\u001b[38;5;241m0\u001b[39m] \u001b[38;5;28;01mif\u001b[39;00m \u001b[43mlsimodel\u001b[49m\u001b[38;5;241;43m.\u001b[39;49m\u001b[43mper_word_topics\u001b[49m \u001b[38;5;28;01melse\u001b[39;00m row_list            \n\u001b[0;32m      8\u001b[0m     \u001b[38;5;66;03m# print(row)\u001b[39;00m\n\u001b[0;32m      9\u001b[0m     row \u001b[38;5;241m=\u001b[39m \u001b[38;5;28msorted\u001b[39m(row, key\u001b[38;5;241m=\u001b[39m\u001b[38;5;28;01mlambda\u001b[39;00m x: (x[\u001b[38;5;241m1\u001b[39m]), reverse\u001b[38;5;241m=\u001b[39m\u001b[38;5;28;01mTrue\u001b[39;00m)\n",
      "\u001b[1;31mAttributeError\u001b[0m: 'LsiModel' object has no attribute 'per_word_topics'"
     ]
    }
   ],
   "source": [
    "def format_topics_sentences2(lsimodel=None, corpus=corpus, texts=data):\n",
    "    # Init output\n",
    "    sent_topics_df = pd.DataFrame()\n",
    "\n",
    "    # Get main topic in each document\n",
    "    for i, row_list in enumerate(lsimodel[corpus]):\n",
    "        row = row_list[0] if lsimodel.per_word_topics else row_list            \n",
    "        # print(row)\n",
    "        row = sorted(row, key=lambda x: (x[1]), reverse=True)\n",
    "        # Get the Dominant topic, Perc Contribution and Keywords for each document\n",
    "        for j, (topic_num, prop_topic) in enumerate(row):\n",
    "            if j == 0:  # => dominant topic\n",
    "                wp = lsimodel.show_topic(topic_num)\n",
    "                topic_keywords = \", \".join([word for word, prop in wp])\n",
    "                sent_topics_df = sent_topics_df.append(pd.Series([int(topic_num), round(prop_topic,4), topic_keywords]), ignore_index=True)\n",
    "            else:\n",
    "                break\n",
    "    sent_topics_df.columns = ['Dominant_Topic', 'Perc_Contribution', 'Topic_Keywords']\n",
    "\n",
    "    # Add original text to the end of the output\n",
    "    contents = pd.Series(texts)\n",
    "    sent_topics_df = pd.concat([sent_topics_df, contents], axis=1)\n",
    "    return(sent_topics_df)\n",
    "\n",
    "\n",
    "df_topic_sents_keywords = format_topics_sentences2(lsimodel=lsi_model, corpus=corpus, texts=data_lemmatized)\n",
    "\n",
    "# Format\n",
    "df_dominant_topic3 = df_topic_sents_keywords.reset_index()\n",
    "df_dominant_topic3.columns = ['Document_No', 'Dominant_Topic', 'Topic_Perc_Contrib', 'Keywords', 'Text']\n",
    "df_dominant_topic3.head(10)"
   ]
  },
  {
   "cell_type": "code",
   "execution_count": 70,
   "id": "4a1dc93d",
   "metadata": {},
   "outputs": [],
   "source": [
    "df_dominant_topic3.to_csv('LDA_topics_lsi', index = False)"
   ]
  },
  {
   "cell_type": "code",
   "execution_count": 65,
   "id": "5cb24fe4",
   "metadata": {},
   "outputs": [
    {
     "data": {
      "text/plain": [
       "[(0,\n",
       "  '0.010*line + 0.008*write + 0.006*get + 0.006*article + 0.006*say + 0.005*organization + 0.005*know + 0.005*people + 0.005*go + 0.005*make + 0.005*think + 0.004*well + 0.004*time + 0.004*use + 0.004*good + 0.004*see + 0.004*nntp_poste + 0.004*also + 0.003*host + 0.003*work'),\n",
       " (1,\n",
       "  '0.786*ax + 0.001*pl_pl + 0.001*mf + 0.001*m + 0.001*wm + 0.001*giz_giz + 0.000*_ + 0.000*mi + 0.000*bxlt + 0.000*wt + 0.000*rlk + 0.000*part + 0.000*gq + 0.000*mb + 0.000*giz + 0.000*fq + 0.000*gizwt + 0.000*pmf + 0.000*sl + 0.000*pne'),\n",
       " (2,\n",
       "  '0.012*line + 0.006*organization + 0.006*write + 0.005*get + 0.004*nntp_poste + 0.004*article + 0.004*host + 0.004*driver + 0.004*use + 0.004*know + 0.004*run + 0.003*problem + 0.003*drive + 0.003*window + 0.003*system + 0.003*do + 0.003*work + 0.003*think + 0.003*need + 0.003*make'),\n",
       " (3,\n",
       "  '0.010*line + 0.006*write + 0.005*organization + 0.004*get + 0.004*nntp_poste + 0.004*article + 0.004*host + 0.004*know + 0.003*file + 0.003*go + 0.002*use + 0.002*say + 0.002*make + 0.002*well + 0.002*think + 0.002*want + 0.002*thank + 0.002*find + 0.002*people + 0.002*also'),\n",
       " (4,\n",
       "  '0.023*_ + 0.008*c + 0.005*cx + 0.004*m + 0.003*d + 0.003*sj + 0.003*sc + 0.003*r + 0.003*rlk + 0.002*i + 0.002*health + 0.002*hz + 0.002*line + 0.002*wa + 0.001*zd + 0.001*mf + 0.001*organization + 0.001*gc + 0.001*report + 0.001*ci'),\n",
       " (5,\n",
       "  '0.006*line + 0.004*write + 0.003*article + 0.003*get + 0.003*organization + 0.002*nntp_poste + 0.002*host + 0.002*know + 0.002*go + 0.002*say + 0.002*good + 0.002*give + 0.002*make + 0.002*take + 0.002*time + 0.002*s + 0.002*first + 0.001*m + 0.001*people + 0.001*well'),\n",
       " (6,\n",
       "  '0.006*line + 0.004*organization + 0.003*get + 0.003*know + 0.003*system + 0.003*nntp_poste + 0.003*write + 0.003*car + 0.002*year + 0.002*host + 0.002*article + 0.002*well + 0.002*go + 0.002*think + 0.002*say + 0.002*m + 0.002*also + 0.002*time + 0.002*try + 0.002*use'),\n",
       " (7,\n",
       "  '0.005*line + 0.003*write + 0.003*organization + 0.003*article + 0.003*know + 0.003*say + 0.002*go + 0.002*people + 0.002*good + 0.002*come + 0.002*m + 0.002*get + 0.002*think + 0.002*nntp_poste + 0.002*see + 0.001*make + 0.001*host + 0.001*well + 0.001*want + 0.001*game'),\n",
       " (8,\n",
       "  '0.005*line + 0.002*get + 0.002*organization + 0.002*say + 0.002*write + 0.002*article + 0.002*use + 0.002*audio + 0.002*good + 0.002*nntp_poste + 0.002*switch + 0.001*know + 0.001*host + 0.001*well + 0.001*also + 0.001*proceed + 0.001*shuttle + 0.001*thing + 0.001*call + 0.001*father'),\n",
       " (9,\n",
       "  '0.004*line + 0.003*write + 0.003*organization + 0.002*get + 0.002*software + 0.002*nntp_poste + 0.002*host + 0.001*good + 0.001*work + 0.001*people + 0.001*look + 0.001*want + 0.001*file + 0.001*need + 0.001*problem + 0.001*run + 0.001*read + 0.001*also + 0.001*use + 0.001*think'),\n",
       " (10,\n",
       "  '0.005*line + 0.004*article + 0.004*write + 0.002*window + 0.002*organization + 0.002*know + 0.002*think + 0.002*want + 0.002*get + 0.002*nntp_poste + 0.002*say + 0.002*corn + 0.001*look + 0.001*host + 0.001*good + 0.001*window_manag + 0.001*m + 0.001*see + 0.001*well + 0.001*program'),\n",
       " (11,\n",
       "  '0.004*line + 0.003*write + 0.002*article + 0.002*point + 0.002*organization + 0.001*get + 0.001*nntp_poste + 0.001*make + 0.001*host + 0.001*well + 0.001*think + 0.001*know + 0.001*find + 0.001*use + 0.001*say + 0.001*problem + 0.001*plane + 0.001*help + 0.001*go + 0.001*take'),\n",
       " (12,\n",
       "  '0.002*line + 0.002*belief + 0.002*believe + 0.002*write + 0.002*organization + 0.001*think + 0.001*article + 0.001*well + 0.001*say + 0.001*people + 0.001*mean + 0.001*church + 0.001*ottawa + 0.001*speed + 0.001*know + 0.001*use + 0.001*time + 0.001*go + 0.001*different + 0.001*christian'),\n",
       " (13,\n",
       "  '0.002*period + 0.002*line + 0.002*scorer_pt + 0.002*article + 0.002*write + 0.002*weapon + 0.002*first + 0.002*organization + 0.001*second + 0.001*look + 0.001*nntp_poste + 0.001*say + 0.001*think + 0.001*people + 0.001*right + 0.001*los_angele + 0.001*believe + 0.001*help + 0.001*vancouver + 0.001*unassisted'),\n",
       " (14,\n",
       "  '0.002*line + 0.002*write + 0.001*people + 0.001*palestinian + 0.001*game + 0.001*organization + 0.001*think + 0.001*article + 0.001*make + 0.001*get + 0.001*say + 0.001*nntp_poste + 0.001*good + 0.001*roussel + 0.001*include + 0.001*value + 0.001*team + 0.001*see + 0.001*m + 0.001*assistance'),\n",
       " (15,\n",
       "  '0.002*line + 0.002*option + 0.001*power + 0.001*write + 0.001*nntp_poste + 0.001*good + 0.001*article + 0.001*cost + 0.001*ticket + 0.001*s + 0.001*host + 0.001*module + 0.001*true + 0.001*get + 0.001*system + 0.001*organization + 0.001*flight + 0.001*go + 0.001*time + 0.001*look'),\n",
       " (16,\n",
       "  '0.002*line + 0.001*get + 0.001*see + 0.001*organization + 0.001*window + 0.001*people + 0.001*write + 0.001*eternal + 0.001*say + 0.001*use + 0.001*m + 0.001*seem + 0.001*talk + 0.001*article + 0.001*run + 0.001*way + 0.001*receive + 0.001*gun + 0.001*display + 0.001*application'),\n",
       " (17,\n",
       "  '0.002*car + 0.001*line + 0.001*revolver + 0.001*well + 0.001*go + 0.001*get + 0.001*km + 0.001*year + 0.001*know + 0.001*die + 0.001*make + 0.001*new + 0.001*way + 0.001*need + 0.001*replace + 0.001*also + 0.001*m + 0.001*first + 0.001*organization + 0.001*speed'),\n",
       " (18,\n",
       "  '0.002*line + 0.001*write + 0.001*organization + 0.001*article + 0.001*host + 0.001*get + 0.001*int + 0.001*reply + 0.001*op_rows_op_col + 0.001*nntp_poste + 0.001*house + 0.001*use + 0.001*op_rows_col + 0.001*input_image_row + 0.001*work + 0.001*technology + 0.001*catalog + 0.001*laplace + 0.001*want + 0.001*make'),\n",
       " (19,\n",
       "  '0.001*article + 0.001*write + 0.001*line + 0.001*know + 0.001*mean + 0.001*make + 0.001*purpose + 0.001*say + 0.001*end + 0.001*reality + 0.001*exist + 0.001*believe + 0.001*people + 0.001*organization + 0.001*think + 0.001*sele_pntr + 0.001*want + 0.001*sence + 0.001*little + 0.001*problem')]"
      ]
     },
     "execution_count": 65,
     "metadata": {},
     "output_type": "execute_result"
    }
   ],
   "source": [
    "hdp_model =  gensim.models.hdpmodel.HdpModel(corpus=corpus, id2word=id2word)\n",
    "hdp_model.show_topics()"
   ]
  },
  {
   "cell_type": "code",
   "execution_count": 32,
   "id": "c931abfe",
   "metadata": {},
   "outputs": [
    {
     "name": "stdout",
     "output_type": "stream",
     "text": [
      "\n",
      "Coherence Score:  0.5107970671911714\n"
     ]
    }
   ],
   "source": [
    "# Compute Coherence Score\n",
    "coherence_model_hdpmodel = CoherenceModel(model=hdpmodel, texts=data_lemmatized, dictionary=id2word, coherence='c_v')\n",
    "coherence_hdpmodel = coherence_model_hdpmodel.get_coherence()\n",
    "print('\\nCoherence Score: ', coherence_hdpmodel)"
   ]
  },
  {
   "cell_type": "code",
   "execution_count": 72,
   "id": "e5732810",
   "metadata": {},
   "outputs": [
    {
     "ename": "AttributeError",
     "evalue": "'HdpModel' object has no attribute 'per_word_topics'",
     "output_type": "error",
     "traceback": [
      "\u001b[1;31m---------------------------------------------------------------------------\u001b[0m",
      "\u001b[1;31mAttributeError\u001b[0m                            Traceback (most recent call last)",
      "Input \u001b[1;32mIn [72]\u001b[0m, in \u001b[0;36m<cell line: 26>\u001b[1;34m()\u001b[0m\n\u001b[0;32m     22\u001b[0m     sent_topics_df \u001b[38;5;241m=\u001b[39m pd\u001b[38;5;241m.\u001b[39mconcat([sent_topics_df, contents], axis\u001b[38;5;241m=\u001b[39m\u001b[38;5;241m1\u001b[39m)\n\u001b[0;32m     23\u001b[0m     \u001b[38;5;28;01mreturn\u001b[39;00m(sent_topics_df)\n\u001b[1;32m---> 26\u001b[0m df_topic_sents_keywords \u001b[38;5;241m=\u001b[39m \u001b[43mformat_topics_sentences3\u001b[49m\u001b[43m(\u001b[49m\u001b[43mhdpmodel\u001b[49m\u001b[38;5;241;43m=\u001b[39;49m\u001b[43mhdp_model\u001b[49m\u001b[43m,\u001b[49m\u001b[43m \u001b[49m\u001b[43mcorpus\u001b[49m\u001b[38;5;241;43m=\u001b[39;49m\u001b[43mcorpus\u001b[49m\u001b[43m,\u001b[49m\u001b[43m \u001b[49m\u001b[43mtexts\u001b[49m\u001b[38;5;241;43m=\u001b[39;49m\u001b[43mdata_lemmatized\u001b[49m\u001b[43m)\u001b[49m\n\u001b[0;32m     28\u001b[0m \u001b[38;5;66;03m# Format\u001b[39;00m\n\u001b[0;32m     29\u001b[0m df_dominant_topic4 \u001b[38;5;241m=\u001b[39m df_topic_sents_keywords\u001b[38;5;241m.\u001b[39mreset_index()\n",
      "Input \u001b[1;32mIn [72]\u001b[0m, in \u001b[0;36mformat_topics_sentences3\u001b[1;34m(hdpmodel, corpus, texts)\u001b[0m\n\u001b[0;32m      5\u001b[0m \u001b[38;5;66;03m# Get main topic in each document\u001b[39;00m\n\u001b[0;32m      6\u001b[0m \u001b[38;5;28;01mfor\u001b[39;00m i, row_list \u001b[38;5;129;01min\u001b[39;00m \u001b[38;5;28menumerate\u001b[39m(hdpmodel[corpus]):\n\u001b[1;32m----> 7\u001b[0m     row \u001b[38;5;241m=\u001b[39m row_list[\u001b[38;5;241m0\u001b[39m] \u001b[38;5;28;01mif\u001b[39;00m \u001b[43mhdpmodel\u001b[49m\u001b[38;5;241;43m.\u001b[39;49m\u001b[43mper_word_topics\u001b[49m \u001b[38;5;28;01melse\u001b[39;00m row_list            \n\u001b[0;32m      8\u001b[0m     \u001b[38;5;66;03m# print(row)\u001b[39;00m\n\u001b[0;32m      9\u001b[0m     row \u001b[38;5;241m=\u001b[39m \u001b[38;5;28msorted\u001b[39m(row, key\u001b[38;5;241m=\u001b[39m\u001b[38;5;28;01mlambda\u001b[39;00m x: (x[\u001b[38;5;241m1\u001b[39m]), reverse\u001b[38;5;241m=\u001b[39m\u001b[38;5;28;01mTrue\u001b[39;00m)\n",
      "\u001b[1;31mAttributeError\u001b[0m: 'HdpModel' object has no attribute 'per_word_topics'"
     ]
    }
   ],
   "source": [
    "def format_topics_sentences3(hdpmodel=None, corpus=corpus, texts=data):\n",
    "    # Init output\n",
    "    sent_topics_df = pd.DataFrame()\n",
    "\n",
    "    # Get main topic in each document\n",
    "    for i, row_list in enumerate(hdpmodel[corpus]):\n",
    "        row = row_list[0] if hdpmodel.per_word_topics else row_list            \n",
    "        # print(row)\n",
    "        row = sorted(row, key=lambda x: (x[1]), reverse=True)\n",
    "        # Get the Dominant topic, Perc Contribution and Keywords for each document\n",
    "        for j, (topic_num, prop_topic) in enumerate(row):\n",
    "            if j == 0:  # => dominant topic\n",
    "                wp = hdpmodel.show_topic(topic_num)\n",
    "                topic_keywords = \", \".join([word for word, prop in wp])\n",
    "                sent_topics_df = sent_topics_df.append(pd.Series([int(topic_num), round(prop_topic,4), topic_keywords]), ignore_index=True)\n",
    "            else:\n",
    "                break\n",
    "    sent_topics_df.columns = ['Dominant_Topic', 'Perc_Contribution', 'Topic_Keywords']\n",
    "\n",
    "    # Add original text to the end of the output\n",
    "    contents = pd.Series(texts)\n",
    "    sent_topics_df = pd.concat([sent_topics_df, contents], axis=1)\n",
    "    return(sent_topics_df)\n",
    "\n",
    "\n",
    "df_topic_sents_keywords = format_topics_sentences3(hdpmodel=hdp_model, corpus=corpus, texts=data_lemmatized)\n",
    "\n",
    "# Format\n",
    "df_dominant_topic4 = df_topic_sents_keywords.reset_index()\n",
    "df_dominant_topic4.columns = ['Document_No', 'Dominant_Topic', 'Topic_Perc_Contrib', 'Keywords', 'Text']\n",
    "df_dominant_topic4.head(10)"
   ]
  },
  {
   "cell_type": "code",
   "execution_count": null,
   "id": "5f33f0db",
   "metadata": {},
   "outputs": [],
   "source": []
  }
 ],
 "metadata": {
  "kernelspec": {
   "display_name": "Python 3 (ipykernel)",
   "language": "python",
   "name": "python3"
  },
  "language_info": {
   "codemirror_mode": {
    "name": "ipython",
    "version": 3
   },
   "file_extension": ".py",
   "mimetype": "text/x-python",
   "name": "python",
   "nbconvert_exporter": "python",
   "pygments_lexer": "ipython3",
   "version": "3.9.12"
  }
 },
 "nbformat": 4,
 "nbformat_minor": 5
}
