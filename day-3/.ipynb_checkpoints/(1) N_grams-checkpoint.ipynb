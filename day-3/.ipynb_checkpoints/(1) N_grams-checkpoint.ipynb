{
 "cells": [
  {
   "cell_type": "markdown",
   "id": "2031a0b1",
   "metadata": {},
   "source": [
    "### N-gram using NLTK"
   ]
  },
  {
   "cell_type": "code",
   "execution_count": 1,
   "id": "bd3b02ab",
   "metadata": {},
   "outputs": [
    {
     "ename": "TypeError",
     "evalue": "'module' object is not callable",
     "output_type": "error",
     "traceback": [
      "\u001b[1;31m---------------------------------------------------------------------------\u001b[0m",
      "\u001b[1;31mTypeError\u001b[0m                                 Traceback (most recent call last)",
      "Input \u001b[1;32mIn [1]\u001b[0m, in \u001b[0;36m<cell line: 11>\u001b[1;34m()\u001b[0m\n\u001b[0;32m      7\u001b[0m     \u001b[38;5;28;01mreturn\u001b[39;00m [ \u001b[38;5;124m'\u001b[39m\u001b[38;5;124m \u001b[39m\u001b[38;5;124m'\u001b[39m\u001b[38;5;241m.\u001b[39mjoin(grams) \u001b[38;5;28;01mfor\u001b[39;00m grams \u001b[38;5;129;01min\u001b[39;00m n_grams]\n\u001b[0;32m      9\u001b[0m data \u001b[38;5;241m=\u001b[39m \u001b[38;5;124m'\u001b[39m\u001b[38;5;124mA class is a blueprint for the object.\u001b[39m\u001b[38;5;124m'\u001b[39m\n\u001b[1;32m---> 11\u001b[0m \u001b[38;5;28mprint\u001b[39m(\u001b[38;5;124m\"\u001b[39m\u001b[38;5;124m1-gram: \u001b[39m\u001b[38;5;124m\"\u001b[39m, \u001b[43mextract_ngrams\u001b[49m\u001b[43m(\u001b[49m\u001b[43mdata\u001b[49m\u001b[43m,\u001b[49m\u001b[43m \u001b[49m\u001b[38;5;241;43m1\u001b[39;49m\u001b[43m)\u001b[49m)\n\u001b[0;32m     12\u001b[0m \u001b[38;5;28mprint\u001b[39m(\u001b[38;5;124m\"\u001b[39m\u001b[38;5;124m2-gram: \u001b[39m\u001b[38;5;124m\"\u001b[39m, extract_ngrams(data, \u001b[38;5;241m2\u001b[39m))\n\u001b[0;32m     13\u001b[0m \u001b[38;5;28mprint\u001b[39m(\u001b[38;5;124m\"\u001b[39m\u001b[38;5;124m3-gram: \u001b[39m\u001b[38;5;124m\"\u001b[39m, extract_ngrams(data, \u001b[38;5;241m3\u001b[39m))\n",
      "Input \u001b[1;32mIn [1]\u001b[0m, in \u001b[0;36mextract_ngrams\u001b[1;34m(data, num)\u001b[0m\n\u001b[0;32m      5\u001b[0m \u001b[38;5;28;01mdef\u001b[39;00m \u001b[38;5;21mextract_ngrams\u001b[39m(data, num):\n\u001b[1;32m----> 6\u001b[0m     n_grams \u001b[38;5;241m=\u001b[39m ngrams(\u001b[43mnltk\u001b[49m\u001b[38;5;241;43m.\u001b[39;49m\u001b[43mtokenize\u001b[49m\u001b[43m(\u001b[49m\u001b[43mdata\u001b[49m\u001b[43m)\u001b[49m, num)\n\u001b[0;32m      7\u001b[0m     \u001b[38;5;28;01mreturn\u001b[39;00m [ \u001b[38;5;124m'\u001b[39m\u001b[38;5;124m \u001b[39m\u001b[38;5;124m'\u001b[39m\u001b[38;5;241m.\u001b[39mjoin(grams) \u001b[38;5;28;01mfor\u001b[39;00m grams \u001b[38;5;129;01min\u001b[39;00m n_grams]\n",
      "\u001b[1;31mTypeError\u001b[0m: 'module' object is not callable"
     ]
    }
   ],
   "source": [
    "import nltk\n",
    "from nltk.util import ngrams\n",
    " \n",
    "# Function to generate n-grams from sentences.\n",
    "def extract_ngrams(data, num):\n",
    "    n_grams = ngrams(nltk.tokenize(data), num)\n",
    "    return [ ' '.join(grams) for grams in n_grams]\n",
    " \n",
    "data = 'A class is a blueprint for the object.'\n",
    " \n",
    "print(\"1-gram: \", extract_ngrams(data, 1))\n",
    "print(\"2-gram: \", extract_ngrams(data, 2))\n",
    "print(\"3-gram: \", extract_ngrams(data, 3))\n",
    "print(\"4-gram: \", extract_ngrams(data, 4))"
   ]
  },
  {
   "cell_type": "markdown",
   "id": "c20b667b",
   "metadata": {},
   "source": [
    "### N-gram using TextBlob"
   ]
  },
  {
   "cell_type": "code",
   "execution_count": null,
   "id": "b830c143",
   "metadata": {},
   "outputs": [],
   "source": [
    "from textblob import TextBlob\n",
    " \n",
    "# Function to generate n-grams from sentences.\n",
    "def extract_ngrams(data, num):\n",
    "    n_grams = ---------------------(data).---------------------(num)\n",
    "    return [ ' '.join(grams) for grams in n_grams]\n",
    " \n",
    "data = 'A class is a blueprint for the object.'\n",
    " \n",
    "print(\"1-gram: \", extract_ngrams(data, 1))\n",
    "print(\"2-gram: \", extract_ngrams(data, 2))\n",
    "print(\"3-gram: \", extract_ngrams(data, 3))\n",
    "print(\"4-gram: \", extract_ngrams(data, 4))"
   ]
  },
  {
   "cell_type": "markdown",
   "id": "848bdf9b",
   "metadata": {},
   "source": [
    "### CountVectorizer"
   ]
  },
  {
   "cell_type": "code",
   "execution_count": null,
   "id": "ce7ed1fa",
   "metadata": {},
   "outputs": [],
   "source": [
    "import pandas as pd\n",
    "from sklearn.feature_extraction.text import CountVectorizer"
   ]
  },
  {
   "cell_type": "code",
   "execution_count": null,
   "id": "d1e975eb",
   "metadata": {},
   "outputs": [],
   "source": [
    "df = pd.read_csv('--------------------')\n",
    "df"
   ]
  },
  {
   "cell_type": "markdown",
   "id": "bbf986f9",
   "metadata": {},
   "source": [
    "### Raw Information"
   ]
  },
  {
   "cell_type": "code",
   "execution_count": null,
   "id": "dce9fdab",
   "metadata": {},
   "outputs": [],
   "source": [
    "text = df['product_description']\n",
    "model = --------------------(ngram_range = (1, 1))\n",
    "matrix = model.--------------------(text).toarray()\n",
    "df_output = pd.DataFrame(data = matrix, columns = model.get_feature_names())\n",
    "df_output.T.tail(5)"
   ]
  },
  {
   "cell_type": "code",
   "execution_count": null,
   "id": "a02b378d",
   "metadata": {},
   "outputs": [],
   "source": [
    "df_output"
   ]
  },
  {
   "cell_type": "markdown",
   "id": "dcf6b892",
   "metadata": {},
   "source": [
    "### Remove stop words"
   ]
  },
  {
   "cell_type": "code",
   "execution_count": null,
   "id": "a43a978b",
   "metadata": {},
   "outputs": [],
   "source": [
    "text = df['product_description']\n",
    "model = --------------------(ngram_range = (1, 1), stop_words='english')\n",
    "matrix = model.--------------------(text).toarray()\n",
    "df_output = pd.DataFrame(data = matrix, columns = model.get_feature_names())\n",
    "df_output.T.tail(5)"
   ]
  },
  {
   "cell_type": "markdown",
   "id": "797ea41d",
   "metadata": {},
   "source": [
    "### Bi-gram"
   ]
  },
  {
   "cell_type": "code",
   "execution_count": null,
   "id": "f022d35d",
   "metadata": {},
   "outputs": [],
   "source": [
    "text = df['product_description']\n",
    "model = --------------------(ngram_range = --------------------, stop_words='english')\n",
    "matrix = model.--------------------(text).toarray()\n",
    "df_output = pd.DataFrame(data = matrix, columns = model.get_feature_names())\n",
    "df_output.T.tail(5)"
   ]
  }
 ],
 "metadata": {
  "kernelspec": {
   "display_name": "Python 3 (ipykernel)",
   "language": "python",
   "name": "python3"
  },
  "language_info": {
   "codemirror_mode": {
    "name": "ipython",
    "version": 3
   },
   "file_extension": ".py",
   "mimetype": "text/x-python",
   "name": "python",
   "nbconvert_exporter": "python",
   "pygments_lexer": "ipython3",
   "version": "3.9.12"
  }
 },
 "nbformat": 4,
 "nbformat_minor": 5
}
