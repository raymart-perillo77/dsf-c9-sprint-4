{
 "cells": [
  {
   "cell_type": "code",
   "execution_count": 1,
   "id": "109a78df",
   "metadata": {},
   "outputs": [],
   "source": [
    "import requests\n",
    "import spacy\n",
    "\n",
    "r = requests.get('http://www.gutenberg.org/files/11/11-0.txt')\n",
    "r.encoding = 'utf-8'"
   ]
  },
  {
   "cell_type": "code",
   "execution_count": 2,
   "id": "644db475",
   "metadata": {},
   "outputs": [],
   "source": [
    "if r.status_code == 200:\n",
    "    data = r.text"
   ]
  },
  {
   "cell_type": "code",
   "execution_count": 3,
   "id": "aea16b26",
   "metadata": {},
   "outputs": [],
   "source": [
    "nlp = spacy.load(\"en_core_web_lg\")"
   ]
  },
  {
   "cell_type": "code",
   "execution_count": 4,
   "id": "6111df4b",
   "metadata": {},
   "outputs": [],
   "source": [
    "doc = nlp(data.split(\"*** END\")[0])\n",
    "words = [w.text for w in doc]"
   ]
  },
  {
   "cell_type": "markdown",
   "id": "03448e67",
   "metadata": {},
   "source": [
    "### Data Cleaning"
   ]
  },
  {
   "cell_type": "code",
   "execution_count": 5,
   "id": "68ae825f",
   "metadata": {},
   "outputs": [],
   "source": [
    "words_clean = ' '.join(words)\n",
    "words_clean = words_clean.replace('\\r\\n','')\n",
    "\n",
    "doc2 = nlp(words_clean)"
   ]
  },
  {
   "cell_type": "markdown",
   "id": "d16bf5dd",
   "metadata": {},
   "source": [
    "#### (1) Find the top 10 mentioned characters in the text"
   ]
  },
  {
   "cell_type": "code",
   "execution_count": 16,
   "id": "75be0d12",
   "metadata": {},
   "outputs": [],
   "source": []
  },
  {
   "cell_type": "code",
   "execution_count": 17,
   "id": "efd36785",
   "metadata": {},
   "outputs": [
    {
     "data": {
      "text/plain": [
       "[('Alice', 397),\n",
       " ('Hatter', 55),\n",
       " ('Dormouse', 39),\n",
       " ('Mouse', 23),\n",
       " ('Queen', 15),\n",
       " ('Bill', 6),\n",
       " ('Mabel', 4),\n",
       " ('William', 4),\n",
       " ('Mary Ann', 4),\n",
       " ('Beau', 4),\n",
       " ('Lewis Carroll', 3),\n",
       " ('Eaglet', 3)]"
      ]
     },
     "execution_count": 17,
     "metadata": {},
     "output_type": "execute_result"
    }
   ],
   "source": []
  },
  {
   "cell_type": "markdown",
   "id": "f9e5bc26",
   "metadata": {},
   "source": [
    "#### (2) Find the top 20 most important words"
   ]
  },
  {
   "cell_type": "code",
   "execution_count": 18,
   "id": "c9cc6ac2",
   "metadata": {},
   "outputs": [
    {
     "name": "stderr",
     "output_type": "stream",
     "text": [
      "C:\\Users\\rheyannmagcalas\\anaconda3\\lib\\site-packages\\sklearn\\utils\\deprecation.py:87: FutureWarning: Function get_feature_names is deprecated; get_feature_names is deprecated in 1.0 and will be removed in 1.2. Please use get_feature_names_out instead.\n",
      "  warnings.warn(msg, category=FutureWarning)\n"
     ]
    }
   ],
   "source": []
  },
  {
   "cell_type": "code",
   "execution_count": 19,
   "id": "a5899b38",
   "metadata": {},
   "outputs": [
    {
     "data": {
      "text/plain": [
       "array(['said', 'alice', 'little', 'know', 'like', 'went', 'did', 'queen',\n",
       "       'thought', 'time', 'king', 'turtle', 'began', 'mock', 'll',\n",
       "       'hatter', 'way', 'gryphon', 'quite', 'think', 'rabbit', 'just',\n",
       "       'say', 'head', 'thing', 'voice', 'come', 'got', 'oh', 'looked'],\n",
       "      dtype='<U14')"
      ]
     },
     "execution_count": 19,
     "metadata": {},
     "output_type": "execute_result"
    }
   ],
   "source": [
    "top_n"
   ]
  }
 ],
 "metadata": {
  "kernelspec": {
   "display_name": "Python 3 (ipykernel)",
   "language": "python",
   "name": "python3"
  },
  "language_info": {
   "codemirror_mode": {
    "name": "ipython",
    "version": 3
   },
   "file_extension": ".py",
   "mimetype": "text/x-python",
   "name": "python",
   "nbconvert_exporter": "python",
   "pygments_lexer": "ipython3",
   "version": "3.9.12"
  }
 },
 "nbformat": 4,
 "nbformat_minor": 5
}
