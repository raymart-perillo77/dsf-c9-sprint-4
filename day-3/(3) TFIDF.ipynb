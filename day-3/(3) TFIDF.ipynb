{
 "cells": [
  {
   "cell_type": "code",
   "execution_count": 1,
   "id": "54077506",
   "metadata": {},
   "outputs": [],
   "source": [
    "import math"
   ]
  },
  {
   "cell_type": "code",
   "execution_count": 2,
   "id": "e8236f60",
   "metadata": {},
   "outputs": [],
   "source": [
    "doc_a = \"The cat sat on my face\"\n",
    "doc_b = \"The dog sat on my bed\" "
   ]
  },
  {
   "cell_type": "code",
   "execution_count": 3,
   "id": "26f7019c",
   "metadata": {},
   "outputs": [],
   "source": [
    "bow_a = doc_a.split(\" \")\n",
    "bow_b = doc_b.split(\" \")"
   ]
  },
  {
   "cell_type": "code",
   "execution_count": 4,
   "id": "2c4ddfe7",
   "metadata": {},
   "outputs": [
    {
     "data": {
      "text/plain": [
       "['The', 'dog', 'sat', 'on', 'my', 'bed']"
      ]
     },
     "execution_count": 4,
     "metadata": {},
     "output_type": "execute_result"
    }
   ],
   "source": [
    "bow_b"
   ]
  },
  {
   "cell_type": "markdown",
   "id": "247167d8",
   "metadata": {},
   "source": [
    "### Merge two sentences"
   ]
  },
  {
   "cell_type": "code",
   "execution_count": 5,
   "id": "ce3bcb7b",
   "metadata": {},
   "outputs": [],
   "source": [
    "word_set = set(bow_a).union(set(bow_b))"
   ]
  },
  {
   "cell_type": "code",
   "execution_count": 6,
   "id": "f2f75419",
   "metadata": {},
   "outputs": [
    {
     "data": {
      "text/plain": [
       "{'The', 'bed', 'cat', 'dog', 'face', 'my', 'on', 'sat'}"
      ]
     },
     "execution_count": 6,
     "metadata": {},
     "output_type": "execute_result"
    }
   ],
   "source": [
    "word_set"
   ]
  },
  {
   "cell_type": "markdown",
   "id": "bd3ffba7",
   "metadata": {},
   "source": [
    "### Convert to dictionary and set initial values to 0"
   ]
  },
  {
   "cell_type": "code",
   "execution_count": 7,
   "id": "6470169a",
   "metadata": {},
   "outputs": [],
   "source": [
    "word_dict_a = dict.fromkeys(word_set, 0) \n",
    "word_dict_b = dict.fromkeys(word_set, 0) "
   ]
  },
  {
   "cell_type": "code",
   "execution_count": 8,
   "id": "7123deb5",
   "metadata": {},
   "outputs": [
    {
     "data": {
      "text/plain": [
       "{'sat': 0, 'bed': 0, 'The': 0, 'on': 0, 'face': 0, 'cat': 0, 'dog': 0, 'my': 0}"
      ]
     },
     "execution_count": 8,
     "metadata": {},
     "output_type": "execute_result"
    }
   ],
   "source": [
    "word_dict_a"
   ]
  },
  {
   "cell_type": "markdown",
   "id": "1d9a4e50",
   "metadata": {},
   "source": [
    "### Get count of words per each sentence"
   ]
  },
  {
   "cell_type": "code",
   "execution_count": 9,
   "id": "78fb671d",
   "metadata": {},
   "outputs": [],
   "source": [
    "for word in bow_a:\n",
    "    word_dict_a[word]+=1\n",
    "    \n",
    "for word in bow_b:\n",
    "    word_dict_b[word]+=1"
   ]
  },
  {
   "cell_type": "code",
   "execution_count": 10,
   "id": "5e1780dd",
   "metadata": {},
   "outputs": [
    {
     "data": {
      "text/plain": [
       "{'sat': 1, 'bed': 1, 'The': 1, 'on': 1, 'face': 0, 'cat': 0, 'dog': 1, 'my': 1}"
      ]
     },
     "execution_count": 10,
     "metadata": {},
     "output_type": "execute_result"
    }
   ],
   "source": [
    "word_dict_b"
   ]
  },
  {
   "cell_type": "markdown",
   "id": "c1213ec1",
   "metadata": {},
   "source": [
    "### Converting to Dataframe"
   ]
  },
  {
   "cell_type": "code",
   "execution_count": 11,
   "id": "c93d600c",
   "metadata": {},
   "outputs": [
    {
     "data": {
      "text/html": [
       "<div>\n",
       "<style scoped>\n",
       "    .dataframe tbody tr th:only-of-type {\n",
       "        vertical-align: middle;\n",
       "    }\n",
       "\n",
       "    .dataframe tbody tr th {\n",
       "        vertical-align: top;\n",
       "    }\n",
       "\n",
       "    .dataframe thead th {\n",
       "        text-align: right;\n",
       "    }\n",
       "</style>\n",
       "<table border=\"1\" class=\"dataframe\">\n",
       "  <thead>\n",
       "    <tr style=\"text-align: right;\">\n",
       "      <th></th>\n",
       "      <th>sat</th>\n",
       "      <th>bed</th>\n",
       "      <th>The</th>\n",
       "      <th>on</th>\n",
       "      <th>face</th>\n",
       "      <th>cat</th>\n",
       "      <th>dog</th>\n",
       "      <th>my</th>\n",
       "    </tr>\n",
       "  </thead>\n",
       "  <tbody>\n",
       "    <tr>\n",
       "      <th>0</th>\n",
       "      <td>1</td>\n",
       "      <td>0</td>\n",
       "      <td>1</td>\n",
       "      <td>1</td>\n",
       "      <td>1</td>\n",
       "      <td>1</td>\n",
       "      <td>0</td>\n",
       "      <td>1</td>\n",
       "    </tr>\n",
       "    <tr>\n",
       "      <th>1</th>\n",
       "      <td>1</td>\n",
       "      <td>1</td>\n",
       "      <td>1</td>\n",
       "      <td>1</td>\n",
       "      <td>0</td>\n",
       "      <td>0</td>\n",
       "      <td>1</td>\n",
       "      <td>1</td>\n",
       "    </tr>\n",
       "  </tbody>\n",
       "</table>\n",
       "</div>"
      ],
      "text/plain": [
       "   sat  bed  The  on  face  cat  dog  my\n",
       "0    1    0    1   1     1    1    0   1\n",
       "1    1    1    1   1     0    0    1   1"
      ]
     },
     "execution_count": 11,
     "metadata": {},
     "output_type": "execute_result"
    }
   ],
   "source": [
    "import pandas as pd\n",
    "pd.DataFrame([word_dict_a, word_dict_b])"
   ]
  },
  {
   "cell_type": "markdown",
   "id": "debb4528",
   "metadata": {},
   "source": [
    "### Compute Term Frequency\n",
    "\n",
    "![alt text](tf.png \"TF Formula\")"
   ]
  },
  {
   "cell_type": "code",
   "execution_count": 12,
   "id": "89d320af",
   "metadata": {},
   "outputs": [],
   "source": [
    "def computeTF(word_dict, bow):\n",
    "    tf_dict = {}\n",
    "    bow_count = len(bow)\n",
    "    for word, count in word_dict.items():\n",
    "        tf_dict[word] = count/float(bow_count)\n",
    "    \n",
    "    return tf_dict"
   ]
  },
  {
   "cell_type": "code",
   "execution_count": 13,
   "id": "3d294987",
   "metadata": {},
   "outputs": [
    {
     "data": {
      "text/plain": [
       "{'sat': 0.16666666666666666,\n",
       " 'bed': 0.0,\n",
       " 'The': 0.16666666666666666,\n",
       " 'on': 0.16666666666666666,\n",
       " 'face': 0.16666666666666666,\n",
       " 'cat': 0.16666666666666666,\n",
       " 'dog': 0.0,\n",
       " 'my': 0.16666666666666666}"
      ]
     },
     "execution_count": 13,
     "metadata": {},
     "output_type": "execute_result"
    }
   ],
   "source": [
    "tf_bow_a = computeTF(word_dict_a, bow_a)\n",
    "tf_bow_a"
   ]
  },
  {
   "cell_type": "code",
   "execution_count": 14,
   "id": "5aa9fac8",
   "metadata": {},
   "outputs": [
    {
     "data": {
      "text/plain": [
       "{'sat': 0.16666666666666666,\n",
       " 'bed': 0.16666666666666666,\n",
       " 'The': 0.16666666666666666,\n",
       " 'on': 0.16666666666666666,\n",
       " 'face': 0.0,\n",
       " 'cat': 0.0,\n",
       " 'dog': 0.16666666666666666,\n",
       " 'my': 0.16666666666666666}"
      ]
     },
     "execution_count": 14,
     "metadata": {},
     "output_type": "execute_result"
    }
   ],
   "source": [
    "tf_bow_b = computeTF(word_dict_b, bow_b)\n",
    "tf_bow_b"
   ]
  },
  {
   "cell_type": "markdown",
   "id": "ae2b47c2",
   "metadata": {},
   "source": [
    "### Compute IDF\n",
    "\n",
    "![alt text](idf.png \"IDF Formula\")"
   ]
  },
  {
   "cell_type": "code",
   "execution_count": 15,
   "id": "0e9e1890",
   "metadata": {},
   "outputs": [],
   "source": [
    "def computeIDF(doc_list):\n",
    "    idf_dict = {}\n",
    "    \n",
    "    N = len(doc_list)\n",
    "    \n",
    "    idf_dict = dict.fromkeys(doc_list[0].keys(), 0)\n",
    "    for doc in doc_list:\n",
    "        for word, val in doc.items():\n",
    "            if val > 0:\n",
    "                idf_dict[word] += 1\n",
    "            \n",
    "    \n",
    "    for word, val in idf_dict.items():\n",
    "        idf_dict[word] = math.log10(N / float(val))\n",
    "        \n",
    "    return idf_dict   "
   ]
  },
  {
   "cell_type": "code",
   "execution_count": 16,
   "id": "84ee31bb",
   "metadata": {},
   "outputs": [],
   "source": [
    "idfs = computeIDF([word_dict_a,word_dict_b])"
   ]
  },
  {
   "cell_type": "code",
   "execution_count": 17,
   "id": "3620e14e",
   "metadata": {
    "scrolled": true
   },
   "outputs": [
    {
     "data": {
      "text/plain": [
       "{'sat': 0.0,\n",
       " 'bed': 0.3010299956639812,\n",
       " 'The': 0.0,\n",
       " 'on': 0.0,\n",
       " 'face': 0.3010299956639812,\n",
       " 'cat': 0.3010299956639812,\n",
       " 'dog': 0.3010299956639812,\n",
       " 'my': 0.0}"
      ]
     },
     "execution_count": 17,
     "metadata": {},
     "output_type": "execute_result"
    }
   ],
   "source": [
    "idfs"
   ]
  },
  {
   "cell_type": "code",
   "execution_count": 24,
   "id": "9c1700e0",
   "metadata": {},
   "outputs": [
    {
     "data": {
      "text/plain": [
       "0.3010299956639812"
      ]
     },
     "execution_count": 24,
     "metadata": {},
     "output_type": "execute_result"
    }
   ],
   "source": [
    "math.log10(2/1) # 2 - ilang documents # 1 ilang beses nag occur"
   ]
  },
  {
   "cell_type": "markdown",
   "id": "aa272c73",
   "metadata": {},
   "source": [
    "### Compute TFIDF\n",
    "\n",
    "![alt text](tfidf.png \"TFIDF Formula\")"
   ]
  },
  {
   "cell_type": "code",
   "execution_count": 18,
   "id": "24a96598",
   "metadata": {},
   "outputs": [],
   "source": [
    "def computeTFIDF(tf_bow, idfs):\n",
    "    tfidf = {}\n",
    "    for word, val in tf_bow.items():\n",
    "        tfidf[word] = val*idfs[word]\n",
    "        \n",
    "    return tfidf"
   ]
  },
  {
   "cell_type": "code",
   "execution_count": 26,
   "id": "26ec32e9",
   "metadata": {},
   "outputs": [],
   "source": [
    "tfidf_bow_a = computeTFIDF(tf_bow_a,idfs)\n",
    "tfidf_bow_b = computeTFIDF(tf_bow_b,idfs)"
   ]
  },
  {
   "cell_type": "code",
   "execution_count": 27,
   "id": "f48b56c2",
   "metadata": {},
   "outputs": [
    {
     "data": {
      "text/html": [
       "<div>\n",
       "<style scoped>\n",
       "    .dataframe tbody tr th:only-of-type {\n",
       "        vertical-align: middle;\n",
       "    }\n",
       "\n",
       "    .dataframe tbody tr th {\n",
       "        vertical-align: top;\n",
       "    }\n",
       "\n",
       "    .dataframe thead th {\n",
       "        text-align: right;\n",
       "    }\n",
       "</style>\n",
       "<table border=\"1\" class=\"dataframe\">\n",
       "  <thead>\n",
       "    <tr style=\"text-align: right;\">\n",
       "      <th></th>\n",
       "      <th>sat</th>\n",
       "      <th>bed</th>\n",
       "      <th>The</th>\n",
       "      <th>on</th>\n",
       "      <th>face</th>\n",
       "      <th>cat</th>\n",
       "      <th>dog</th>\n",
       "      <th>my</th>\n",
       "    </tr>\n",
       "  </thead>\n",
       "  <tbody>\n",
       "    <tr>\n",
       "      <th>0</th>\n",
       "      <td>0.0</td>\n",
       "      <td>0.000000</td>\n",
       "      <td>0.0</td>\n",
       "      <td>0.0</td>\n",
       "      <td>0.050172</td>\n",
       "      <td>0.050172</td>\n",
       "      <td>0.000000</td>\n",
       "      <td>0.0</td>\n",
       "    </tr>\n",
       "    <tr>\n",
       "      <th>1</th>\n",
       "      <td>0.0</td>\n",
       "      <td>0.050172</td>\n",
       "      <td>0.0</td>\n",
       "      <td>0.0</td>\n",
       "      <td>0.000000</td>\n",
       "      <td>0.000000</td>\n",
       "      <td>0.050172</td>\n",
       "      <td>0.0</td>\n",
       "    </tr>\n",
       "  </tbody>\n",
       "</table>\n",
       "</div>"
      ],
      "text/plain": [
       "   sat       bed  The   on      face       cat       dog   my\n",
       "0  0.0  0.000000  0.0  0.0  0.050172  0.050172  0.000000  0.0\n",
       "1  0.0  0.050172  0.0  0.0  0.000000  0.000000  0.050172  0.0"
      ]
     },
     "execution_count": 27,
     "metadata": {},
     "output_type": "execute_result"
    }
   ],
   "source": [
    "import pandas as pd\n",
    "pd.DataFrame([tfidf_bow_a, tfidf_bow_b])"
   ]
  },
  {
   "cell_type": "code",
   "execution_count": 28,
   "id": "f687b71d",
   "metadata": {},
   "outputs": [
    {
     "data": {
      "text/plain": [
       "0.05017166594409721"
      ]
     },
     "execution_count": 28,
     "metadata": {},
     "output_type": "execute_result"
    }
   ],
   "source": [
    "math.log10(2/1)*0.166666666667"
   ]
  },
  {
   "cell_type": "code",
   "execution_count": null,
   "id": "a428060d",
   "metadata": {},
   "outputs": [],
   "source": []
  }
 ],
 "metadata": {
  "kernelspec": {
   "display_name": "Python 3 (ipykernel)",
   "language": "python",
   "name": "python3"
  },
  "language_info": {
   "codemirror_mode": {
    "name": "ipython",
    "version": 3
   },
   "file_extension": ".py",
   "mimetype": "text/x-python",
   "name": "python",
   "nbconvert_exporter": "python",
   "pygments_lexer": "ipython3",
   "version": "3.9.12"
  }
 },
 "nbformat": 4,
 "nbformat_minor": 5
}
