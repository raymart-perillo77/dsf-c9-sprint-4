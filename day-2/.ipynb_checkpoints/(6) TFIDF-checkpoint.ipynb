{
 "cells": [
  {
   "cell_type": "code",
   "execution_count": 68,
   "id": "54077506",
   "metadata": {},
   "outputs": [],
   "source": [
    "import math"
   ]
  },
  {
   "cell_type": "code",
   "execution_count": 69,
   "id": "e8236f60",
   "metadata": {},
   "outputs": [],
   "source": [
    "doc_a = \"The cat sat on my face\"\n",
    "doc_b = \"The dog sat on my bed\" "
   ]
  },
  {
   "cell_type": "code",
   "execution_count": 70,
   "id": "26f7019c",
   "metadata": {},
   "outputs": [],
   "source": [
    "bow_a = doc_a.split(\" \")\n",
    "bow_b = doc_b.split(\" \")"
   ]
  },
  {
   "cell_type": "code",
   "execution_count": 71,
   "id": "2c4ddfe7",
   "metadata": {},
   "outputs": [
    {
     "data": {
      "text/plain": [
       "['The', 'dog', 'sat', 'on', 'my', 'bed']"
      ]
     },
     "execution_count": 71,
     "metadata": {},
     "output_type": "execute_result"
    }
   ],
   "source": [
    "bow_b"
   ]
  },
  {
   "cell_type": "markdown",
   "id": "247167d8",
   "metadata": {},
   "source": [
    "### Merge two sentences"
   ]
  },
  {
   "cell_type": "code",
   "execution_count": 72,
   "id": "ce3bcb7b",
   "metadata": {},
   "outputs": [],
   "source": [
    "word_set = set(bow_a).--------------------------(set(bow_b))"
   ]
  },
  {
   "cell_type": "code",
   "execution_count": 73,
   "id": "f2f75419",
   "metadata": {},
   "outputs": [
    {
     "data": {
      "text/plain": [
       "{'The', 'bed', 'cat', 'dog', 'face', 'my', 'on', 'sat'}"
      ]
     },
     "execution_count": 73,
     "metadata": {},
     "output_type": "execute_result"
    }
   ],
   "source": [
    "word_set"
   ]
  },
  {
   "cell_type": "markdown",
   "id": "bd3ffba7",
   "metadata": {},
   "source": [
    "### Convert to dictionary and set initial values to 0"
   ]
  },
  {
   "cell_type": "code",
   "execution_count": 76,
   "id": "6470169a",
   "metadata": {},
   "outputs": [],
   "source": [
    "word_dict_a = dict.fromkeys(word_set, 0) \n",
    "word_dict_b = dict.fromkeys(word_set, 0) "
   ]
  },
  {
   "cell_type": "code",
   "execution_count": 77,
   "id": "7123deb5",
   "metadata": {},
   "outputs": [
    {
     "data": {
      "text/plain": [
       "{'sat': 0, 'cat': 0, 'face': 0, 'dog': 0, 'bed': 0, 'on': 0, 'The': 0, 'my': 0}"
      ]
     },
     "execution_count": 77,
     "metadata": {},
     "output_type": "execute_result"
    }
   ],
   "source": [
    "wordDictA"
   ]
  },
  {
   "cell_type": "markdown",
   "id": "1d9a4e50",
   "metadata": {},
   "source": [
    "### Get count of words per each sentence"
   ]
  },
  {
   "cell_type": "code",
   "execution_count": 78,
   "id": "78fb671d",
   "metadata": {},
   "outputs": [],
   "source": [
    "for word in bow_a:\n",
    "    --------------------------[word]+=1\n",
    "    \n",
    "for word in bow_b:\n",
    "    --------------------------[word]+=1"
   ]
  },
  {
   "cell_type": "code",
   "execution_count": 79,
   "id": "5e1780dd",
   "metadata": {},
   "outputs": [
    {
     "data": {
      "text/plain": [
       "{'sat': 1, 'cat': 0, 'face': 0, 'dog': 1, 'bed': 1, 'on': 1, 'The': 1, 'my': 1}"
      ]
     },
     "execution_count": 79,
     "metadata": {},
     "output_type": "execute_result"
    }
   ],
   "source": [
    "word_dict_b"
   ]
  },
  {
   "cell_type": "markdown",
   "id": "c1213ec1",
   "metadata": {},
   "source": [
    "### Converting to Dataframe"
   ]
  },
  {
   "cell_type": "code",
   "execution_count": 80,
   "id": "c93d600c",
   "metadata": {},
   "outputs": [
    {
     "data": {
      "text/html": [
       "<div>\n",
       "<style scoped>\n",
       "    .dataframe tbody tr th:only-of-type {\n",
       "        vertical-align: middle;\n",
       "    }\n",
       "\n",
       "    .dataframe tbody tr th {\n",
       "        vertical-align: top;\n",
       "    }\n",
       "\n",
       "    .dataframe thead th {\n",
       "        text-align: right;\n",
       "    }\n",
       "</style>\n",
       "<table border=\"1\" class=\"dataframe\">\n",
       "  <thead>\n",
       "    <tr style=\"text-align: right;\">\n",
       "      <th></th>\n",
       "      <th>sat</th>\n",
       "      <th>cat</th>\n",
       "      <th>face</th>\n",
       "      <th>dog</th>\n",
       "      <th>bed</th>\n",
       "      <th>on</th>\n",
       "      <th>The</th>\n",
       "      <th>my</th>\n",
       "    </tr>\n",
       "  </thead>\n",
       "  <tbody>\n",
       "    <tr>\n",
       "      <th>0</th>\n",
       "      <td>1</td>\n",
       "      <td>1</td>\n",
       "      <td>1</td>\n",
       "      <td>0</td>\n",
       "      <td>0</td>\n",
       "      <td>1</td>\n",
       "      <td>1</td>\n",
       "      <td>1</td>\n",
       "    </tr>\n",
       "    <tr>\n",
       "      <th>1</th>\n",
       "      <td>1</td>\n",
       "      <td>0</td>\n",
       "      <td>0</td>\n",
       "      <td>1</td>\n",
       "      <td>1</td>\n",
       "      <td>1</td>\n",
       "      <td>1</td>\n",
       "      <td>1</td>\n",
       "    </tr>\n",
       "  </tbody>\n",
       "</table>\n",
       "</div>"
      ],
      "text/plain": [
       "   sat  cat  face  dog  bed  on  The  my\n",
       "0    1    1     1    0    0   1    1   1\n",
       "1    1    0     0    1    1   1    1   1"
      ]
     },
     "execution_count": 80,
     "metadata": {},
     "output_type": "execute_result"
    }
   ],
   "source": [
    "import pandas as pd\n",
    "pd.DataFrame([--------------------------, --------------------------])"
   ]
  },
  {
   "cell_type": "markdown",
   "id": "debb4528",
   "metadata": {},
   "source": [
    "### Compute Term Frequency\n",
    "\n",
    "![alt text](tf.png \"TF Formula\")"
   ]
  },
  {
   "cell_type": "code",
   "execution_count": 81,
   "id": "89d320af",
   "metadata": {},
   "outputs": [],
   "source": [
    "def computeTF(word_dict, bow):\n",
    "    tf_dict = {}\n",
    "    bow_count = len(bow)\n",
    "    for word, count in word_dict.items():\n",
    "        tf_dict[word] = count/float(bow_count)\n",
    "    \n",
    "    return tf_dict"
   ]
  },
  {
   "cell_type": "code",
   "execution_count": 82,
   "id": "3d294987",
   "metadata": {},
   "outputs": [
    {
     "data": {
      "text/plain": [
       "{'sat': 0.16666666666666666,\n",
       " 'cat': 0.16666666666666666,\n",
       " 'face': 0.16666666666666666,\n",
       " 'dog': 0.0,\n",
       " 'bed': 0.0,\n",
       " 'on': 0.16666666666666666,\n",
       " 'The': 0.16666666666666666,\n",
       " 'my': 0.16666666666666666}"
      ]
     },
     "execution_count": 82,
     "metadata": {},
     "output_type": "execute_result"
    }
   ],
   "source": [
    "tf_bow_a = computeTF(--------------------------, --------------------------)\n",
    "tf_bow_a"
   ]
  },
  {
   "cell_type": "code",
   "execution_count": 83,
   "id": "5aa9fac8",
   "metadata": {},
   "outputs": [
    {
     "data": {
      "text/plain": [
       "{'sat': 0.16666666666666666,\n",
       " 'cat': 0.0,\n",
       " 'face': 0.0,\n",
       " 'dog': 0.16666666666666666,\n",
       " 'bed': 0.16666666666666666,\n",
       " 'on': 0.16666666666666666,\n",
       " 'The': 0.16666666666666666,\n",
       " 'my': 0.16666666666666666}"
      ]
     },
     "execution_count": 83,
     "metadata": {},
     "output_type": "execute_result"
    }
   ],
   "source": [
    "tf_bow_b = computeTF(--------------------------, --------------------------)\n",
    "tf_bow_b"
   ]
  },
  {
   "cell_type": "markdown",
   "id": "ae2b47c2",
   "metadata": {},
   "source": [
    "### Compute IDF\n",
    "\n",
    "![alt text](idf.png \"IDF Formula\")"
   ]
  },
  {
   "cell_type": "code",
   "execution_count": 88,
   "id": "0e9e1890",
   "metadata": {},
   "outputs": [],
   "source": [
    "def computeIDF(doc_list):\n",
    "    idf_dict = {}\n",
    "    \n",
    "    N = len(doc_list)\n",
    "    \n",
    "    idf_dict = dict.fromkeys(doc_list[0].keys(), 0)\n",
    "    for doc in doc_list:\n",
    "        for word, val in doc.items():\n",
    "            if val > 0:\n",
    "                idf_dict[word] += 1\n",
    "            \n",
    "    \n",
    "    for word, val in idf_dict.items():\n",
    "        idf_dict[word] = math.log10(N / float(val))\n",
    "        \n",
    "    return idf_dict   "
   ]
  },
  {
   "cell_type": "code",
   "execution_count": 89,
   "id": "84ee31bb",
   "metadata": {},
   "outputs": [],
   "source": [
    "idfs = computeIDF([--------------------------, --------------------------])"
   ]
  },
  {
   "cell_type": "markdown",
   "id": "aa272c73",
   "metadata": {},
   "source": [
    "### Compute TFIDF\n",
    "\n",
    "![alt text](tfidf.png \"TFIDF Formula\")"
   ]
  },
  {
   "cell_type": "code",
   "execution_count": 92,
   "id": "24a96598",
   "metadata": {},
   "outputs": [],
   "source": [
    "def computeTFIDF(tf_bow, idfs):\n",
    "    tfidf = {}\n",
    "    for word, val in tf_bow.items():\n",
    "        tfidf[word] = val*idfs[word]\n",
    "        \n",
    "    return tfidf"
   ]
  },
  {
   "cell_type": "code",
   "execution_count": 104,
   "id": "26ec32e9",
   "metadata": {},
   "outputs": [],
   "source": [
    "tfidf_bow_a = computeTF(--------------------------, --------------------------)\n",
    "tfidf_bow_b = computeTFIDF(--------------------------, --------------------------)"
   ]
  },
  {
   "cell_type": "code",
   "execution_count": 105,
   "id": "f48b56c2",
   "metadata": {},
   "outputs": [
    {
     "data": {
      "text/html": [
       "<div>\n",
       "<style scoped>\n",
       "    .dataframe tbody tr th:only-of-type {\n",
       "        vertical-align: middle;\n",
       "    }\n",
       "\n",
       "    .dataframe tbody tr th {\n",
       "        vertical-align: top;\n",
       "    }\n",
       "\n",
       "    .dataframe thead th {\n",
       "        text-align: right;\n",
       "    }\n",
       "</style>\n",
       "<table border=\"1\" class=\"dataframe\">\n",
       "  <thead>\n",
       "    <tr style=\"text-align: right;\">\n",
       "      <th></th>\n",
       "      <th>sat</th>\n",
       "      <th>cat</th>\n",
       "      <th>face</th>\n",
       "      <th>dog</th>\n",
       "      <th>bed</th>\n",
       "      <th>on</th>\n",
       "      <th>The</th>\n",
       "      <th>my</th>\n",
       "    </tr>\n",
       "  </thead>\n",
       "  <tbody>\n",
       "    <tr>\n",
       "      <th>0</th>\n",
       "      <td>0.020833</td>\n",
       "      <td>0.020833</td>\n",
       "      <td>0.020833</td>\n",
       "      <td>0.000000</td>\n",
       "      <td>0.000000</td>\n",
       "      <td>0.020833</td>\n",
       "      <td>0.020833</td>\n",
       "      <td>0.020833</td>\n",
       "    </tr>\n",
       "    <tr>\n",
       "      <th>1</th>\n",
       "      <td>0.000000</td>\n",
       "      <td>0.000000</td>\n",
       "      <td>0.000000</td>\n",
       "      <td>0.050172</td>\n",
       "      <td>0.050172</td>\n",
       "      <td>0.000000</td>\n",
       "      <td>0.000000</td>\n",
       "      <td>0.000000</td>\n",
       "    </tr>\n",
       "  </tbody>\n",
       "</table>\n",
       "</div>"
      ],
      "text/plain": [
       "        sat       cat      face       dog       bed        on       The  \\\n",
       "0  0.020833  0.020833  0.020833  0.000000  0.000000  0.020833  0.020833   \n",
       "1  0.000000  0.000000  0.000000  0.050172  0.050172  0.000000  0.000000   \n",
       "\n",
       "         my  \n",
       "0  0.020833  \n",
       "1  0.000000  "
      ]
     },
     "execution_count": 105,
     "metadata": {},
     "output_type": "execute_result"
    }
   ],
   "source": [
    "import pandas as pd\n",
    "pd.DataFrame([--------------------------, --------------------------])"
   ]
  }
 ],
 "metadata": {
  "kernelspec": {
   "display_name": "Python 3 (ipykernel)",
   "language": "python",
   "name": "python3"
  },
  "language_info": {
   "codemirror_mode": {
    "name": "ipython",
    "version": 3
   },
   "file_extension": ".py",
   "mimetype": "text/x-python",
   "name": "python",
   "nbconvert_exporter": "python",
   "pygments_lexer": "ipython3",
   "version": "3.9.12"
  }
 },
 "nbformat": 4,
 "nbformat_minor": 5
}
