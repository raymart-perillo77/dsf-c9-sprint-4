{
 "cells": [
  {
   "cell_type": "markdown",
   "id": "2031a0b1",
   "metadata": {},
   "source": [
    "### N-gram using NLTK"
   ]
  },
  {
   "cell_type": "code",
   "execution_count": null,
   "id": "bd3b02ab",
   "metadata": {},
   "outputs": [],
   "source": [
    "import nltk\n",
    "from nltk.util import ngrams\n",
    " \n",
    "# Function to generate n-grams from sentences.\n",
    "def extract_ngrams(data, num):\n",
    "    n_grams = ---------------------(nltk.-------------(data), num)\n",
    "    return [ ' '.join(grams) for grams in n_grams]\n",
    " \n",
    "data = 'A class is a blueprint for the object.'\n",
    " \n",
    "print(\"1-gram: \", extract_ngrams(data, 1))\n",
    "print(\"2-gram: \", extract_ngrams(data, 2))\n",
    "print(\"3-gram: \", extract_ngrams(data, 3))\n",
    "print(\"4-gram: \", extract_ngrams(data, 4))"
   ]
  },
  {
   "cell_type": "markdown",
   "id": "c20b667b",
   "metadata": {},
   "source": [
    "### N-gram using TextBlob"
   ]
  },
  {
   "cell_type": "code",
   "execution_count": null,
   "id": "b830c143",
   "metadata": {},
   "outputs": [],
   "source": [
    "from textblob import TextBlob\n",
    " \n",
    "# Function to generate n-grams from sentences.\n",
    "def extract_ngrams(data, num):\n",
    "    n_grams = ---------------------(data).---------------------(num)\n",
    "    return [ ' '.join(grams) for grams in n_grams]\n",
    " \n",
    "data = 'A class is a blueprint for the object.'\n",
    " \n",
    "print(\"1-gram: \", extract_ngrams(data, 1))\n",
    "print(\"2-gram: \", extract_ngrams(data, 2))\n",
    "print(\"3-gram: \", extract_ngrams(data, 3))\n",
    "print(\"4-gram: \", extract_ngrams(data, 4))"
   ]
  },
  {
   "cell_type": "markdown",
   "id": "848bdf9b",
   "metadata": {},
   "source": [
    "### CountVectorizer"
   ]
  },
  {
   "cell_type": "code",
   "execution_count": null,
   "id": "ce7ed1fa",
   "metadata": {},
   "outputs": [],
   "source": [
    "import pandas as pd\n",
    "from sklearn.feature_extraction.text import CountVectorizer"
   ]
  },
  {
   "cell_type": "code",
   "execution_count": null,
   "id": "d1e975eb",
   "metadata": {},
   "outputs": [],
   "source": [
    "df = pd.read_csv('--------------------')\n",
    "df"
   ]
  },
  {
   "cell_type": "markdown",
   "id": "bbf986f9",
   "metadata": {},
   "source": [
    "### Raw Information"
   ]
  },
  {
   "cell_type": "code",
   "execution_count": null,
   "id": "dce9fdab",
   "metadata": {},
   "outputs": [],
   "source": [
    "text = df['product_description']\n",
    "model = --------------------(ngram_range = (1, 1))\n",
    "matrix = model.--------------------(text).toarray()\n",
    "df_output = pd.DataFrame(data = matrix, columns = model.get_feature_names())\n",
    "df_output.T.tail(5)"
   ]
  },
  {
   "cell_type": "code",
   "execution_count": null,
   "id": "a02b378d",
   "metadata": {},
   "outputs": [],
   "source": [
    "df_output"
   ]
  },
  {
   "cell_type": "markdown",
   "id": "dcf6b892",
   "metadata": {},
   "source": [
    "### Remove stop words"
   ]
  },
  {
   "cell_type": "code",
   "execution_count": null,
   "id": "a43a978b",
   "metadata": {},
   "outputs": [],
   "source": [
    "text = df['product_description']\n",
    "model = --------------------(ngram_range = (1, 1), stop_words='english')\n",
    "matrix = model.--------------------(text).toarray()\n",
    "df_output = pd.DataFrame(data = matrix, columns = model.get_feature_names())\n",
    "df_output.T.tail(5)"
   ]
  },
  {
   "cell_type": "markdown",
   "id": "797ea41d",
   "metadata": {},
   "source": [
    "### Bi-gram"
   ]
  },
  {
   "cell_type": "code",
   "execution_count": null,
   "id": "f022d35d",
   "metadata": {},
   "outputs": [],
   "source": [
    "text = df['product_description']\n",
    "model = --------------------(ngram_range = --------------------, stop_words='english')\n",
    "matrix = model.--------------------(text).toarray()\n",
    "df_output = pd.DataFrame(data = matrix, columns = model.get_feature_names())\n",
    "df_output.T.tail(5)"
   ]
  }
 ],
 "metadata": {
  "kernelspec": {
   "display_name": "Python 3 (ipykernel)",
   "language": "python",
   "name": "python3"
  },
  "language_info": {
   "codemirror_mode": {
    "name": "ipython",
    "version": 3
   },
   "file_extension": ".py",
   "mimetype": "text/x-python",
   "name": "python",
   "nbconvert_exporter": "python",
   "pygments_lexer": "ipython3",
   "version": "3.9.12"
  }
 },
 "nbformat": 4,
 "nbformat_minor": 5
}
