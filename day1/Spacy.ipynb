{
 "cells": [
  {
   "cell_type": "markdown",
   "id": "a84d337e",
   "metadata": {},
   "source": [
    "### Reference: https://spacy.io/"
   ]
  },
  {
   "cell_type": "code",
   "execution_count": 1,
   "id": "dfe2e910",
   "metadata": {},
   "outputs": [
    {
     "name": "stdout",
     "output_type": "stream",
     "text": [
      "Requirement already satisfied: spacy in c:\\users\\jac\\anaconda3\\lib\\site-packages (3.3.1)\n",
      "Requirement already satisfied: numpy>=1.15.0 in c:\\users\\jac\\anaconda3\\lib\\site-packages (from spacy) (1.21.5)\n",
      "Requirement already satisfied: catalogue<2.1.0,>=2.0.6 in c:\\users\\jac\\anaconda3\\lib\\site-packages (from spacy) (2.0.7)\n",
      "Requirement already satisfied: murmurhash<1.1.0,>=0.28.0 in c:\\users\\jac\\anaconda3\\lib\\site-packages (from spacy) (1.0.7)\n",
      "Requirement already satisfied: blis<0.8.0,>=0.4.0 in c:\\users\\jac\\anaconda3\\lib\\site-packages (from spacy) (0.7.8)\n",
      "Requirement already satisfied: srsly<3.0.0,>=2.4.3 in c:\\users\\jac\\anaconda3\\lib\\site-packages (from spacy) (2.4.3)\n",
      "Requirement already satisfied: packaging>=20.0 in c:\\users\\jac\\anaconda3\\lib\\site-packages (from spacy) (21.3)\n",
      "Requirement already satisfied: pydantic!=1.8,!=1.8.1,<1.9.0,>=1.7.4 in c:\\users\\jac\\anaconda3\\lib\\site-packages (from spacy) (1.8.2)\n",
      "Requirement already satisfied: thinc<8.1.0,>=8.0.14 in c:\\users\\jac\\anaconda3\\lib\\site-packages (from spacy) (8.0.17)\n",
      "Requirement already satisfied: preshed<3.1.0,>=3.0.2 in c:\\users\\jac\\anaconda3\\lib\\site-packages (from spacy) (3.0.6)\n",
      "Requirement already satisfied: tqdm<5.0.0,>=4.38.0 in c:\\users\\jac\\anaconda3\\lib\\site-packages (from spacy) (4.64.0)\n",
      "Requirement already satisfied: langcodes<4.0.0,>=3.2.0 in c:\\users\\jac\\anaconda3\\lib\\site-packages (from spacy) (3.3.0)\n",
      "Requirement already satisfied: spacy-legacy<3.1.0,>=3.0.9 in c:\\users\\jac\\anaconda3\\lib\\site-packages (from spacy) (3.0.9)\n",
      "Requirement already satisfied: spacy-loggers<2.0.0,>=1.0.0 in c:\\users\\jac\\anaconda3\\lib\\site-packages (from spacy) (1.0.2)\n",
      "Requirement already satisfied: cymem<2.1.0,>=2.0.2 in c:\\users\\jac\\anaconda3\\lib\\site-packages (from spacy) (2.0.6)\n",
      "Requirement already satisfied: typer<0.5.0,>=0.3.0 in c:\\users\\jac\\anaconda3\\lib\\site-packages (from spacy) (0.4.2)\n",
      "Requirement already satisfied: setuptools in c:\\users\\jac\\anaconda3\\lib\\site-packages (from spacy) (61.2.0)\n",
      "Requirement already satisfied: requests<3.0.0,>=2.13.0 in c:\\users\\jac\\anaconda3\\lib\\site-packages (from spacy) (2.27.1)\n",
      "Requirement already satisfied: wasabi<1.1.0,>=0.9.1 in c:\\users\\jac\\anaconda3\\lib\\site-packages (from spacy) (0.9.1)\n",
      "Requirement already satisfied: pathy>=0.3.5 in c:\\users\\jac\\anaconda3\\lib\\site-packages (from spacy) (0.6.2)\n",
      "Requirement already satisfied: jinja2 in c:\\users\\jac\\anaconda3\\lib\\site-packages (from spacy) (2.11.3)\n",
      "Requirement already satisfied: pyparsing!=3.0.5,>=2.0.2 in c:\\users\\jac\\anaconda3\\lib\\site-packages (from packaging>=20.0->spacy) (3.0.4)\n",
      "Requirement already satisfied: smart-open<6.0.0,>=5.2.1 in c:\\users\\jac\\anaconda3\\lib\\site-packages (from pathy>=0.3.5->spacy) (5.2.1)\n",
      "Requirement already satisfied: typing-extensions>=3.7.4.3 in c:\\users\\jac\\anaconda3\\lib\\site-packages (from pydantic!=1.8,!=1.8.1,<1.9.0,>=1.7.4->spacy) (4.1.1)\n",
      "Requirement already satisfied: charset-normalizer~=2.0.0 in c:\\users\\jac\\anaconda3\\lib\\site-packages (from requests<3.0.0,>=2.13.0->spacy) (2.0.4)\n",
      "Requirement already satisfied: urllib3<1.27,>=1.21.1 in c:\\users\\jac\\anaconda3\\lib\\site-packages (from requests<3.0.0,>=2.13.0->spacy) (1.26.9)\n",
      "Requirement already satisfied: certifi>=2017.4.17 in c:\\users\\jac\\anaconda3\\lib\\site-packages (from requests<3.0.0,>=2.13.0->spacy) (2021.10.8)\n",
      "Requirement already satisfied: idna<4,>=2.5 in c:\\users\\jac\\anaconda3\\lib\\site-packages (from requests<3.0.0,>=2.13.0->spacy) (3.3)\n",
      "Requirement already satisfied: colorama in c:\\users\\jac\\anaconda3\\lib\\site-packages (from tqdm<5.0.0,>=4.38.0->spacy) (0.4.4)\n",
      "Requirement already satisfied: click<9.0.0,>=7.1.1 in c:\\users\\jac\\anaconda3\\lib\\site-packages (from typer<0.5.0,>=0.3.0->spacy) (8.0.4)\n",
      "Requirement already satisfied: MarkupSafe>=0.23 in c:\\users\\jac\\anaconda3\\lib\\site-packages (from jinja2->spacy) (2.0.1)\n",
      "Collecting en-core-web-lg==3.3.0\n",
      "  Downloading https://github.com/explosion/spacy-models/releases/download/en_core_web_lg-3.3.0/en_core_web_lg-3.3.0-py3-none-any.whl (400.7 MB)\n",
      "Requirement already satisfied: spacy<3.4.0,>=3.3.0.dev0 in c:\\users\\jac\\anaconda3\\lib\\site-packages (from en-core-web-lg==3.3.0) (3.3.1)\n",
      "Requirement already satisfied: packaging>=20.0 in c:\\users\\jac\\anaconda3\\lib\\site-packages (from spacy<3.4.0,>=3.3.0.dev0->en-core-web-lg==3.3.0) (21.3)\n",
      "Requirement already satisfied: langcodes<4.0.0,>=3.2.0 in c:\\users\\jac\\anaconda3\\lib\\site-packages (from spacy<3.4.0,>=3.3.0.dev0->en-core-web-lg==3.3.0) (3.3.0)\n",
      "Requirement already satisfied: wasabi<1.1.0,>=0.9.1 in c:\\users\\jac\\anaconda3\\lib\\site-packages (from spacy<3.4.0,>=3.3.0.dev0->en-core-web-lg==3.3.0) (0.9.1)\n",
      "Requirement already satisfied: pathy>=0.3.5 in c:\\users\\jac\\anaconda3\\lib\\site-packages (from spacy<3.4.0,>=3.3.0.dev0->en-core-web-lg==3.3.0) (0.6.2)\n",
      "Requirement already satisfied: thinc<8.1.0,>=8.0.14 in c:\\users\\jac\\anaconda3\\lib\\site-packages (from spacy<3.4.0,>=3.3.0.dev0->en-core-web-lg==3.3.0) (8.0.17)\n",
      "Requirement already satisfied: requests<3.0.0,>=2.13.0 in c:\\users\\jac\\anaconda3\\lib\\site-packages (from spacy<3.4.0,>=3.3.0.dev0->en-core-web-lg==3.3.0) (2.27.1)\n",
      "Requirement already satisfied: spacy-loggers<2.0.0,>=1.0.0 in c:\\users\\jac\\anaconda3\\lib\\site-packages (from spacy<3.4.0,>=3.3.0.dev0->en-core-web-lg==3.3.0) (1.0.2)\n",
      "Requirement already satisfied: numpy>=1.15.0 in c:\\users\\jac\\anaconda3\\lib\\site-packages (from spacy<3.4.0,>=3.3.0.dev0->en-core-web-lg==3.3.0) (1.21.5)\n",
      "Requirement already satisfied: srsly<3.0.0,>=2.4.3 in c:\\users\\jac\\anaconda3\\lib\\site-packages (from spacy<3.4.0,>=3.3.0.dev0->en-core-web-lg==3.3.0) (2.4.3)\n",
      "Requirement already satisfied: preshed<3.1.0,>=3.0.2 in c:\\users\\jac\\anaconda3\\lib\\site-packages (from spacy<3.4.0,>=3.3.0.dev0->en-core-web-lg==3.3.0) (3.0.6)\n",
      "Requirement already satisfied: catalogue<2.1.0,>=2.0.6 in c:\\users\\jac\\anaconda3\\lib\\site-packages (from spacy<3.4.0,>=3.3.0.dev0->en-core-web-lg==3.3.0) (2.0.7)\n",
      "Requirement already satisfied: cymem<2.1.0,>=2.0.2 in c:\\users\\jac\\anaconda3\\lib\\site-packages (from spacy<3.4.0,>=3.3.0.dev0->en-core-web-lg==3.3.0) (2.0.6)\n",
      "Requirement already satisfied: typer<0.5.0,>=0.3.0 in c:\\users\\jac\\anaconda3\\lib\\site-packages (from spacy<3.4.0,>=3.3.0.dev0->en-core-web-lg==3.3.0) (0.4.2)\n",
      "Requirement already satisfied: tqdm<5.0.0,>=4.38.0 in c:\\users\\jac\\anaconda3\\lib\\site-packages (from spacy<3.4.0,>=3.3.0.dev0->en-core-web-lg==3.3.0) (4.64.0)\n",
      "Requirement already satisfied: blis<0.8.0,>=0.4.0 in c:\\users\\jac\\anaconda3\\lib\\site-packages (from spacy<3.4.0,>=3.3.0.dev0->en-core-web-lg==3.3.0) (0.7.8)\n",
      "Requirement already satisfied: setuptools in c:\\users\\jac\\anaconda3\\lib\\site-packages (from spacy<3.4.0,>=3.3.0.dev0->en-core-web-lg==3.3.0) (61.2.0)\n",
      "Requirement already satisfied: jinja2 in c:\\users\\jac\\anaconda3\\lib\\site-packages (from spacy<3.4.0,>=3.3.0.dev0->en-core-web-lg==3.3.0) (2.11.3)\n",
      "Requirement already satisfied: murmurhash<1.1.0,>=0.28.0 in c:\\users\\jac\\anaconda3\\lib\\site-packages (from spacy<3.4.0,>=3.3.0.dev0->en-core-web-lg==3.3.0) (1.0.7)\n",
      "Requirement already satisfied: spacy-legacy<3.1.0,>=3.0.9 in c:\\users\\jac\\anaconda3\\lib\\site-packages (from spacy<3.4.0,>=3.3.0.dev0->en-core-web-lg==3.3.0) (3.0.9)\n",
      "Requirement already satisfied: pydantic!=1.8,!=1.8.1,<1.9.0,>=1.7.4 in c:\\users\\jac\\anaconda3\\lib\\site-packages (from spacy<3.4.0,>=3.3.0.dev0->en-core-web-lg==3.3.0) (1.8.2)\n",
      "Requirement already satisfied: pyparsing!=3.0.5,>=2.0.2 in c:\\users\\jac\\anaconda3\\lib\\site-packages (from packaging>=20.0->spacy<3.4.0,>=3.3.0.dev0->en-core-web-lg==3.3.0) (3.0.4)\n",
      "Requirement already satisfied: smart-open<6.0.0,>=5.2.1 in c:\\users\\jac\\anaconda3\\lib\\site-packages (from pathy>=0.3.5->spacy<3.4.0,>=3.3.0.dev0->en-core-web-lg==3.3.0) (5.2.1)\n",
      "Requirement already satisfied: typing-extensions>=3.7.4.3 in c:\\users\\jac\\anaconda3\\lib\\site-packages (from pydantic!=1.8,!=1.8.1,<1.9.0,>=1.7.4->spacy<3.4.0,>=3.3.0.dev0->en-core-web-lg==3.3.0) (4.1.1)\n",
      "Requirement already satisfied: charset-normalizer~=2.0.0 in c:\\users\\jac\\anaconda3\\lib\\site-packages (from requests<3.0.0,>=2.13.0->spacy<3.4.0,>=3.3.0.dev0->en-core-web-lg==3.3.0) (2.0.4)\n",
      "Requirement already satisfied: certifi>=2017.4.17 in c:\\users\\jac\\anaconda3\\lib\\site-packages (from requests<3.0.0,>=2.13.0->spacy<3.4.0,>=3.3.0.dev0->en-core-web-lg==3.3.0) (2021.10.8)\n",
      "Requirement already satisfied: urllib3<1.27,>=1.21.1 in c:\\users\\jac\\anaconda3\\lib\\site-packages (from requests<3.0.0,>=2.13.0->spacy<3.4.0,>=3.3.0.dev0->en-core-web-lg==3.3.0) (1.26.9)\n",
      "Requirement already satisfied: idna<4,>=2.5 in c:\\users\\jac\\anaconda3\\lib\\site-packages (from requests<3.0.0,>=2.13.0->spacy<3.4.0,>=3.3.0.dev0->en-core-web-lg==3.3.0) (3.3)\n",
      "Requirement already satisfied: colorama in c:\\users\\jac\\anaconda3\\lib\\site-packages (from tqdm<5.0.0,>=4.38.0->spacy<3.4.0,>=3.3.0.dev0->en-core-web-lg==3.3.0) (0.4.4)\n",
      "Requirement already satisfied: click<9.0.0,>=7.1.1 in c:\\users\\jac\\anaconda3\\lib\\site-packages (from typer<0.5.0,>=0.3.0->spacy<3.4.0,>=3.3.0.dev0->en-core-web-lg==3.3.0) (8.0.4)\n",
      "Requirement already satisfied: MarkupSafe>=0.23 in c:\\users\\jac\\anaconda3\\lib\\site-packages (from jinja2->spacy<3.4.0,>=3.3.0.dev0->en-core-web-lg==3.3.0) (2.0.1)\n",
      "[+] Download and installation successful\n",
      "You can now load the package via spacy.load('en_core_web_lg')\n"
     ]
    }
   ],
   "source": [
    "# !pip install spacy\n",
    "# !python -m spacy download en_core_web_lg"
   ]
  },
  {
   "cell_type": "code",
   "execution_count": 2,
   "id": "e1f0b598",
   "metadata": {
    "scrolled": false
   },
   "outputs": [
    {
     "name": "stdout",
     "output_type": "stream",
     "text": [
      "Requirement already satisfied: spacy-langdetect in c:\\users\\jac\\anaconda3\\lib\\site-packages (0.1.2)\n",
      "Requirement already satisfied: pytest in c:\\users\\jac\\anaconda3\\lib\\site-packages (from spacy-langdetect) (7.1.1)\n",
      "Requirement already satisfied: langdetect==1.0.7 in c:\\users\\jac\\anaconda3\\lib\\site-packages (from spacy-langdetect) (1.0.7)\n",
      "Requirement already satisfied: six in c:\\users\\jac\\anaconda3\\lib\\site-packages (from langdetect==1.0.7->spacy-langdetect) (1.16.0)\n",
      "Requirement already satisfied: attrs>=19.2.0 in c:\\users\\jac\\anaconda3\\lib\\site-packages (from pytest->spacy-langdetect) (21.4.0)\n",
      "Requirement already satisfied: iniconfig in c:\\users\\jac\\anaconda3\\lib\\site-packages (from pytest->spacy-langdetect) (1.1.1)\n",
      "Requirement already satisfied: packaging in c:\\users\\jac\\anaconda3\\lib\\site-packages (from pytest->spacy-langdetect) (21.3)\n",
      "Requirement already satisfied: pluggy<2.0,>=0.12 in c:\\users\\jac\\anaconda3\\lib\\site-packages (from pytest->spacy-langdetect) (1.0.0)\n",
      "Requirement already satisfied: py>=1.8.2 in c:\\users\\jac\\anaconda3\\lib\\site-packages (from pytest->spacy-langdetect) (1.11.0)\n",
      "Requirement already satisfied: tomli>=1.0.0 in c:\\users\\jac\\anaconda3\\lib\\site-packages (from pytest->spacy-langdetect) (1.2.2)\n",
      "Requirement already satisfied: atomicwrites>=1.0 in c:\\users\\jac\\anaconda3\\lib\\site-packages (from pytest->spacy-langdetect) (1.4.0)\n",
      "Requirement already satisfied: colorama in c:\\users\\jac\\anaconda3\\lib\\site-packages (from pytest->spacy-langdetect) (0.4.4)\n",
      "Requirement already satisfied: pyparsing!=3.0.5,>=2.0.2 in c:\\users\\jac\\anaconda3\\lib\\site-packages (from packaging->pytest->spacy-langdetect) (3.0.4)\n"
     ]
    }
   ],
   "source": [
    "# !pip install spacy-langdetect"
   ]
  },
  {
   "cell_type": "code",
   "execution_count": 1,
   "id": "6bb37d4a",
   "metadata": {},
   "outputs": [
    {
     "name": "stdout",
     "output_type": "stream",
     "text": [
      "3.3.1\n"
     ]
    }
   ],
   "source": [
    "import spacy\n",
    "print(spacy.__version__)"
   ]
  },
  {
   "cell_type": "code",
   "execution_count": 2,
   "id": "5d20626b",
   "metadata": {},
   "outputs": [],
   "source": [
    "nlp = spacy.load(\"en_core_web_lg\")"
   ]
  },
  {
   "cell_type": "markdown",
   "id": "d46bce3c",
   "metadata": {},
   "source": [
    "### Tokenization"
   ]
  },
  {
   "cell_type": "code",
   "execution_count": 3,
   "id": "d0becc97",
   "metadata": {},
   "outputs": [
    {
     "name": "stdout",
     "output_type": "stream",
     "text": [
      "['I', 'am', 'flying', 'to', 'Manila']\n"
     ]
    }
   ],
   "source": [
    "doc = nlp(\"I am flying to Manila\")\n",
    "print([w.text for w in doc])"
   ]
  },
  {
   "cell_type": "code",
   "execution_count": 4,
   "id": "1f5e1de5",
   "metadata": {},
   "outputs": [
    {
     "name": "stdout",
     "output_type": "stream",
     "text": [
      "I\n",
      "am\n",
      "flying\n",
      "to\n",
      "Manila\n"
     ]
    }
   ],
   "source": [
    "for w in doc:\n",
    "    print(w.text)"
   ]
  },
  {
   "cell_type": "markdown",
   "id": "3c1f5edf",
   "metadata": {},
   "source": [
    "### Lemmatization"
   ]
  },
  {
   "cell_type": "code",
   "execution_count": 5,
   "id": "69952c15",
   "metadata": {},
   "outputs": [
    {
     "name": "stdout",
     "output_type": "stream",
     "text": [
      "this this\n",
      "product product\n",
      "integrates integrate\n",
      "both both\n",
      "libraries library\n",
      "for for\n",
      "downloading download\n",
      "and and\n",
      "applying apply\n",
      "patches patch\n"
     ]
    }
   ],
   "source": [
    "doc = nlp(\"this product integrates both libraries for downloading and applying patches\")\n",
    "for token in doc:\n",
    "    print(token.text, token.lemma_)"
   ]
  },
  {
   "cell_type": "markdown",
   "id": "d903cbcf",
   "metadata": {},
   "source": [
    "### POS tagging"
   ]
  },
  {
   "cell_type": "code",
   "execution_count": 6,
   "id": "ad54fe44",
   "metadata": {},
   "outputs": [
    {
     "name": "stdout",
     "output_type": "stream",
     "text": [
      "I PRON PRP pronoun, personal\n",
      "have AUX VBP verb, non-3rd person singular present\n",
      "flown VERB VBN verb, past participle\n",
      "to ADP IN conjunction, subordinating or preposition\n",
      "Cebu PROPN NNP noun, proper singular\n",
      ". PUNCT . punctuation mark, sentence closer\n",
      "Now ADV RB adverb\n",
      "I PRON PRP pronoun, personal\n",
      "am AUX VBP verb, non-3rd person singular present\n",
      "flying VERB VBG verb, gerund or present participle\n",
      "to ADP IN conjunction, subordinating or preposition\n",
      "Manila PROPN NNP noun, proper singular\n",
      ". PUNCT . punctuation mark, sentence closer\n"
     ]
    }
   ],
   "source": [
    "doc=nlp('I have flown to Cebu. Now I am flying to Manila.')\n",
    "for token in doc:\n",
    "    print(token.text, token.pos_, token.tag_, spacy.explain(token.tag_))"
   ]
  },
  {
   "cell_type": "code",
   "execution_count": 7,
   "id": "841b6a38",
   "metadata": {},
   "outputs": [
    {
     "data": {
      "text/plain": [
       "'noun, proper singular'"
      ]
     },
     "execution_count": 7,
     "metadata": {},
     "output_type": "execute_result"
    }
   ],
   "source": [
    "spacy.explain(\"NNP\")"
   ]
  },
  {
   "cell_type": "markdown",
   "id": "f4374952",
   "metadata": {},
   "source": [
    "### Segmentation"
   ]
  },
  {
   "cell_type": "code",
   "execution_count": 8,
   "id": "febed3a4",
   "metadata": {},
   "outputs": [
    {
     "name": "stdout",
     "output_type": "stream",
     "text": [
      "[I, have, flown, to, Cebu, .]\n",
      "[Now, I, am, flying, to, Manila, .]\n"
     ]
    }
   ],
   "source": [
    "doc=nlp('I have flown to Cebu. Now I am flying to Manila.')\n",
    "for sent in doc.sents:\n",
    "    print([sent[i] for i in range(len(sent))])"
   ]
  },
  {
   "cell_type": "markdown",
   "id": "106c01be",
   "metadata": {},
   "source": [
    "### Retokenization"
   ]
  },
  {
   "cell_type": "code",
   "execution_count": 9,
   "id": "1d121961",
   "metadata": {},
   "outputs": [
    {
     "data": {
      "text/plain": [
       "[The, Golden, State, Bridge, is, an, iconic, landmark, in, San, Francisco]"
      ]
     },
     "execution_count": 9,
     "metadata": {},
     "output_type": "execute_result"
    }
   ],
   "source": [
    "doc=nlp('The Golden State Bridge is an iconic landmark in San Francisco')\n",
    "[doc[i] for i in range(len(doc))]"
   ]
  },
  {
   "cell_type": "code",
   "execution_count": 10,
   "id": "badcd738",
   "metadata": {
    "scrolled": true
   },
   "outputs": [],
   "source": [
    "with doc.retokenize() as retokenizer:\n",
    "    retokenizer.merge(doc[1:4])\n",
    "with doc.retokenize() as retokenizer:\n",
    "    retokenizer.merge(doc[-2:]) # or [7:9]"
   ]
  },
  {
   "cell_type": "code",
   "execution_count": 11,
   "id": "158c3973",
   "metadata": {},
   "outputs": [
    {
     "data": {
      "text/plain": [
       "[The, Golden State Bridge, is, an, iconic, landmark, in, San Francisco]"
      ]
     },
     "execution_count": 11,
     "metadata": {},
     "output_type": "execute_result"
    }
   ],
   "source": [
    "[doc[i] for i in range(len(doc))]"
   ]
  },
  {
   "cell_type": "markdown",
   "id": "7faa39f4",
   "metadata": {},
   "source": [
    "### Syntactic Parsing"
   ]
  },
  {
   "cell_type": "code",
   "execution_count": 12,
   "id": "1782f703",
   "metadata": {},
   "outputs": [
    {
     "name": "stdout",
     "output_type": "stream",
     "text": [
      "I PRON nsubj nominal subject\n",
      "want VERB ROOT root\n",
      "a DET det determiner\n",
      "green ADJ amod adjectival modifier\n",
      "apple NOUN dobj direct object\n",
      ", PUNCT punct punctuation\n"
     ]
    }
   ],
   "source": [
    "doc = nlp('I want a green apple,')\n",
    "for token in doc:\n",
    "    print(token.text, token.pos_, token.dep_, spacy.explain(token.dep_))"
   ]
  },
  {
   "cell_type": "markdown",
   "id": "92777f0c",
   "metadata": {},
   "source": [
    "### Visualizations"
   ]
  },
  {
   "cell_type": "code",
   "execution_count": 13,
   "id": "bc07b496",
   "metadata": {},
   "outputs": [
    {
     "name": "stderr",
     "output_type": "stream",
     "text": [
      "C:\\Anaconda\\lib\\site-packages\\spacy\\displacy\\__init__.py:103: UserWarning: [W011] It looks like you're calling displacy.serve from within a Jupyter notebook or a similar environment. This likely means you're already running a local web server, so there's no need to make displaCy start another one. Instead, you should be able to replace displacy.serve with displacy.render to show the visualization.\n",
      "  warnings.warn(Warnings.W011)\n"
     ]
    },
    {
     "data": {
      "text/html": [
       "<span class=\"tex2jax_ignore\"><!DOCTYPE html>\n",
       "<html lang=\"en\">\n",
       "    <head>\n",
       "        <title>displaCy</title>\n",
       "    </head>\n",
       "\n",
       "    <body style=\"font-size: 16px; font-family: -apple-system, BlinkMacSystemFont, 'Segoe UI', Helvetica, Arial, sans-serif, 'Apple Color Emoji', 'Segoe UI Emoji', 'Segoe UI Symbol'; padding: 4rem 2rem; direction: ltr\">\n",
       "<figure style=\"margin-bottom: 6rem\">\n",
       "<svg xmlns=\"http://www.w3.org/2000/svg\" xmlns:xlink=\"http://www.w3.org/1999/xlink\" xml:lang=\"en\" id=\"01b7792c53ae4bbbb89eef0d4662e712-0\" class=\"displacy\" width=\"925\" height=\"399.5\" direction=\"ltr\" style=\"max-width: none; height: 399.5px; color: #000000; background: #ffffff; font-family: Arial; direction: ltr\">\n",
       "<text class=\"displacy-token\" fill=\"currentColor\" text-anchor=\"middle\" y=\"309.5\">\n",
       "    <tspan class=\"displacy-word\" fill=\"currentColor\" x=\"50\">I</tspan>\n",
       "    <tspan class=\"displacy-tag\" dy=\"2em\" fill=\"currentColor\" x=\"50\">PRON</tspan>\n",
       "</text>\n",
       "\n",
       "<text class=\"displacy-token\" fill=\"currentColor\" text-anchor=\"middle\" y=\"309.5\">\n",
       "    <tspan class=\"displacy-word\" fill=\"currentColor\" x=\"225\">want</tspan>\n",
       "    <tspan class=\"displacy-tag\" dy=\"2em\" fill=\"currentColor\" x=\"225\">VERB</tspan>\n",
       "</text>\n",
       "\n",
       "<text class=\"displacy-token\" fill=\"currentColor\" text-anchor=\"middle\" y=\"309.5\">\n",
       "    <tspan class=\"displacy-word\" fill=\"currentColor\" x=\"400\">a</tspan>\n",
       "    <tspan class=\"displacy-tag\" dy=\"2em\" fill=\"currentColor\" x=\"400\">DET</tspan>\n",
       "</text>\n",
       "\n",
       "<text class=\"displacy-token\" fill=\"currentColor\" text-anchor=\"middle\" y=\"309.5\">\n",
       "    <tspan class=\"displacy-word\" fill=\"currentColor\" x=\"575\">green</tspan>\n",
       "    <tspan class=\"displacy-tag\" dy=\"2em\" fill=\"currentColor\" x=\"575\">ADJ</tspan>\n",
       "</text>\n",
       "\n",
       "<text class=\"displacy-token\" fill=\"currentColor\" text-anchor=\"middle\" y=\"309.5\">\n",
       "    <tspan class=\"displacy-word\" fill=\"currentColor\" x=\"750\">apple,</tspan>\n",
       "    <tspan class=\"displacy-tag\" dy=\"2em\" fill=\"currentColor\" x=\"750\">NOUN</tspan>\n",
       "</text>\n",
       "\n",
       "<g class=\"displacy-arrow\">\n",
       "    <path class=\"displacy-arc\" id=\"arrow-01b7792c53ae4bbbb89eef0d4662e712-0-0\" stroke-width=\"2px\" d=\"M70,264.5 C70,177.0 215.0,177.0 215.0,264.5\" fill=\"none\" stroke=\"currentColor\"/>\n",
       "    <text dy=\"1.25em\" style=\"font-size: 0.8em; letter-spacing: 1px\">\n",
       "        <textPath xlink:href=\"#arrow-01b7792c53ae4bbbb89eef0d4662e712-0-0\" class=\"displacy-label\" startOffset=\"50%\" side=\"left\" fill=\"currentColor\" text-anchor=\"middle\">nsubj</textPath>\n",
       "    </text>\n",
       "    <path class=\"displacy-arrowhead\" d=\"M70,266.5 L62,254.5 78,254.5\" fill=\"currentColor\"/>\n",
       "</g>\n",
       "\n",
       "<g class=\"displacy-arrow\">\n",
       "    <path class=\"displacy-arc\" id=\"arrow-01b7792c53ae4bbbb89eef0d4662e712-0-1\" stroke-width=\"2px\" d=\"M420,264.5 C420,89.5 745.0,89.5 745.0,264.5\" fill=\"none\" stroke=\"currentColor\"/>\n",
       "    <text dy=\"1.25em\" style=\"font-size: 0.8em; letter-spacing: 1px\">\n",
       "        <textPath xlink:href=\"#arrow-01b7792c53ae4bbbb89eef0d4662e712-0-1\" class=\"displacy-label\" startOffset=\"50%\" side=\"left\" fill=\"currentColor\" text-anchor=\"middle\">det</textPath>\n",
       "    </text>\n",
       "    <path class=\"displacy-arrowhead\" d=\"M420,266.5 L412,254.5 428,254.5\" fill=\"currentColor\"/>\n",
       "</g>\n",
       "\n",
       "<g class=\"displacy-arrow\">\n",
       "    <path class=\"displacy-arc\" id=\"arrow-01b7792c53ae4bbbb89eef0d4662e712-0-2\" stroke-width=\"2px\" d=\"M595,264.5 C595,177.0 740.0,177.0 740.0,264.5\" fill=\"none\" stroke=\"currentColor\"/>\n",
       "    <text dy=\"1.25em\" style=\"font-size: 0.8em; letter-spacing: 1px\">\n",
       "        <textPath xlink:href=\"#arrow-01b7792c53ae4bbbb89eef0d4662e712-0-2\" class=\"displacy-label\" startOffset=\"50%\" side=\"left\" fill=\"currentColor\" text-anchor=\"middle\">amod</textPath>\n",
       "    </text>\n",
       "    <path class=\"displacy-arrowhead\" d=\"M595,266.5 L587,254.5 603,254.5\" fill=\"currentColor\"/>\n",
       "</g>\n",
       "\n",
       "<g class=\"displacy-arrow\">\n",
       "    <path class=\"displacy-arc\" id=\"arrow-01b7792c53ae4bbbb89eef0d4662e712-0-3\" stroke-width=\"2px\" d=\"M245,264.5 C245,2.0 750.0,2.0 750.0,264.5\" fill=\"none\" stroke=\"currentColor\"/>\n",
       "    <text dy=\"1.25em\" style=\"font-size: 0.8em; letter-spacing: 1px\">\n",
       "        <textPath xlink:href=\"#arrow-01b7792c53ae4bbbb89eef0d4662e712-0-3\" class=\"displacy-label\" startOffset=\"50%\" side=\"left\" fill=\"currentColor\" text-anchor=\"middle\">dobj</textPath>\n",
       "    </text>\n",
       "    <path class=\"displacy-arrowhead\" d=\"M750.0,266.5 L758.0,254.5 742.0,254.5\" fill=\"currentColor\"/>\n",
       "</g>\n",
       "</svg>\n",
       "</figure>\n",
       "</body>\n",
       "</html></span>"
      ],
      "text/plain": [
       "<IPython.core.display.HTML object>"
      ]
     },
     "metadata": {},
     "output_type": "display_data"
    },
    {
     "name": "stdout",
     "output_type": "stream",
     "text": [
      "\n",
      "Using the 'dep' visualizer\n",
      "Serving on http://0.0.0.0:5000 ...\n",
      "\n",
      "Shutting down server on port 5000.\n"
     ]
    }
   ],
   "source": [
    "from spacy import displacy\n",
    "displacy.serve(doc, style='dep')"
   ]
  },
  {
   "cell_type": "code",
   "execution_count": 18,
   "id": "82b9a9a3",
   "metadata": {},
   "outputs": [
    {
     "name": "stderr",
     "output_type": "stream",
     "text": [
      "C:\\Users\\Raymart L. Perillo\\AppData\\Local\\Temp\\ipykernel_21788\\2441019697.py:1: DeprecationWarning: Importing display from IPython.core.display is deprecated since IPython 7.14, please import from IPython display\n",
      "  from IPython.core.display import display, HTML\n"
     ]
    },
    {
     "data": {
      "text/html": [
       "<span class=\"tex2jax_ignore\"><!DOCTYPE html>\n",
       "<html lang=\"en\">\n",
       "    <head>\n",
       "        <title>displaCy</title>\n",
       "    </head>\n",
       "\n",
       "    <body style=\"font-size: 16px; font-family: -apple-system, BlinkMacSystemFont, 'Segoe UI', Helvetica, Arial, sans-serif, 'Apple Color Emoji', 'Segoe UI Emoji', 'Segoe UI Symbol'; padding: 4rem 2rem; direction: ltr\">\n",
       "<figure style=\"margin-bottom: 6rem\">\n",
       "<div class=\"entities\" style=\"line-height: 2.5; direction: ltr\">I want to fly to \n",
       "<mark class=\"entity\" style=\"background: #feca74; padding: 0.45em 0.6em; margin: 0 0.25em; line-height: 1; border-radius: 0.35em;\">\n",
       "    Manila\n",
       "    <span style=\"font-size: 0.8em; font-weight: bold; line-height: 1; border-radius: 0.35em; vertical-align: middle; margin-left: 0.5rem\">GPE</span>\n",
       "</mark>\n",
       ".</div>\n",
       "</figure>\n",
       "</body>\n",
       "</html></span>"
      ],
      "text/plain": [
       "<IPython.core.display.HTML object>"
      ]
     },
     "metadata": {},
     "output_type": "display_data"
    },
    {
     "data": {
      "text/plain": [
       "<IPython.core.display.HTML object>"
      ]
     },
     "metadata": {},
     "output_type": "display_data"
    }
   ],
   "source": [
    "from IPython.core.display import display, HTML\n",
    "\n",
    "doc = nlp('I want to fly to Manila.')\n",
    "\n",
    "from spacy import displacy\n",
    "html = displacy.render(doc, style=\"ent\", page=True)\n",
    "\n",
    "display(HTML(html))"
   ]
  },
  {
   "cell_type": "code",
   "execution_count": 19,
   "id": "c55be761",
   "metadata": {},
   "outputs": [
    {
     "data": {
      "text/plain": [
       "'Countries, cities, states'"
      ]
     },
     "execution_count": 19,
     "metadata": {},
     "output_type": "execute_result"
    }
   ],
   "source": [
    "spacy.explain(\"GPE\")"
   ]
  },
  {
   "cell_type": "markdown",
   "id": "a80fd8de",
   "metadata": {},
   "source": [
    "### Similarity"
   ]
  },
  {
   "cell_type": "code",
   "execution_count": 20,
   "id": "580b178e",
   "metadata": {},
   "outputs": [],
   "source": [
    "doc = nlp('I want a green apple.')"
   ]
  },
  {
   "cell_type": "code",
   "execution_count": 21,
   "id": "a4ac0a12",
   "metadata": {},
   "outputs": [
    {
     "data": {
      "text/plain": [
       "a green apple"
      ]
     },
     "execution_count": 21,
     "metadata": {},
     "output_type": "execute_result"
    }
   ],
   "source": [
    "doc[2:5]"
   ]
  },
  {
   "cell_type": "code",
   "execution_count": 22,
   "id": "511ec5f9",
   "metadata": {},
   "outputs": [
    {
     "data": {
      "text/plain": [
       "0.8776483424684072"
      ]
     },
     "execution_count": 22,
     "metadata": {},
     "output_type": "execute_result"
    }
   ],
   "source": [
    "doc.similarity(doc[2:5])"
   ]
  },
  {
   "cell_type": "code",
   "execution_count": 23,
   "id": "55f3e285",
   "metadata": {},
   "outputs": [
    {
     "data": {
      "text/plain": [
       "0.5831844567891399"
      ]
     },
     "execution_count": 23,
     "metadata": {},
     "output_type": "execute_result"
    }
   ],
   "source": [
    "nlp('apple').similarity(nlp('banana'))"
   ]
  },
  {
   "cell_type": "code",
   "execution_count": 24,
   "id": "d01c25c7",
   "metadata": {},
   "outputs": [
    {
     "data": {
      "text/plain": [
       "0.1122389807042526"
      ]
     },
     "execution_count": 24,
     "metadata": {},
     "output_type": "execute_result"
    }
   ],
   "source": [
    "nlp('lovelife').similarity(nlp('forever'))"
   ]
  },
  {
   "cell_type": "code",
   "execution_count": 25,
   "id": "845137db",
   "metadata": {},
   "outputs": [
    {
     "data": {
      "text/plain": [
       "array([-3.6391e-01,  4.3771e-01, -2.0447e-01, -2.2889e-01, -1.4227e-01,\n",
       "        2.7396e-01, -1.1435e-02, -1.8578e-01,  3.7361e-01,  7.5339e-01,\n",
       "       -3.0591e-01,  2.3741e-02, -7.7876e-01, -1.3802e-01,  6.6992e-02,\n",
       "       -6.4303e-02, -4.0024e-01,  1.5309e+00, -1.3897e-02, -1.5657e-01,\n",
       "        2.5366e-01,  2.1610e-01, -3.2720e-01,  3.4974e-01, -6.4845e-02,\n",
       "       -2.9501e-01, -6.3923e-01, -6.2017e-02,  2.4559e-01, -6.9334e-02,\n",
       "       -3.9967e-01,  3.0925e-02,  4.9033e-01,  6.7524e-01,  1.9481e-01,\n",
       "        5.1488e-01, -3.1149e-01, -7.9939e-02, -6.2096e-01, -5.3277e-03,\n",
       "       -1.1264e-01,  8.3528e-02, -7.6947e-03, -1.0788e-01,  1.6628e-01,\n",
       "        4.2273e-01, -1.9009e-01, -2.9035e-01,  4.5630e-02,  1.0120e-01,\n",
       "       -4.0855e-01, -3.5000e-01, -3.6175e-01, -4.1396e-01,  5.9485e-01,\n",
       "       -1.1524e+00,  3.2424e-02,  3.4364e-01, -1.9209e-01,  4.3255e-02,\n",
       "        4.9227e-02, -5.4258e-01,  9.1275e-01,  2.9576e-01,  2.3658e-02,\n",
       "       -6.8737e-01, -1.9503e-01, -1.1059e-01, -2.2567e-01,  2.4180e-01,\n",
       "       -3.1230e-01,  4.2700e-01,  8.3952e-02,  2.2703e-01,  3.0581e-01,\n",
       "       -1.7276e-01,  3.2536e-01,  5.4696e-03, -3.2745e-01,  1.9439e-01,\n",
       "        2.2616e-01,  7.4742e-02,  2.2033e-01, -4.0301e-01, -3.1594e-01,\n",
       "       -2.8910e-02,  9.7858e-01,  7.1860e-01,  1.4995e-01,  6.3421e-02,\n",
       "        2.8332e-01, -1.5231e-01,  3.9330e-04,  1.8076e-01, -4.0199e-01,\n",
       "        6.0187e-02, -2.7543e-02,  1.6590e-01, -2.5774e-01,  1.6150e-01,\n",
       "        3.7247e-01, -3.8273e-01,  2.4012e-01, -4.2617e-02, -6.6785e-01,\n",
       "       -9.4437e-01,  2.7916e-01,  1.0476e-01,  1.3952e+00, -1.4296e-01,\n",
       "       -5.5049e-01,  5.3982e-02, -7.7524e-01, -2.8255e-01, -2.3323e-02,\n",
       "        2.4801e-01,  2.2855e-01, -3.7408e-01,  7.6012e-02,  2.4031e-01,\n",
       "        1.0746e-01,  1.2411e-01, -2.0676e-01, -2.5804e-01, -1.6791e-01,\n",
       "        4.3499e-01,  6.1762e-01, -2.9955e-02,  1.6196e-01, -2.9001e-01,\n",
       "       -3.1159e-01, -8.7262e-01,  4.3167e-01, -1.5071e-01, -4.1420e-01,\n",
       "       -5.3730e-01, -1.9910e-01,  1.3270e-01, -1.5018e-01, -4.9335e-01,\n",
       "       -2.5127e+00,  3.1660e-01,  3.6396e-01, -5.9248e-02,  3.1120e-02,\n",
       "        4.1071e-02,  1.6917e-02,  5.8410e-01, -2.0201e-01,  7.0238e-02,\n",
       "        8.7547e-01, -2.0114e-01,  5.1920e-01,  2.6786e-01, -5.5643e-01,\n",
       "       -3.1247e-01, -3.7992e-01,  4.2857e-01,  4.1780e-01,  3.0608e-01,\n",
       "       -2.1657e-01,  7.2464e-01,  6.1734e-01,  5.8085e-02, -6.2708e-01,\n",
       "        5.2895e-02, -2.5628e-01, -3.2688e-01, -6.1280e-01,  6.2609e-01,\n",
       "       -1.7965e-01,  8.8925e-01,  2.1963e-01, -3.4052e-03, -7.8663e-02,\n",
       "        3.4799e-01, -2.6062e-01,  8.0410e-03,  1.1721e-01, -4.5147e-01,\n",
       "       -1.2178e-01, -5.7030e-01,  4.6602e-01,  2.5059e-02,  5.3986e-02,\n",
       "       -7.6693e-01,  1.3173e-01, -2.8776e-02, -4.1915e-01, -2.4415e-01,\n",
       "       -4.0295e-01, -4.1520e-01,  3.7643e-02, -1.4843e-01,  2.6094e-02,\n",
       "        1.5315e-01,  3.8310e-01, -5.5825e-01, -3.3433e-01, -2.7939e-02,\n",
       "       -4.3712e-01, -3.1802e-01, -3.1731e-01,  9.2891e-02, -9.9397e-02,\n",
       "       -1.8846e-01,  5.2270e-02,  2.9061e-01,  1.0639e+00,  9.9584e-02,\n",
       "       -5.6775e-01,  2.9446e-01,  3.7797e-01, -2.1905e-01, -5.2616e-01,\n",
       "       -4.1744e-01, -6.5951e-01, -4.0820e-01, -6.0945e-01,  1.1759e-02,\n",
       "       -2.9122e-01, -3.1457e-01,  5.7076e-02,  4.1503e-01,  3.7345e-01,\n",
       "       -4.7119e-02, -7.1996e-02,  1.4587e-01, -3.0763e-01,  1.0759e-01,\n",
       "       -5.9447e-01, -4.0205e-01,  3.0677e-01, -1.9891e-01, -7.0775e-01,\n",
       "       -1.1513e-01,  3.0866e-01, -6.9235e-01,  2.1219e-01,  1.0554e-01,\n",
       "        2.2617e-01, -2.6145e-01, -3.9298e-01, -2.3585e-01,  3.0795e-02,\n",
       "       -1.0193e-01,  3.2070e-01,  3.0505e-01, -5.3470e-01, -7.9272e-02,\n",
       "       -1.6817e-01, -2.2115e-01, -3.5143e-01, -9.2376e-02,  1.4686e-01,\n",
       "       -1.9859e-01,  2.0460e-01,  2.0276e-01,  3.6144e-01, -3.5867e-01,\n",
       "        4.0095e-01,  6.3686e-02, -1.2763e-01, -1.6226e-01, -3.1763e-01,\n",
       "       -5.8732e-01, -5.4009e-01, -4.9035e-01, -4.6035e-01, -1.9794e-01,\n",
       "       -2.5209e-01,  2.5706e-01,  4.0110e-01,  5.2830e-02, -3.2079e-01,\n",
       "        3.9563e-01, -4.4512e-01, -9.1862e-02, -1.9243e-01,  1.5397e-01,\n",
       "       -2.8923e-01,  6.0561e-01,  5.8133e-01,  3.2268e-01,  6.3892e-02,\n",
       "        8.5438e-02,  1.4956e-01,  3.8134e-01, -1.1820e-01, -2.3951e-01,\n",
       "       -6.7731e-01,  2.8090e-01, -5.1770e-01, -4.1098e-01, -4.1292e-01,\n",
       "       -6.7856e-02, -3.3721e-02, -7.2958e-01, -4.7891e-01,  7.2956e-01],\n",
       "      dtype=float32)"
      ]
     },
     "execution_count": 25,
     "metadata": {},
     "output_type": "execute_result"
    }
   ],
   "source": [
    "nlp('apple').vector"
   ]
  },
  {
   "cell_type": "markdown",
   "id": "d060b2e4",
   "metadata": {},
   "source": [
    "### Language Detection: https://spacy.io/universe/project/spacy-langdetect"
   ]
  },
  {
   "cell_type": "code",
   "execution_count": 26,
   "id": "c78508b0",
   "metadata": {},
   "outputs": [
    {
     "data": {
      "text/plain": [
       "<spacy_langdetect.spacy_langdetect.LanguageDetector at 0x1e8bb714550>"
      ]
     },
     "execution_count": 26,
     "metadata": {},
     "output_type": "execute_result"
    }
   ],
   "source": [
    "import spacy\n",
    "from spacy.language import Language\n",
    "from spacy_langdetect import LanguageDetector\n",
    "\n",
    "def get_lang_detector(nlp, name):\n",
    "    return LanguageDetector()\n",
    "\n",
    "nlp = spacy.load(\"en_core_web_sm\")\n",
    "Language.factory(\"language_detector\", func=get_lang_detector)\n",
    "nlp.add_pipe('language_detector', last=True)"
   ]
  },
  {
   "cell_type": "code",
   "execution_count": 27,
   "id": "37b7a684",
   "metadata": {},
   "outputs": [
    {
     "name": "stdout",
     "output_type": "stream",
     "text": [
      "{'language': 'en', 'score': 0.9999960713524068}\n"
     ]
    }
   ],
   "source": [
    "text = 'This is an english text.'\n",
    "doc = nlp(text)\n",
    "\n",
    "print(doc._.language)"
   ]
  },
  {
   "cell_type": "code",
   "execution_count": 28,
   "id": "823f40b2",
   "metadata": {},
   "outputs": [
    {
     "name": "stdout",
     "output_type": "stream",
     "text": [
      "{'language': 'en', 'score': 0.999996518443436}\n"
     ]
    }
   ],
   "source": [
    "text = 'This is an english text mabuhay'\n",
    "doc = nlp(text)\n",
    "\n",
    "print(doc._.language)"
   ]
  },
  {
   "cell_type": "code",
   "execution_count": 30,
   "id": "2e4d2d31",
   "metadata": {},
   "outputs": [
    {
     "name": "stdout",
     "output_type": "stream",
     "text": [
      "{'language': 'tl', 'score': 0.9999966021631397}\n"
     ]
    }
   ],
   "source": [
    "text = 'magandang gabi!'\n",
    "doc = nlp(text)\n",
    "\n",
    "print(doc._.language)"
   ]
  },
  {
   "cell_type": "code",
   "execution_count": null,
   "id": "c8f1c096",
   "metadata": {},
   "outputs": [],
   "source": []
  }
 ],
 "metadata": {
  "kernelspec": {
   "display_name": "Python 3 (ipykernel)",
   "language": "python",
   "name": "python3"
  },
  "language_info": {
   "codemirror_mode": {
    "name": "ipython",
    "version": 3
   },
   "file_extension": ".py",
   "mimetype": "text/x-python",
   "name": "python",
   "nbconvert_exporter": "python",
   "pygments_lexer": "ipython3",
   "version": "3.9.12"
  }
 },
 "nbformat": 4,
 "nbformat_minor": 5
}
